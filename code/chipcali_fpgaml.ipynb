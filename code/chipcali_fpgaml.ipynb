{
 "cells": [
  {
   "cell_type": "markdown",
   "id": "c1ce4035-3cc4-4592-86d2-052b12394d51",
   "metadata": {},
   "source": [
    "# Chip Calibration Example\n",
    "## Setup\n",
    "## Find the qubit\n",
    "1. One tone spectroscopy (VNA)\n",
    "2. Punch out\n",
    "3. Chevron Pattern\n",
    "## Single qubit calibration\n",
    "4. Amplitude Rabi Oscillation\n",
    "5. Time Rabi Oscillation\n",
    "6. Ramsey\n",
    "7. Stack X90\n",
    "8. Drag Alpha\n",
    "9. Readout frequency optimization by blob separation\n",
    "9. Single qubit randomized benchmarking\n",
    "## Two qubits gate calibration (CR/CNOT)\n",
    "10. Cross resonance scan\n",
    "11. Full XY scan\n",
    "12. CNOT truth table\n",
    "13. Two qubits RB"
   ]
  },
  {
   "cell_type": "markdown",
   "id": "96febb97-ede5-4a5a-8c57-63b5b27b4979",
   "metadata": {},
   "source": [
    "# Setup"
   ]
  },
  {
   "cell_type": "code",
   "execution_count": 1,
   "id": "86623235-3831-439a-abbb-3c424cf20db6",
   "metadata": {},
   "outputs": [
    {
     "name": "stdout",
     "output_type": "stream",
     "text": [
      "sian X4Y2\n"
     ]
    }
   ],
   "source": [
    "chip='X6Y3'\n",
    "chip='X4Y1'\n",
    "chip='X4Y2'\n",
    "board='huracan'\n",
    "board='pinto'\n",
    "board='sian'\n",
    "print(board,chip)"
   ]
  },
  {
   "cell_type": "code",
   "execution_count": 2,
   "id": "236c453c",
   "metadata": {},
   "outputs": [],
   "source": [
    "import numpy as np\n",
    "import matplotlib.pyplot as plt\n",
    "from importlib import reload\n",
    "import time\n",
    "from scipy.optimize import curve_fit,fminbound\n",
    "import json\n",
    "np.set_printoptions(threshold=np.inf)"
   ]
  },
  {
   "cell_type": "code",
   "execution_count": 3,
   "id": "e5fdf167-8987-4eed-b385-783105a7f499",
   "metadata": {},
   "outputs": [
    {
     "name": "stdout",
     "output_type": "stream",
     "text": [
      "sw1 Connected ports: A-C, B-D\n",
      "sw2 Connected ports: A-C, B-D\n",
      "sw3 Connected ports: A-C, B-D\n"
     ]
    }
   ],
   "source": [
    "def rfswitch(board='huracan', chip='X6Y3'):\n",
    "    import switchbox\n",
    "    with open('swcfg.json') as jfile:\n",
    "        swcfg=json.load(jfile)\n",
    "    for sw,dest in swcfg['boardchip'][board][chip].items():\n",
    "        switchbox.connect(url=swcfg['swurl'][sw],dest=dest)\n",
    "    for sw in swcfg['swurl']:\n",
    "        print(sw,switchbox.urlread(swcfg['swurl'][sw]))        \n",
    "rfswitch(board,chip)"
   ]
  },
  {
   "cell_type": "code",
   "execution_count": 4,
   "id": "f9464a3a",
   "metadata": {},
   "outputs": [
    {
     "name": "stdout",
     "output_type": "stream",
     "text": [
      "sw1 Connected ports: A-C, B-D\n",
      "sw2 Connected ports: A-C, B-D\n",
      "sw3 Connected ports: A-C, B-D\n"
     ]
    }
   ],
   "source": [
    "import json\n",
    "import switchbox\n",
    "with open('swcfg.json') as jfile:\n",
    "    swcfg=json.load(jfile)\n",
    "## 'AB' for sync test (Huracan Q0 drive to X4Y2, Sian Q0 drive to X6Y3) ##\n",
    "## 'AC' for normal use (Huracan Q0 drive to X6Y3, Sian Q0 drive to X4Y2) ##\n",
    "switchbox.connect(url=swcfg['swurl']['sw3'],dest='AC')\n",
    "for sw in swcfg['swurl']:\n",
    "    print(sw,switchbox.urlread(swcfg['swurl'][sw]))     "
   ]
  },
  {
   "cell_type": "code",
   "execution_count": 5,
   "id": "8e27783b",
   "metadata": {},
   "outputs": [],
   "source": [
    "from distproc.hwconfig import FPGAConfig, load_channel_configs\n",
    "import qubitconfig.qchip as qc\n",
    "#reload(qc)\n",
    "qchippath='chipcalibration/submodules/qchip/%s/%s/'%(chip,board)\n",
    "qubic3serverport=dict(huracan=9096,pinto=9097,sian=9097)\n",
    "fpga_config = FPGAConfig(**{'fpga_clk_period': 2.e-9, 'alu_instr_clks': 5, \n",
    "                            'jump_cond_clks': 5, 'jump_fproc_clks': 5, \n",
    "                            'pulse_regwrite_clks': 3, 'pulse_load_clks': 4})\n",
    "channel_configs = load_channel_configs(qchippath+'channel_config.json')\n",
    "qchip = qc.QChip(qchippath+'qubitcfg.json')"
   ]
  },
  {
   "cell_type": "code",
   "execution_count": 6,
   "id": "68c5aff8-f28c-42cc-84a2-98c051c0e3af",
   "metadata": {},
   "outputs": [],
   "source": [
    "from distproc import asmparse"
   ]
  },
  {
   "cell_type": "code",
   "execution_count": 7,
   "id": "644280e0",
   "metadata": {},
   "outputs": [],
   "source": [
    "if 0:\n",
    "    import qubic.run\n",
    "    runner = qubic.run.CircuitRunner(commit='f24f1615')"
   ]
  },
  {
   "cell_type": "code",
   "execution_count": 8,
   "id": "8c7435d5-f8a0-4573-a025-908aacfe8edc",
   "metadata": {},
   "outputs": [],
   "source": [
    "if 1:\n",
    "    import qubic.rpc_client as rc\n",
    "    reload(rc)\n",
    "    runner = rc.CircuitRunnerClient(ip='192.168.1.25', port=qubic3serverport[board]) #huracan\n",
    "#runner = rc.CircuitRunnerClient(ip='192.168.1.25', port=9097) #pinto"
   ]
  },
  {
   "cell_type": "code",
   "execution_count": 9,
   "id": "e962b92b",
   "metadata": {},
   "outputs": [],
   "source": [
    "import qubic.job_manager as jm\n",
    "reload(jm)\n",
    "jobman = jm.JobManager(fpga_config, channel_configs, runner, qchip)"
   ]
  },
  {
   "cell_type": "code",
   "execution_count": 10,
   "id": "02c4d87d-b200-4b0d-a5b2-1e0730f7bf08",
   "metadata": {},
   "outputs": [],
   "source": [
    "import qubic.state_disc as sd\n",
    "reload(sd)\n",
    "gmm=sd.GMMManager(load_json=qchippath+'gmm.json')\n",
    "#gmm = sd.GMMManager(qchippath+'Q01gmm.pkl')\n",
    "jobman.update_gmm(gmm)"
   ]
  },
  {
   "cell_type": "code",
   "execution_count": 11,
   "id": "98356627-ae4a-4402-ac98-a85fada7b10f",
   "metadata": {},
   "outputs": [],
   "source": [
    "jobman.gmm_manager.savejson(qchippath+'gmm.json')"
   ]
  },
  {
   "cell_type": "markdown",
   "id": "e614390b-c71e-49ff-8787-3d3f191d444a",
   "metadata": {
    "jp-MarkdownHeadingCollapsed": true
   },
   "source": [
    "# One tone Spectroscopy (VNA)"
   ]
  },
  {
   "cell_type": "code",
   "execution_count": null,
   "id": "0c17695d",
   "metadata": {},
   "outputs": [],
   "source": [
    "from chipcalibration import vna as vn\n",
    "reload(vn)\n",
    "fstart=6.5e9\n",
    "fstop=6.9e9\n",
    "#fstart=6.830e9\n",
    "#fstop=6.846e9\n",
    "#fstart=6000000.3e3\n",
    "#fstop=6000000.9e3\n",
    "vna = vn.Vna(0.04, np.linspace(fstart, fstop, 300), 200)\n",
    "vna.run_and_report(jobman)"
   ]
  },
  {
   "cell_type": "code",
   "execution_count": null,
   "id": "14a838d8-47dd-41de-8d74-531f88aef9a6",
   "metadata": {},
   "outputs": [],
   "source": [
    "%matplotlib inline\n",
    "qchip = qc.QChip(qchippath+'qubitcfg.json')\n",
    "\n",
    "plt.plot(vna.freqs, vna.results['amp'])\n",
    "plt.xlabel('Frequency (Hz)')\n",
    "plt.ylabel('Amplitude (a.u.)')\n",
    "plt.title('S11 Amplitude')\n",
    "plt.show()\n",
    "plt.plot(vna.freqs, np.unwrap(vna.results['phase']),'*-')\n",
    "plt.xlabel('Frequency (Hz)')\n",
    "plt.ylabel('Phase (rad)')\n",
    "plt.title('S11 Phase')\n",
    "plt.show()"
   ]
  },
  {
   "cell_type": "code",
   "execution_count": null,
   "id": "8fa154b0-5800-434b-b619-57706d2df4f0",
   "metadata": {
    "scrolled": true
   },
   "outputs": [],
   "source": [
    "for c in vna._circuits:\n",
    "    for c1 in c:\n",
    "        print(c1)"
   ]
  },
  {
   "cell_type": "code",
   "execution_count": null,
   "id": "306354a7-3979-455f-8a7c-5ce69659956a",
   "metadata": {},
   "outputs": [],
   "source": [
    "asmparse.cmdparse(jobman.raw_asm_progs[0]['7']['cmd_buf'])"
   ]
  },
  {
   "cell_type": "code",
   "execution_count": null,
   "id": "61eb1cea",
   "metadata": {},
   "outputs": [],
   "source": [
    "%matplotlib inline\n",
    "qchip = qc.QChip(qchippath+'qubitcfg.json')\n",
    "\n",
    "plt.plot(vna.freqs, vna.results['amp'])\n",
    "for i in range(8):\n",
    "    x=qchip.qubits['Q%d'%i].readfreq\n",
    "    plt.axvline(x=x,color='black',alpha=0.3)\n",
    "plt.xlabel('Frequency (Hz)')\n",
    "plt.ylabel('Amplitude (a.u.)')\n",
    "plt.title('S11 Amplitude')\n",
    "plt.show()\n",
    "plt.plot(vna.freqs, vna.results['phase'])\n",
    "for i in range(8):\n",
    "    x=qchip.qubits['Q%d'%i].readfreq\n",
    "    plt.axvline(x=x,color='black',alpha=0.3)\n",
    "plt.axvline(x=x,color='black',alpha=0.3)\n",
    "plt.xlabel('Frequency (Hz)')\n",
    "plt.ylabel('Phase (rad)')\n",
    "plt.title('S11 Phase')\n",
    "plt.show()"
   ]
  },
  {
   "cell_type": "code",
   "execution_count": null,
   "id": "74d2b0f4",
   "metadata": {},
   "outputs": [],
   "source": [
    "from chipcalibration import punchout as po\n",
    "import time\n",
    "total_duration = 10 * 60 * 60\n",
    "interval = 6 * 60\n",
    "start_time = time.time()\n",
    "while time.time() - start_time < total_duration:\n",
    "    reload(po)\n",
    "    qubits = ['Q1']\n",
    "    punchout = po.Punchout(qchip, fpga_config, channel_configs, qubits, n_freq=400, freq_bandwidth=6.e6,\n",
    "                        atten_start=10, atten_stop=40, atten_step=1)\n",
    "    punchout.run(runner)\n",
    "    qchip = qc.QChip(qchippath+'/qubitcfg.json')\n",
    "    punchout.run_punchout_gui(qchip)\n",
    "    time.sleep(interval)\n",
    "print(\"Loop completed after 10 hours.\")"
   ]
  },
  {
   "cell_type": "markdown",
   "id": "c12ce5ba-490d-4c15-8298-7eec06367a2a",
   "metadata": {
    "jp-MarkdownHeadingCollapsed": true
   },
   "source": [
    "# Punchout"
   ]
  },
  {
   "cell_type": "code",
   "execution_count": null,
   "id": "bfd731e6",
   "metadata": {},
   "outputs": [],
   "source": [
    "from chipcalibration import punchout as po\n",
    "reload(po)\n",
    "qubits = ['Q%d'%i for i in range(8)]\n",
    "qubits = ['Q1']\n",
    "#qubit_dict = punchout.get_qubit_dict(qubits, qchip)\n",
    "punchout = po.Punchout(qchip, fpga_config, channel_configs, qubits, n_freq=300, freq_bandwidth=20.e6,\n",
    "                       atten_start=10, atten_stop=40, atten_step=3)"
   ]
  },
  {
   "cell_type": "code",
   "execution_count": null,
   "id": "64a96433",
   "metadata": {},
   "outputs": [],
   "source": [
    "punchout.run(runner)"
   ]
  },
  {
   "cell_type": "code",
   "execution_count": null,
   "id": "0e3592d6",
   "metadata": {
    "scrolled": false
   },
   "outputs": [],
   "source": [
    "qchip = qc.QChip(qchippath+'/qubitcfg.json')\n",
    "punchout.run_punchout_gui(qchip)"
   ]
  },
  {
   "cell_type": "code",
   "execution_count": null,
   "id": "596718e9-9a22-438e-9ef9-767771747d64",
   "metadata": {},
   "outputs": [],
   "source": [
    "punchout.run_punchout_gui(qchip)"
   ]
  },
  {
   "cell_type": "code",
   "execution_count": null,
   "id": "4879bf71-8243-4d91-9864-5ecaf25da71e",
   "metadata": {},
   "outputs": [],
   "source": [
    "asmparse.cmdparse"
   ]
  },
  {
   "cell_type": "code",
   "execution_count": null,
   "id": "7cbcfa58-1d6f-47e5-a840-f27cd4ae892b",
   "metadata": {},
   "outputs": [],
   "source": [
    "acq_data_M=jobman.runner.load_and_run_acq(punchout.raw_asm_progs[0],n_total_shots=100, acq_chans={'0':2,'1':0},\n",
    "                                          trig_delay=40e-6,decimator=0)"
   ]
  },
  {
   "cell_type": "code",
   "execution_count": null,
   "id": "d17a24ab-9936-49e6-a5b1-df77dd1c6210",
   "metadata": {},
   "outputs": [],
   "source": [
    "acq_data_M['1']"
   ]
  },
  {
   "cell_type": "code",
   "execution_count": null,
   "id": "d034e922-2ef5-4f42-8f6a-79a961d36bcb",
   "metadata": {},
   "outputs": [],
   "source": [
    "for c in ['0','1']:\n",
    "    plt.xlabel('Time (s)')\n",
    "    plt.ylabel('ACQ buf %s'%c)    \n",
    "    plt.plot(np.arange(0,acq_data_M[c].shape[1]*0.5e-9,0.5e-9)[10:], np.average(acq_data_M[c],axis=0)[10:])\n",
    "    #plt.show()\n",
    "    #plt.plot(np.arange(0,acq_data_M['1'].shape[1]*0.5e-9,0.5e-9)[10:], np.average(acq_data_M['1'],axis=0)[10:])"
   ]
  },
  {
   "cell_type": "markdown",
   "id": "1617179d-b82c-438f-a2a1-a803f96b8ff2",
   "metadata": {
    "jp-MarkdownHeadingCollapsed": true
   },
   "source": [
    "# Alignment"
   ]
  },
  {
   "cell_type": "code",
   "execution_count": 13,
   "id": "39c16acf-0e0e-4c9b-906e-6b9330d6fe71",
   "metadata": {},
   "outputs": [
    {
     "name": "stdout",
     "output_type": "stream",
     "text": [
      "CompiledProgram(program={('Q7.qdrv', 'Q7.rdrv', 'Q7.rdlo'): [{'op': 'phase_reset'}, {'op': 'pulse', 'freq': 5620000000.0, 'phase': 0.0, 'amp': 0.7685246485280147, 'env': {'env_func': 'DRAG', 'paradict': {'alpha': -0.4618209686210466, 'sigmas': 3, 'delta': -268000000.0, 'twidth': 3.2e-08}}, 'start_time': 20005, 'dest': 'Q7.qdrv'}, {'op': 'pulse', 'freq': 5620000000.0, 'phase': 0.0, 'amp': 0.7685246485280147, 'env': {'env_func': 'DRAG', 'paradict': {'alpha': -0.4618209686210466, 'sigmas': 3, 'delta': -268000000.0, 'twidth': 3.2e-08}}, 'start_time': 20021, 'dest': 'Q7.qdrv'}, {'op': 'pulse', 'freq': 6557853333.333334, 'phase': 0.0, 'amp': 0.07, 'env': {'env_func': 'cos_edge_square', 'paradict': {'ramp_fraction': 0.25, 'twidth': 2e-06}}, 'start_time': 20037, 'dest': 'Q7.rdrv'}, {'op': 'pulse', 'freq': 6557853333.333334, 'phase': 0.278797174654013, 'amp': 0.99, 'env': {'env_func': 'arb', 'paradict': {'filename': 'envelope.json', 'twidth': 2e-06}}, 'start_time': 20137, 'dest': 'Q7.rdlo'}, {'op': 'done_stb'}]}, fpga_config=FPGAConfig(fpga_clk_period=2e-09, alu_instr_clks=5, jump_cond_clks=5, jump_fproc_clks=5, pulse_regwrite_clks=3, pulse_load_clks=4))\n",
      "dict_keys(['cmd_buf', 'env_buffers', 'freq_buffers'])\n"
     ]
    }
   ],
   "source": [
    "import qubic.toolchain as tc\n",
    "qchip = qc.QChip(qchippath+'qubitcfg.json')\n",
    "q='Q7'\n",
    "# rmodi={}\n",
    "# rmodi.update({(0,'amp'):1.0})\n",
    "#rmodi.update({(1,'t0'):197.5e-9})\n",
    "#rmodi.update({(0,'env',0,'paradict','alternate_period'):None,(1,'env',0,'paradict','alternate_period'):None})\n",
    "circuit=[]\n",
    "circuit.append({'name': 'delay', 't': 40e-6, 'qubit': q})\n",
    "circuit.append({'name': 'X90', 'qubit': q})\n",
    "circuit.append({'name': 'X90', 'qubit': q})\n",
    "circuit.append({'name': 'read', 'qubit': q})\n",
    "cp=tc.run_compile_stage(circuit,fpga_config,qchip)  # Used to recover start time for phase calculation\n",
    "print(cp)\n",
    "ap=tc.run_assemble_stage(cp,channel_configs)\n",
    "print(ap['0'].keys())"
   ]
  },
  {
   "cell_type": "code",
   "execution_count": null,
   "id": "d48ca329",
   "metadata": {},
   "outputs": [],
   "source": [
    "# import distributed_processor.python.distproc.asmparse as asmparse\n",
    "# asmparse.cmdparse(ap['0']['cmd_buf'])\n",
    "# print(ap['0']['freq_buffers'][1])\n",
    "# asmparse.freqparse(ap['0']['cmd_buf'][1])\n"
   ]
  },
  {
   "cell_type": "code",
   "execution_count": 14,
   "id": "47d16db4-eaee-45e9-aec2-776e6a0d232c",
   "metadata": {},
   "outputs": [],
   "source": [
    "acq_data=jobman.runner.load_and_run_acq(ap,n_total_shots=1, acq_chans={'0':2,'1':3},\n",
    "                                          trig_delay=40e-6,decimator=0)"
   ]
  },
  {
   "cell_type": "code",
   "execution_count": 15,
   "id": "be40094b",
   "metadata": {},
   "outputs": [
    {
     "name": "stdout",
     "output_type": "stream",
     "text": [
      "32767 [[     0  32767      0  32767      0      0      0      0      0      0\n",
      "       0      0      0      0      0      0      0      0      0      0\n",
      "       0      0      0      0      0      0      0      0      0      0\n",
      "       0      0      0      0      0      0      0      0      0      0\n",
      "       0      0      0      0      0      0      0      0      0      0\n",
      "       0      0      0      0      0      0      0      0      0      0\n",
      "       0      0      0      0      0      0      0      0      0      0\n",
      "       0      0      0      0      0      0      0      0      0      0\n",
      "       0      0      0      0      0      0      0      0      0      0\n",
      "       0      0      0      0      0      0      0      0      0      0\n",
      "       0      0      0      0      0      0      0      0      0      0\n",
      "       0      0      0      0      0      0      0      0      0      0\n",
      "       0      0      0      0      0      0      0      0      0      0\n",
      "       0      0      0      0      0      0      0      0      0      0\n",
      "       0      0      0      0      0      0      0      0      0      0\n",
      "       0      0      0      0      0      0      0      0      0      0\n",
      "       0      0      0      0      0      0      0      0      0      0\n",
      "       0      0      0      0      0      0      0      0      0      0\n",
      "       0      0      0      0      0      0      0      0      0      0\n",
      "       0      0      0      0      0      0      0      0      0      0\n",
      "       0      0      0      0      0      0      0      0      0      0\n",
      "       0      0      0      0      0      0      0      0      0      0\n",
      "       0      0      0      0      0      0      0      0      0      0\n",
      "       0      0      0      0      0      0      0      0      0      0\n",
      "       0      0      0      0      0      0      0      0      0      0\n",
      "       0      0      0      0      0      0      0      0      0      0\n",
      "       0      0      0      0      0      0      0      0      0      0\n",
      "       0      0      0      0      0      0      0      0      0      0\n",
      "       0      0      0      0      0      0      0      0      0      0\n",
      "       0      0      0      0      0      0      0      0      0      0\n",
      "       0      0      0      0      0      0      0      0      0      0\n",
      "       0      0      0      0      0      0      0      0      0      0\n",
      "       0      0      0      0      0      0      0      0      0      0\n",
      "       0      0      0      0      0      0      0      0      0      0\n",
      "       0      0      0      0      0      0      0      0      0      0\n",
      "       0      0      0      0      0      0      0      0      0      0\n",
      "       0      0      0      0      0      0      0      0      0      0\n",
      "       0      0      0      0      0      0      0      0      0      0\n",
      "       0      0      0      0      0      0      0      0      0      0\n",
      "       0      0      0      0      0      0      0      0      0      0\n",
      "       0      0      0      0      0      0      0      0      0      0\n",
      "       0      0      0      0      0      0      0      0      0      0\n",
      "       0      0      0      0      0      0      0      0      0      0\n",
      "       0      0      0      0      0      0      0      0      0      0\n",
      "       0      0      0      0      0      0      0      0      0      0\n",
      "       0      0      0      0      0      0      0      0      0      0\n",
      "       0      0      0      0      0      0      0      0      0      0\n",
      "       0      0      0      0      0      0      0      0      0      0\n",
      "       0      0      0      0      0      0      0      0      0      0\n",
      "       0      0      0      0      0      0      0      0      0      0\n",
      "       0      0      0      0      0      0      0      0      0      0\n",
      "       0      0      0      0      0      0      0      0      0      0\n",
      "       0      0      0      0      0      0      0      0      0      0\n",
      "       0      0      0      0      0      0      0      0      0      0\n",
      "       0      0      0      0      0      0      0      0      0      0\n",
      "       0      0      0      0      0      0      0      0      0      0\n",
      "       0      0      0      0      0      0      0      0      0      0\n",
      "       0      0      0      0      0      0      0      0      0      0\n",
      "       0      0      0      0      0      0      0      0      0      0\n",
      "       0      0      0      0      0      0      0      0      0      0\n",
      "       0      0      0      0      0      0      0      0      0      0\n",
      "       0      0      0      0      0      0      0      0      0      0\n",
      "       0      0      0      0      0      0      0      0      0      0\n",
      "       0      0      0      0      0      0      0      0      0      0\n",
      "       0      0      0      0      0      0      0      0      0      0\n",
      "       0      0      0      0      0      0      0      0      0      0\n",
      "       0      0      0      0      0      0      0      0      0      0\n",
      "       0      0      0      0      0      0      0      0      0      0\n",
      "       0      0      0      0      0      0      0      0      0      0\n",
      "       0      0      0      0      0      0      0      0      0      0\n",
      "       0      0      0      0      0      0      0      0      0      0\n",
      "       0      0      0      0      0      0      0      0      0      0\n",
      "       0      0      0      0      0      0      0      0      0      0\n",
      "       0      0      0      0      0      0      0      0      0      0\n",
      "       0      0      0      0      0      0      0      0      0      0\n",
      "       0      0      0      0      0      0      0      0      0      0\n",
      "       0      0      0      0      0      0      0      0     52    715\n",
      "    -312   -603    543    425   -698   -174    705    -26   -697    276\n",
      "     590   -342   -468    510    404   -459   -240    544    106   -834\n",
      "     194    762   -620   -569    824    269   -973    211    895   -536\n",
      "    -602    891    279   -993     71    793   -358   -664    422    317\n",
      "    -538   -124    396    -55   -377    190    261   -343   -139    392\n",
      "     -16   -496    194    424   -443   -304    552    103   -747    228\n",
      "     663   -468   -499    673    255   -766     20    777   -302   -669\n",
      "     513    554   -715   -297    737    155   -795    131    678   -267\n",
      "    -582    476    326   -620   -103    656   -301   -632    528    440\n",
      "    -688   -114    728   -151   -569    338    446   -500   -225    417\n",
      "      73   -444     40    431   -197   -361    359    227   -442    -68\n",
      "     500   -119   -458    283    527   -418   -377    553    197   -792\n",
      "      88    759   -393   -781    674    536   -849   -435   1005     71\n",
      "   -1109    296   1000   -659   -693    855    382   -994    -45    942\n",
      "    -297   -836    673    461   -841   -158   1077   -202  -1005    564\n",
      "     774   -820   -479    992     70   -889    250    798   -667   -714\n",
      "     924    379  -1326     63   1303   -535  -1223    941    882  -1261\n",
      "    -402   1505   -143  -1454    828   1162  -1249   -711   1555    122\n",
      "   -1600    456   1468  -1058  -1087   1450    616  -1639    -25   1647\n",
      "    -451  -1462    978   1108  -1341   -606   1559     41  -1533    418\n",
      "    1381   -919  -1174   1220    731  -1486   -185   1606   -397  -1464\n",
      "     897   1223  -1340   -739   1585     12  -1591    562   1406  -1194\n",
      "    -976   1545    379  -1755    254   1662   -752  -1330   1231    884\n",
      "   -1567   -280   1667   -324  -1589    948   1245  -1399   -681   1818\n",
      "      23  -1827    579   1605  -1161  -1187   1418    628  -1646    -34\n",
      "    1726   -527  -1537   1081   1149  -1464   -621   1687   -115  -1616\n",
      "     698   1362  -1032   -819   1327    338  -1413    201   1339   -687\n",
      "   -1067   1212    627  -1440     75   1411   -587  -1200   1095    886\n",
      "   -1417   -376   1642   -261  -1548    819   1306  -1336   -825   1633\n",
      "     182  -1860    489   1682  -1078  -1224   1519    674  -1762    -20\n",
      "    1767   -621  -1638   1257   1182  -1686   -531   1940   -171  -1879\n",
      "     905   1695  -1520  -1147   1890    477  -2064    267   2010   -781\n",
      "   -1729   1405   1257  -1642   -665   1881     67  -1805    584   1593\n",
      "   -1182  -1311   1655    712  -1782    -72   1807   -582  -1545   1333\n",
      "    1062  -1718   -384   1927   -314  -1815    730   1436  -1250   -985\n",
      "    1383    471  -1554     90   1351   -687  -1104   1085    851  -1569\n",
      "    -285   1670   -334  -1701    948   1357  -1455   -736   1720    113\n",
      "   -1645    444   1483   -981  -1085   1497    543  -1695      0   1759\n",
      "    -637  -1530   1007   1138  -1420   -626   1697    150  -1753    482\n",
      "    1565  -1117  -1162   1536    375  -1888    307   1776   -879  -1464\n",
      "    1407    954  -1582   -333   1701   -283  -1527    874   1210  -1313\n",
      "    -774   1533    219  -1613    413   1458   -941  -1119   1350    505\n",
      "   -1533     48   1623   -660  -1385   1159    968  -1483   -433   1638\n",
      "    -177  -1504    719   1243  -1146   -631   1373    134  -1519    346\n",
      "    1393   -850  -1265   1446    741  -1715    -79   1965   -633  -1738\n",
      "    1086   1327  -1567   -762   1934     61  -1957    646   1632  -1396\n",
      "   -1128   1802    496  -2074    252   1981   -770  -1657   1368   1162\n",
      "   -1845   -516   2030   -219  -2145    859   1833  -1523  -1420   1858\n",
      "     747  -2130     -7   1981   -710  -1725   1318    946  -1661   -346\n",
      "    1710   -391  -1570    957   1277  -1467   -748   1736    140  -1853\n",
      "     529   1661  -1075  -1313   1549    752  -1901     -3   1901   -685\n",
      "   -1599   1251   1146  -1666   -518   2000   -206  -1926   1075   1540\n",
      "   -1633   -951   1926    259  -2021    471   1709  -1072  -1323   1549\n",
      "     858  -1881   -179   1944   -498  -1990   1216   1549  -1834   -757\n",
      "    2107     -6  -2119    740   1850  -1410  -1340   1888    656  -2126\n",
      "     137   2017   -868  -1705   1453   1269  -1912   -579   2128   -268\n",
      "   -2032   1001   1698  -1600  -1121   2004    404  -1903    282   1800\n",
      "    -893  -1452   1416    939  -1603   -218   1681   -391  -1626    981\n",
      "    1270  -1441   -888   1885    205  -1960    506   1740  -1136  -1330\n",
      "    1664    870  -1980   -155   1949   -395  -1808   1047   1578  -1418\n",
      "   -1067   1802    708  -1993     12   1987   -615  -1722   1236   1274\n",
      "   -1637   -710   1892     25  -1995    653   1758  -1290  -1360   1728\n",
      "     734  -1994   -130   1920   -566  -1717   1182   1227  -1627   -640\n",
      "    1909    -79  -1882    758   1883  -1473  -1352   1961    626  -2169\n",
      "     156   2111   -768  -1839   1432   1320  -1919   -647   2152   -132\n",
      "   -2203    942   1861  -1616  -1167   2088    411  -2238    403   2119\n",
      "   -1170  -1698   1814   1055  -2197   -262   2206   -591  -1993   1310\n",
      "    1618  -1860   -947   2201    144  -2111    618   1887  -1283  -1356\n",
      "    1771    714  -1904     50   1885   -733  -1645   1387   1143  -1802\n",
      "    -611   1880    -70  -1856    555   1660  -1156  -1243   1475    674\n",
      "   -1720    -53   1894   -554  -1695   1166   1234  -1773   -595   1987\n",
      "    -117  -1906    805   1614  -1238  -1257   1691    644  -2013   -116\n",
      "    2053   -628  -1813   1404   1305  -1877   -538   2191   -256  -2100\n",
      "     949   1768  -1589  -1194   2146    594  -2362    258   2335  -1115\n",
      "   -1933   1812   1325  -2456   -439   2613   -368  -2504   1272   2043\n",
      "   -2083  -1329   2562    402  -2683    452   2518  -1363  -2015   1948\n",
      "    1310  -2423   -325   2591   -613  -2371   1568   1565  -2135   -795\n",
      "    2492     81  -2522    829   2319  -1678  -1714   2296    781  -2557\n",
      "     142   2504   -839  -2284   1663   1681  -2249   -759   2522   -155\n",
      "   -2522   1221   2079  -1974  -1475   2553    551  -2753    289   2761\n",
      "   -1288  -2297   2127   1620  -2714   -641   3118   -633  -2890   1677\n",
      "    2319  -2525  -1407   3032    253  -3239    917   2906  -1946  -2127\n",
      "    2714   1145  -2866   -188   2933   -873  -2829   1832   2165  -2616\n",
      "   -1348   3206    187  -3276   1155   2820  -2176  -2035   2946    935\n",
      "   -3285    251   3177  -1419  -2666   2381   1942  -3125   -814   3417\n",
      "    -440  -3371   1657   2770  -2677  -1956   3383    732  -3782    465\n",
      "    3612  -1773  -3023   2896   1974  -3611   -689   3982   -752  -3712\n",
      "    2135   3177  -3285  -1991   4123    596  -4340    972   4029  -2587\n",
      "   -3095   3704   1777  -4404   -187   4471  -1429  -4033   2885   2989\n",
      "   -4058  -1546   4615   -124  -4836   1619   4249  -3156  -3291   4289\n",
      "    1739  -4919    -88   5028  -1730  -4404   3265   3229  -4434  -1628\n",
      "    5058   -279  -4959   2070   4252  -3524  -2979   4600   1358  -4989\n",
      "     444   4827  -2186  -4156   3687   2822  -4738  -1213   5175   -659\n",
      "   -5021   2677   4052  -4143  -2517   5069    683  -5317   1125   4769\n",
      "   -2850  -3740   4165   2168  -4950   -381   5027  -1454  -4503   3080\n",
      "    3474  -4484  -1855   5153    110  -5222   1776   4579  -3440  -3417\n",
      "    4674   1726  -5365    182   5297  -2099  -4541   3712   3198  -4869\n",
      "   -1449   5571   -566  -5368   2537   4628  -4212  -3107   5441   1130\n",
      "   -5851    984   5637  -2944  -4575   4596   3066  -5879   -942   6218\n",
      "   -1466  -5776   3552   4490  -5182  -2862   6215    614  -6581   1835\n",
      "    5916  -3975  -4314   5570   2299  -6402     77   6659  -2485  -5762\n",
      "    4524   4104  -6009  -1933   6764   -525  -6576   2901   5443  -5011\n",
      "   -3633   6323   1444  -7037   1099   6638  -3604  -5565   5615   3534\n",
      "   -7137   -939   7475  -1764  -7040   4263   5497  -6252  -3192   7472\n",
      "     490  -7651   2075   6937  -4584  -5281   6526   2780  -7533    -59\n",
      "    7481  -2638  -6529   4997   4536  -6595  -2154   7372   -527  -7091\n",
      "    3089   5973  -5306  -4104   6789   1649  -7512   1065   7125  -3642\n",
      "   -5686   5729   3614  -7038   -990   7498  -1722  -6877   4229   5421\n",
      "   -6190  -3185   7448    518  -7637   2241   6977  -4816  -5237   6708\n",
      "    2831  -7931     34   7917  -3151  -6787   5603   4760  -7247  -2013\n",
      "    7973   -870  -7512   3576   6218  -5825  -4040   7531   1316  -8008\n",
      "    1646   7556  -4379  -5975   6615   3636  -7931   -771   8205  -2145\n",
      "   -7431   4830   5766  -6966  -3249   8139    134  -8218   2835   7191\n",
      "   -5477  -5155   7339   2500  -8302    404   8155  -3354  -6956   5910\n",
      "    4818  -7653  -2163   8408   -878  -8092   3792   6757  -6236  -4505\n",
      "    7906   1541  -8465   1517   7854  -4346  -6285   6616   3948  -7989\n",
      "   -1061   8371  -1951  -7811   4773   6084  -6977  -3586   8272    594\n",
      "   -8646   2600   7705  -5387  -5893   7537   3167  -8683     -6   8763\n",
      "   -3163  -7621   5988   5474  -7968  -2595   8933   -762  -8659   3890\n",
      "    7266  -6580  -4889   8346   1713  -9189   1607   8607  -4606  -7061\n",
      "    7157   4473  -8875  -1367   9367  -2021  -8765   5338   6833  -7810\n",
      "   -4093   9279    738  -9547   2622   8802  -5806  -6705   8308   3728\n",
      "   -9657   -239   9726  -3374  -8508   6448   6227  -8714  -3078   9825\n",
      "    -478  -9841   4034   8381  -7153  -5788   9243   2445 -10140   1190\n",
      "    9709  -4701  -8050   7698   5265  -9603  -1741  10406  -2023  -9677\n",
      "    5705   7758  -8511  -4683  10278    977 -10633   2865   9594  -6393\n",
      "   -7285   9025   3973 -10686   -111  10724  -3839  -9469   7260   6843\n",
      "   -9800  -3309  10995   -667 -10801   4844   9048  -8117  -6167  10467\n",
      "    2382 -11330   1842  10710  -5715  -8645   8806   5404 -10762  -1516\n",
      "   11475  -2558 -10552   6370   8468  -9472  -5046  11295   1063 -11547\n",
      "    3110  10421  -6943  -8139   9883   4565 -11543   -422  11694  -3807\n",
      "  -10317   7467   7616 -10222  -3854  11896   -449 -11736   4773  10019\n",
      "   -8397  -6986  10951   3144 -12089   1224  11694  -5640  -9657   9129\n",
      "    6428 -11589  -2241  12397  -2251 -11734   6491   9386  -9959  -5845\n",
      "   12070   1480 -12741   3178  11590  -7370  -8960  10614   5121 -12467\n",
      "    -650  12762  -3965 -11331   8200   8372 -11228  -4315  12851   -351\n",
      "  -12726   4949  10966  -8974  -7724  11765   3648 -13204   1124  12796\n",
      "   -5824 -10632   9665   7137 -12244  -2654  13201  -2120 -12452   6826\n",
      "    9982 -10436  -6201  12899   1536 -13456   3245  12254  -7676  -9481\n",
      "   10957   5464 -12934   -791  13329  -4031 -11874   8322   8670 -11613\n",
      "   -4473  13228   -382 -13172   5142  11312  -9316  -8019  12213   3602\n",
      "  -13563   1318  13085  -6049 -10902  10092   7252 -12716  -2659  13676\n",
      "   -2287 -12851   6751  10367 -10500  -6574  13011   1871 -13690   3075\n",
      "   12648  -7836  -9817  11383   5721 -13662   -784  13943  -4409 -12546\n",
      "    8942   9312 -12274  -4774  13997   -288 -13905   5428  11941  -9747\n",
      "   -8386  12822   3749 -14179   1453  13730  -6418 -11412  10677   7704\n",
      "  -13464  -2839  14701  -2447 -13818   7440  11201 -11677  -6981  14199\n",
      "    1818 -14916   3572  13623  -8603 -10694  12467   6186 -14723   -913\n",
      "   15051  -4530 -13489   9371  10099 -13024  -5414  15224    -92 -15193\n",
      "    5678  13212 -10455  -9434  13798   4435 -15403   1131  14969  -6508\n",
      "  -12618  11067   8619 -14075  -3532  15350  -2075 -14783   7418  12100\n",
      "  -11882  -7857  14720   2534 -15639   3019  14546  -8279 -11588  12600\n",
      "    7031 -15143  -1536  15803  -4179 -14295   9379  10890 -13317  -6078\n",
      "   15663    544 -15862   5188  14023 -10407 -10263  14114   5178 -15980\n",
      "     597  15762  -6365 -13642  11294   9557 -14979  -4401  16568  -1590\n",
      "  -16125   7418  13442 -12279  -9132  15546   3510 -16817   2498  15985\n",
      "   -8278 -12995  12920   8457 -15980  -2683  17146  -3546 -15866   9279\n",
      "   12587 -14000  -7528  16720   1623 -17297   4628  15623 -10170 -12045\n",
      "   14522   6794 -16873   -640  17103  -5544 -15221  11073  11216 -15130\n",
      "   -5728  17356   -548 -17160   6852  14765 -12191 -10361  15861   4603\n",
      "  -17527   1730  16899  -7945 -14029  13014   9396 -16624  -3388  17847\n",
      "   -3018 -16946   9142  13640 -14010  -8662  17139   2465 -17818   3946\n",
      "   16389  -9873 -12884  14361   7690 -17143  -1548  18011  -4965 -16219\n",
      "   10999  12397 -15482  -6802  18075    377 -18214   6205  16142 -12096\n",
      "  -11772  16349   5777 -18644    961  18296  -7553 -15605  13192  10834\n",
      "  -17204  -4554  18848  -2262 -18071   8859  14866 -14235  -9713  17888\n",
      "    3244 -19063   3831  17801 -10268 -14092  15250   8505 -18327  -1883\n",
      "   18865  -4937 -17082  11110  12994 -15891  -7251  18511    505 -18717\n",
      "    6259  16453 -12186 -12076  16550   6092 -18804    693  18551  -7402\n",
      "  -15980  13190  11210 -17245  -5076  19038  -1808 -18386   8444  15287\n",
      "  -13973 -10239  17494   3812 -18874   3008  17766  -9395 -14371  14588\n",
      "    9082 -17936  -2601  18874  -4345 -17466  10657  13611 -15557  -8127\n",
      "   18493   1439 -18894   5366  16952 -11496 -12823  16040   7022 -18581\n",
      "    -253  18857  -6566 -16486  12701  12013 -17046  -5853  19257  -1055\n",
      "  -18878   7877  16118 -13867 -11108  17880   4564 -19640   2534  18722\n",
      "   -9364 -15385  14924   9988 -18686  -3275  19867  -3909 -18548  10590\n",
      "   14718 -15912  -8946  19392   1934 -20094   5331  18403 -11986 -14073\n",
      "   17193   7930 -20062   -680  20490  -6751 -18052  13274  13301 -18075\n",
      "   -6768  20520   -581 -20539   8004  17644 -14521 -12368  18990   5501\n",
      "  -21038   2224  20232  -9540 -16692  15657  11030 -19646  -3911  21188\n",
      "   -3750 -19835  11087  15811 -16804  -9738  20369   2273 -21192   5385\n",
      "   19271 -12236 -14850  17602   8633 -20740  -1138  21149  -6408 -18832\n",
      "   13213  14053 -18422  -7555  21150    -93 -21206   7658  18435 -14325\n",
      "  -13063  19139   6142 -21362   1748  20944  -9321 -17577  15716  11945\n",
      "  -20037  -4705  21669  -3161 -20528  10579  16672 -16726 -10628  20565\n",
      "    3247 -21799   4631  20123 -11834 -15954  17598   9590 -21046  -1992\n",
      "   21764  -5877 -19721  13105  14981 -18523  -8382  21595    573 -21804\n",
      "    7305  19191 -14244 -14044  19363   7044 -21911    874  21714  -8768\n",
      "  -18546  15470  13062 -20240  -5747  22315  -2435 -21544  10221  17847\n",
      "  -16719 -11841  20997   4249 -22715   4094  21233 -11772 -16828  17851\n",
      "   10372 -21603  -2683  22783  -5555 -20777  13220  16248 -19096  -9348\n",
      "   22605   1271 -23067   7065  20617 -14451 -15396  20014   8227 -23128\n",
      "     131  23078  -8331 -20118  15601  14477 -20595  -6924  23096  -1427\n",
      "  -22545   9630  19062 -16523 -13004  21227   5328 -23156   3079  22120\n",
      "  -11078 -18119  17726  11606 -21923  -3683  23292  -4586 -21636  12405\n",
      "   17193 -18692 -10438  22463   2246 -23335   6187  21096 -13754 -16197\n",
      "   19607   9107 -22963   -898  23285  -7522 -20659  14968  15246 -20482\n",
      "   -7825  23504   -675 -23263   9206  19982 -16431 -14045  21575   6281\n",
      "  -23848   2337  23090 -10639 -19246  17594  12763 -22373  -4678  24061\n",
      "   -4042 -22727  12255  18295 -18922 -11562  23099   3210 -24309   5557\n",
      "   22297 -13620 -17531  19939  10320 -23672  -1737  24399  -7085 -21841\n",
      "   15026  16525 -21001  -8935  24246    305 -24359   8498  21394 -16264\n",
      "  -15517  21870   7750 -24982   1278  24517 -10246 -20946  17815  14504\n",
      "  -23002  -6301  25278  -2839 -24327  11710  20091 -18976 -13228  23960\n",
      "    4564 -25612   4707  23981 -13379 -19147  20268  11980 -24601  -3090\n",
      "   25579  -6107 -23374  14554  18127 -21124 -10493  24915   1343 -25476\n",
      "    7864  22631 -16011 -17093  22188   9070 -25356     48  25336  -9209\n",
      "  -22104  17125  15911 -22878  -7693  25647  -1581 -25078  10684  21250\n",
      "  -18368 -14613  23650   5866 -25772   3448  24344 -12332 -19889  19519\n",
      "   12926 -24179  -4187  25690  -5078 -23857  13699  18902 -20233 -11409\n",
      "   24355   2603 -25325   6483  22979 -14792 -17622  21089   9996 -24705\n",
      "   -1090  25161  -8008 -22268  15973  16501 -21941  -8572  25004   -425\n",
      "  -24853   9406  21368 -17064 -15202  22557   7079 -25216   2034  24479\n",
      "  -10981 -20623  18433  13958 -23526  -5527  25522  -3701 -24282  12617\n",
      "   19718 -19748 -12534  24603   3637 -25920   5785  23907 -14430 -18694\n",
      "   21280  11053 -25279  -1918  25928  -7567 -23195  15949  17386 -22348\n",
      "   -9309  25711    -84 -25952   9463  22529 -17488 -16284  23373   7833\n",
      "  -26097   1728  25470 -10938 -21292  18711  14526 -23964  -5857  26100\n",
      "   -3580 -24809  12605  20347 -19963 -13134  24966   4318 -26530   5270\n",
      "   24683 -14147 -19571  21219  12032 -25539  -2802  26549  -6758 -24165\n",
      "   15491  18563 -22165 -10766  26054   1346 -26515   8378  23484 -16869\n",
      "  -17299  23283   8879 -26496    776  26220 -10257 -22515  18506  15867\n",
      "  -24245  -7105  26831  -2802 -25821  12133  21651 -20088 -14392  25288\n",
      "    5187 -27196   4641  25516 -13855 -20522  21271  12831 -25962  -3495\n",
      "   27223  -6347 -24919  15426  19340 -22420 -11225  26541   1627 -27132\n",
      "    8261  24282 -17041 -18125  23664   9774 -27200     55  27156  -9838\n",
      "  -23602  18367  16862 -24673  -7944  27543  -2008 -26802  11694  22572\n",
      "  -19732 -15473  25323   6317 -27457   3512  26185 -12980 -21461  20693\n",
      "   13978 -25749  -4746  27397  -5161 -25535  14292  20379 -21661 -12552\n",
      "   26170   3113 -27298   6753  24807 -15738 -19121  22648  10937 -26618\n",
      "   -1317  27092  -8412 -24072  17111  17884 -23539  -9370  26924   -365\n",
      "  -26820  10108  23164 -18483 -16280  24196   7530 -26922   2187  26193\n",
      "  -11659 -21982  19641  15063 -25089  -5997  27212  -4015 -25763  13325\n",
      "   20989 -21035 -13388  25872   3859 -27430   6055  25238 -15252 -19722\n",
      "   22379  11630 -26643  -2044  27379  -7856 -24513  16793  18439 -23462\n",
      "   -9897  27127     88 -27161   9649  23811 -18258 -17213  24506   8377\n",
      "  -27537   1574  26750 -11457 -22611  19628  15486 -25395  -6308  27673\n",
      "   -3779 -26328  13293  21521 -21233 -13942  26270   4444 -27850   5737\n",
      "   25773 -15057 -20382  22341  12302 -26791  -2782  27736  -7247 -25119\n",
      "   16423  19028 -23303 -10607  27234    671 -27479   9260  24131 -18242\n",
      "  -17539  24580   8692 -27827   1365  27332 -11145 -23298  19564  16224\n",
      "  -25527  -7037  28068  -3113 -26976  12868  22321 -20939 -14862  26399\n",
      "    5316 -28324   4849  26658 -14488 -21423  22129  13569 -27037  -3798\n",
      "   28276  -6360 -25979  15749  20309 -22928 -12023  27271   2163 -28026\n",
      "    7966  25145 -17126 -18989  23987  10316 -27639   -437  27795  -9613\n",
      "  -24398  18295  17781 -24726  -8878  28014  -1252 -27565  11163  23604\n",
      "  -19698 -16486  25614   7264 -28243   2943  27219 -12879 -22566  21034\n",
      "   14949 -26478  -5379  28421  -4860 -26605  14475  21370 -22062 -13382\n",
      "   26896   3656 -28190   6463  25851 -15811 -20055  23062  11715 -27299\n",
      "   -1883  28017  -8248 -25038  17255  18852 -24072 -10153  27696     38\n",
      "  -27712   9976  24150 -18809 -17353  25079   8332 -28316   1901  27626\n",
      "  -11881 -23464  20360  16102 -26284  -6492  28628  -3860 -27126  13691\n",
      "   22174 -21708 -14359  26929   4622 -28603   5693  26680 -15340 -21138\n",
      "   22956  12921 -27630  -2936  28581  -7284 -25950  16662  19840 -23879\n",
      "  -11211  27929   1229 -28340   9013  25079 -18028 -18665  24773   9707\n",
      "  -28312    326  28191 -10520 -24402  19446  17369 -25728  -7972  28626\n",
      "   -2380 -27769  12289  23236 -20691 -15759  26309   6427 -28635   3921\n",
      "   27115 -13703 -22164  21712  14238 -26862  -4529  28497  -5856 -26503\n",
      "   15434  20921 -23118 -12731  27718   2708 -28813   7626  26054 -17047\n",
      "  -19868  24378  11052 -28376   -628  28643  -9730 -25129  18890  18361\n",
      "  -25530  -9135  28966  -1291 -28502  11592  24447 -20426 -17066  26592\n",
      "    7399 -29592   3296  28397 -13750 -23515  22247  15470 -27799  -5337\n",
      "   29726  -5411 -27663  15558  22035 -23527 -13411  28368   3153 -29511\n",
      "    7549  26694 -17202 -20479  24479  11639 -28690  -1272  29292  -9203\n",
      "  -25968  18586  19171 -25460  -9969  29062   -422 -28940  10881  25004\n",
      "  -20011 -17791  26440   8231 -29511   2563  28582 -12897 -24067  21646\n",
      "   16240 -27519  -6385  29948  -4445 -28345  14613  23187 -22998 -14877\n",
      "   28351   4566 -30004   6277  27588 -16359 -21676  24192  12896 -28861\n",
      "   -2465  29750  -8262 -26921  17991  20415 -25432 -11477  29578    783\n",
      "  -29929   9998  26313 -19513 -19193  26610   9570 -30072   1245  29772\n",
      "  -12009 -25432  21136  17911 -27613  -7932  30395  -3306 -29202  13860\n",
      "   24183 -22734 -15968  28503   5759 -30681   5329  28752 -15707 -23122\n",
      "   24063  14422 -29322  -3948  30747  -7169 -28139  17415  21841 -25313\n",
      "  -12603  29917   1785 -30565   9311  27221 -19154 -20301  26561  10690\n",
      "  -30428    307  30271 -11399 -26153  20851  18700 -27588  -8729  30740\n",
      "   -2220 -30144  13114  25401 -22159 -17459  28468   7166 -31029   4192\n",
      "   29510 -14862 -23893  23617  15352 -29169  -4903  30949  -6288 -28679\n",
      "   16574  22686 -24777 -13733  29742   3020 -30836   8125  28006 -18183\n",
      "  -21435  25929  12033 -30306  -1081  30693  -9912 -27123  19714  19995\n",
      "  -26868 -10287  30584   -772 -30216  11565  26033 -20979 -18411  27702\n",
      "    8394 -30740   2720  29803 -13497 -24928  22356  16728 -28406  -6463\n",
      "   30774  -4931 -28994  15409  23292 -23936 -14642  29226   4132 -30649\n",
      "    6945  28136 -17190 -21919  25110  12840 -29888  -1891  30568  -9162\n",
      "  -27210  18939  20361 -26302 -10717  29972   -121 -29932  11031  26073\n",
      "  -20458 -18680  27425   8855 -30629   2214  29878 -13074 -25155  22164\n",
      "   17115 -28374  -6860  30850  -4387 -29313  14981  23896 -23621 -15368\n",
      "   29174   4820 -30878   6346  28582 -16681 -22605  24960  13579 -29872\n",
      "   -2889  31009  -8323 -28004  18468  21427 -26216 -11953  30673    807\n",
      "  -30968  10385  27158 -20275 -19832  27441   9871 -31014   1338  30528\n",
      "  -12399 -25958  21779  18082 -28235  -7742  31031  -3479 -29572  14238\n",
      "   24422 -23069 -16042  29011   5552 -31021   5685  28969 -16160 -23130\n",
      "   24364  14250 -29518  -3582  30698  -7540 -27975  17651  21530 -25423\n",
      "  -12343  29882   1602 -30622   9466  27198 -19234 -20399  26605  10779\n",
      "  -30667    425  30510 -11457 -26316  20971  18732 -27745  -8808  31040\n",
      "   -2416 -30170  13288  25488 -22505 -17356  28710   7039 -31257   4257\n",
      "   29631 -15060 -24189  23801  15530 -29291  -4944  31076  -6133 -28935\n",
      "   16590  22935 -24714 -14097  29808   3319 -31240   7837  28404 -18107\n",
      "  -21902  26022  12492 -30541  -1279  31120  -9974 -27518  19936  20227\n",
      "  -27250 -10380  30871   -793 -30587  11847  26341 -21191 -18683  27941\n",
      "    8549 -31374   2791  30363 -13912 -25353  23074  17010 -29148  -6468\n",
      "   31483  -4916 -29821  15645  24162 -24382 -15331  30164   4423 -31767\n",
      "    7145  29168 -17692 -22776  25846  13538 -30743  -2427  31483  -8834\n",
      "  -28293  19059  21477 -26720 -11820  30990    537 -31176  10730  27294\n",
      "  -20492 -19873  27674   9867 -31268   1473  30732 -12585 -26143  22099\n",
      "   18151 -28663  -7808  31393  -3543 -30115  14314  24909 -23321 -16482\n",
      "   29100   6013 -31277   5290  29408 -16075 -23600  24603  14656 -29868\n",
      "   -3861  31260  -7404 -28802  17813  22360 -25750 -13091  30480   2070\n",
      "  -31247   9172  27929 -19271 -21047  26724  11383 -30841   -333  30827\n",
      "  -10813 -26920  20449  19530 -27512  -9588  30981  -1489 -30445  12492\n",
      "   26053 -21803 -18174  28370   7893 -31283   3413  30047 -14159 -25055\n",
      "   23212  16661 -29139  -6024  31314  -5299 -29370  15830  23645 -24380\n",
      "  -14919  29802   4143 -31303   7282  28798 -17695 -22404  25854  13031\n",
      "  -30567  -1984  31267  -9397 -27873  19470  20806 -27009 -11045  30998\n",
      "       1 -30992  11200  26941 -20883 -19521  27937   9420 -31291   1914\n",
      "   30596 -12977 -25839  22407  17736 -28821  -7370  31546  -4037 -30090\n",
      "   14931  24757 -23883 -16127  29722   5369 -31666   6076  29503 -16749\n",
      "  -23451  25223  14255 -30485  -3238  31653  -8284 -28593  18618  21860\n",
      "  -26425 -12172  30822   1027 -31272  10204  27581 -20177 -20377  27687\n",
      "   10365 -31437    925  31218 -12213 -26807  21912  18963 -28769  -8566\n",
      "   31833  -2884 -30793  14013  25561 -23166 -17190  29377   6647 -31740\n",
      "    4824  29994 -15537 -24487  24386  15669 -29958  -4913  31731  -6560\n",
      "  -29518  17338  23248 -25745 -13879  30865   2718 -31851   8895  28771\n",
      "  -19299 -21798  27109  12046 -31467   -674  31591 -10683 -27732  20706\n",
      "   20232 -27915 -10143  31579  -1145 -31201  12421  26709 -22117 -18869\n",
      "   28935   8407 -31919   3066  30807 -14205 -25500  23280  17081 -29457\n",
      "   -6531  31882  -4997 -30078  15799  24442 -24637 -15540  30246   4547\n",
      "  -31893   6979  29380 -17560 -23035  25884  13577 -30968  -2385  31828\n",
      "   -9128 -28565  19451  21531 -27155 -11829  31428    465 -31511  10934\n",
      "   27555 -20898 -20060  28247   9845 -31809   1872  31339 -13204 -26569\n",
      "   22658  18375 -29304  -7785  31972  -3733 -30625  14802  25316 -23875\n",
      "  -16688  29905   5937 -32045   5645  30002 -16416 -24201  25161  15104\n",
      "  -30726  -3983  32162  -7646 -29403  18345  22768 -26578 -13144  31306\n",
      "    1823 -31968   9648  28500 -19953 -21290  27484  11369 -31597     50\n",
      "   31630 -11520 -27469  21447  19622 -28607  -9283  31960  -2314 -31180\n",
      "   13583  26267 -22923 -17912  29395   7283 -32025   4323  30459 -15336\n",
      "  -24787  24343  15983 -30124  -5163  31911  -6376 -29610  17015  23545\n",
      "  -25528 -14319  30562   3284 -31752   8192  28625 -18531 -21928  26456\n",
      "   12378 -30991  -1178  31413 -10212 -27620  20193  20317 -27454 -10483\n",
      "   31241   -813 -31002  12000  26661 -21640 -18877  28593   8538 -31682\n",
      "    2873  30873 -14036 -25802  23331  17435 -29637  -6724  31985  -4885\n",
      "  -30222  15807  24391 -24707 -15462  30293   4489 -31866   7028  29324\n",
      "  -17494 -23187  25873  13832 -30725  -2704  31700  -8757 -28528  19078\n",
      "   21628 -26899 -11900  31143    638 -31377  10548  27643 -20544 -20219\n",
      "   28112  10026 -31739   1444  31209 -12822 -26576  22427  18468 -29099\n",
      "   -7952  31971  -3535 -30790  14663  25487 -23882 -16932  30000   6084\n",
      "  -31973   5543  29966 -16379 -23854  24902  14849 -30273  -3804  31717\n",
      "   -7664 -28950  18076  22440 -26190 -12975  30849   1747 -31484   9632\n",
      "   27925 -19834 -20758  27335  10827 -31254    469  31082 -11719 -26883\n",
      "   21434  19132 -28329  -8859  31528  -2541 -30465  13473  25592 -22726\n",
      "  -17224  28999   6738 -31437   4619  29746 -15375 -24192  24226  15430\n",
      "  -29806  -4657  31469  -6812 -29009  17296  22596 -25483 -13386  30320\n",
      "    2415 -31069   8814  27880 -18739 -21243  26416  11691 -30564   -585\n",
      "   30773 -10542 -26958  20184  19658 -27294  -9858  30933  -1326 -30456\n",
      "   12381  26131 -21830 -18243  28539   7888 -31393   3457  29946 -14414\n",
      "  -24738  23354  16252 -29196  -5700  31255  -5599 -29262  16175  23413\n",
      "  -24553 -14459  29778   3692 -31017   7423  28331 -17667 -21979  25605\n",
      "   12719 -30206  -1768  30864  -9392 -27471  19358  20334 -26712 -10681\n",
      "   30542   -517 -30358  11488  26021 -21075 -18405  27727   8319 -30691\n",
      "    2772  29686 -13472 -24824  22443  16709 -28534  -6478  30873  -4685\n",
      "  -29051  15212  23549 -23728 -14882  29156   4340 -30728   6864  28134\n",
      "  -17037 -21978  24828  12806 -29460  -2159  30036  -8752 -26874  18464\n",
      "   20009 -25919 -10641  29763   -124 -29950  10948  25990 -20352 -18573\n",
      "   27064   8788 -30226   2199  29429 -12840 -24746  21831  16851 -27926\n",
      "   -6768  30416  -4230 -28890  14749  23771 -23344 -15335  28943   4801\n",
      "  -30682   6287  28319 -16672 -22295  24729  13430 -29610  -2728  30593\n",
      "   -8338 -27662  18335  21031 -25887 -11722  30121    830 -30327   9855\n",
      "   26761 -19532 -19750  26724  10086 -30373    826  29939 -11651 -25730\n",
      "   21016  18045 -27542  -8091  30492  -3214 -29333  13815  24214 -22651\n",
      "  -16029  28443   5673 -30508   5354  28571 -15712 -22948  24004  14268\n",
      "  -28959  -3667  30281  -7283 -27432  17273  21185 -24934 -12069  29182\n",
      "    1517 -29733   9130  26415 -18681 -19665  25781  10401 -29544    275\n",
      "   29291 -10946 -25337  20102  17948 -26573  -8343  29587  -2353 -28797\n",
      "   12760  24182 -21665 -16446  27608   6463 -29897   4442  28288 -14670\n",
      "  -22816  23115  14457 -28344  -4163  29839  -6626 -27446  16538  21497\n",
      "  -24311 -12712  28889   2403 -29760   8353  26785 -17923 -20308  25262\n",
      "   11228 -29323   -630  29548 -10037 -25956  19417  18935 -26093  -9360\n",
      "   29474  -1296 -29008  11980  24674 -20902 -17066  27129   7256 -29755\n",
      "    3668  28515 -13978 -23465  22544  14981 -27962  -4876  29628  -5788\n",
      "  -27539  15740  21846 -23646 -13301  28451   3144 -29465   7505  26749\n",
      "  -17061 -20740  24555  11861 -28788  -1493  29325  -9110 -25824  18519\n",
      "   19127 -25436  -9814  28968   -660 -28733  11078  24710 -20013 -17479\n",
      "   26233   7954 -29110   2566  27990 -12818 -23359  21259  15550 -26925\n",
      "   -5819  29026  -4718 -27445  14636  22151 -22595 -14071  27679   4063\n",
      "  -29089   6415  26768 -16093 -20854  23742  12268 -28179  -2099  28993\n",
      "   -8385 -25965  17840  19583 -24921 -10577  28820    -24 -28813  10438\n",
      "   24886 -19325 -17903  25794   8722 -28839   1700  28222 -11807 -23770\n",
      "   20397  16395 -26219  -6870  28700  -3508 -27340  13506  22454 -21626\n",
      "  -14485  26822   4786 -28554   5475  26613 -15098 -21158  22631  13066\n",
      "  -27357  -3179  28362  -7096 -25799  16420  19805 -23741 -11225  27796\n",
      "    1127 -28050   9011  24791 -17893 -18281  24498   9422 -27866    636\n",
      "   27633 -10628 -23650  19179  16715 -25223  -7723  28017  -2408 -27149\n",
      "   12165  22894 -20443 -15507  25955   6301 -28236   3903  26731 -13690\n",
      "  -21785  21563  13636 -26434  -4082  27907  -5976 -25814  15305  20279\n",
      "  -22608 -12136  26992   2375 -27735   7558  25000 -16598 -18889  23253\n",
      "   10481 -27045   -710  27079  -9082 -23799  17594  17431 -23897  -8795\n",
      "   27066  -1011 -26702  10662  22856 -19118 -15948  24880   6712 -27395\n",
      "    3189  26241 -12739 -21559  20530  14135 -25321  -4964  27113  -4840\n",
      "  -25221  14152  20102 -21421 -12366  25939   2986 -27021   6821  24567\n",
      "  -15705 -18893  22517  10604 -26352  -1081  26647  -8694 -23507  17190\n",
      "   17146 -23489  -8657  26616   -965 -26252  10453  22471      0      0\n",
      "       0      0      0      0      0      0      0      0      0      0\n",
      "       0      0      0      0      0      0      0      0      0      0\n",
      "       0      0      0      0      0      0      0      0      0      0\n",
      "       0      0      0      0      0      0      0      0      0      0\n",
      "       0      0      0      0      0      0      0      0      0      0\n",
      "       0      0      0      0      0      0      0      0      0      0\n",
      "       0      0      0      0      0      0      0      0      0      0\n",
      "       0      0      0      0      0      0      0      0      0      0\n",
      "       0      0      0      0      0      0      0      0      0      0\n",
      "       0      0      0      0      0      0      0      0      0      0\n",
      "       0      0      0      0      0      0      0      0      0      0\n",
      "       0      0      0      0      0      0      0      0      0      0\n",
      "       0      0      0      0      0      0      0      0      0      0\n",
      "       0      0      0      0      0      0      0      0      0      0\n",
      "       0      0      0      0      0      0      0      0      0      0\n",
      "       0      0      0      0      0      0      0      0      0      0\n",
      "       0      0      0      0      0      0      0      0      0      0\n",
      "       0      0      0      0      0      0      0      0      0      0\n",
      "       0      0      0      0      0      0      0      0      0      0\n",
      "       0      0      0      0      0      0      0      0      0      0\n",
      "       0      0      0      0      0      0      0      0      0      0\n",
      "       0      0      0      0      0      0      0      0      0      0\n",
      "       0      0      0      0      0      0      0      0      0      0\n",
      "       0      0      0      0      0      0      0      0      0      0\n",
      "       0      0      0      0      0      0      0      0      0      0\n",
      "       0      0      0      0      0      0      0      0      0      0\n",
      "       0      0      0      0      0      0      0      0      0      0\n",
      "       0      0      0      0      0      0      0      0      0      0\n",
      "       0      0      0      0      0      0      0      0      0      0\n",
      "       0      0      0      0      0      0      0      0      0      0\n",
      "       0      0      0      0      0      0      0      0      0      0\n",
      "       0      0      0      0      0      0      0      0      0      0\n",
      "       0      0      0      0      0      0      0      0      0      0\n",
      "       0      0      0      0      0      0      0      0      0      0\n",
      "       0      0      0      0      0      0      0      0      0      0\n",
      "       0      0      0      0      0      0      0      0      0      0\n",
      "       0      0      0      0      0      0      0      0      0      0\n",
      "       0      0      0      0      0      0      0      0      0      0\n",
      "       0      0      0      0      0      0      0      0      0      0\n",
      "       0      0      0      0      0      0      0      0      0      0\n",
      "       0      0      0      0      0      0      0      0      0      0\n",
      "       0      0      0      0      0      0      0      0      0      0\n",
      "       0      0      0      0      0      0      0      0      0      0\n",
      "       0      0      0      0      0      0      0      0      0      0\n",
      "       0      0      0      0      0      0      0      0      0      0\n",
      "       0      0      0      0      0      0      0      0      0      0\n",
      "       0      0      0      0      0      0      0      0      0      0\n",
      "       0      0      0      0      0      0      0      0      0      0\n",
      "       0      0      0      0      0      0      0      0      0      0\n",
      "       0      0      0      0      0      0      0      0      0      0\n",
      "       0      0      0      0      0      0      0      0      0      0\n",
      "       0      0      0      0      0      0      0      0      0      0\n",
      "       0      0      0      0      0      0      0      0      0      0\n",
      "       0      0      0      0      0      0      0      0      0      0\n",
      "       0      0      0      0      0      0      0      0      0      0\n",
      "       0      0      0      0      0      0      0      0      0      0\n",
      "       0      0      0      0      0      0      0      0      0      0\n",
      "       0      0      0      0      0      0      0      0      0      0\n",
      "       0      0      0      0      0      0      0      0      0      0\n",
      "       0      0      0      0      0      0      0      0      0      0\n",
      "       0      0      0      0      0      0      0      0      0      0\n",
      "       0      0      0      0      0      0      0      0      0      0\n",
      "       0      0      0      0      0      0      0      0      0      0\n",
      "       0      0      0      0      0      0      0      0      0      0\n",
      "       0      0      0      0      0      0      0      0      0      0\n",
      "       0      0      0      0      0      0      0      0      0      0\n",
      "       0      0      0      0      0      0      0      0      0      0\n",
      "       0      0      0      0      0      0      0      0      0      0\n",
      "       0      0      0      0      0      0      0      0      0      0\n",
      "       0      0      0      0      0      0      0      0      0      0\n",
      "       0      0      0      0      0      0      0      0      0      0\n",
      "       0      0      0      0      0      0      0      0      0      0\n",
      "       0      0      0      0      0      0      0      0      0      0\n",
      "       0      0      0      0      0      0      0      0      0      0\n",
      "       0      0      0      0      0      0      0      0      0      0\n",
      "       0      0      0      0      0      0      0      0      0      0\n",
      "       0      0      0      0      0      0      0      0      0      0\n",
      "       0      0      0      0      0      0      0      0      0      0\n",
      "       0      0      0      0      0      0      0      0      0      0\n",
      "       0      0      0      0      0      0      0      0      0      0\n",
      "       0      0      0      0      0      0      0      0      0      0\n",
      "       0      0      0      0      0      0      0      0      0      0\n",
      "       0      0      0      0      0      0      0      0      0      0\n",
      "       0      0      0      0      0      0      0      0      0      0\n",
      "       0      0      0      0      0      0      0      0      0      0\n",
      "       0      0      0      0      0      0      0      0      0      0\n",
      "       0      0      0      0      0      0      0      0      0      0\n",
      "       0      0      0      0      0      0      0      0      0      0\n",
      "       0      0      0      0      0      0      0      0      0      0\n",
      "       0      0      0      0      0      0      0      0      0      0\n",
      "       0      0      0      0      0      0      0      0      0      0\n",
      "       0      0      0      0      0      0      0      0      0      0\n",
      "       0      0      0      0      0      0      0      0      0      0\n",
      "       0      0      0      0      0      0      0      0      0      0\n",
      "       0      0      0      0      0      0      0      0      0      0\n",
      "       0      0      0      0      0      0      0      0      0      0\n",
      "       0      0      0      0      0      0      0      0      0      0\n",
      "       0      0      0      0      0      0      0      0      0      0\n",
      "       0      0      0      0      0      0      0      0      0      0\n",
      "       0      0      0      0      0      0      0      0      0      0\n",
      "       0      0      0      0      0      0      0      0      0      0\n",
      "       0      0      0      0      0      0      0      0      0      0\n",
      "       0      0      0      0      0      0      0      0      0      0\n",
      "       0      0      0      0      0      0      0      0      0      0\n",
      "       0      0      0      0      0      0      0      0      0      0\n",
      "       0      0      0      0      0      0      0      0      0      0\n",
      "       0      0      0      0      0      0      0      0      0      0\n",
      "       0      0      0      0      0      0      0      0      0      0\n",
      "       0      0      0      0      0      0      0      0      0      0\n",
      "       0      0      0      0      0      0      0      0      0      0\n",
      "       0      0      0      0      0      0      0      0      0      0\n",
      "       0      0      0      0      0      0      0      0      0      0\n",
      "       0      0      0      0      0      0      0      0      0      0\n",
      "       0      0      0      0      0      0      0      0      0      0\n",
      "       0      0      0      0      0      0      0      0      0      0\n",
      "       0      0      0      0      0      0      0      0      0      0\n",
      "       0      0      0      0      0      0      0      0      0      0\n",
      "       0      0      0      0      0      0      0      0      0      0\n",
      "       0      0      0      0      0      0      0      0      0      0\n",
      "       0      0      0      0      0      0      0      0      0      0\n",
      "       0      0      0      0      0      0      0      0      0      0\n",
      "       0      0      0      0      0      0      0      0      0      0\n",
      "       0      0      0      0      0      0      0      0      0      0\n",
      "       0      0      0      0      0      0      0      0      0      0\n",
      "       0      0      0      0      0      0      0      0      0      0\n",
      "       0      0      0      0      0      0      0      0      0      0\n",
      "       0      0      0      0      0      0      0      0      0      0\n",
      "       0      0      0      0      0      0      0      0      0      0\n",
      "       0      0      0      0      0      0      0      0      0      0\n",
      "       0      0      0      0      0      0      0      0      0      0\n",
      "       0      0      0      0      0      0      0      0      0      0\n",
      "       0      0      0      0      0      0      0      0      0      0\n",
      "       0      0      0      0      0      0      0      0      0      0\n",
      "       0      0      0      0      0      0      0      0      0      0\n",
      "       0      0      0      0      0      0      0      0      0      0\n",
      "       0      0      0      0      0      0      0      0      0      0\n",
      "       0      0      0      0      0      0      0      0      0      0\n",
      "       0      0      0      0      0      0      0      0      0      0\n",
      "       0      0      0      0      0      0      0      0      0      0\n",
      "       0      0      0      0      0      0      0      0      0      0\n",
      "       0      0      0      0      0      0      0      0      0      0\n",
      "       0      0      0      0      0      0      0      0      0      0\n",
      "       0      0      0      0      0      0      0      0      0      0\n",
      "       0      0      0      0      0      0      0      0      0      0\n",
      "       0      0      0      0      0      0      0      0      0      0\n",
      "       0      0      0      0      0      0      0      0      0      0\n",
      "       0      0      0      0      0      0      0      0      0      0\n",
      "       0      0      0      0      0      0      0      0      0      0\n",
      "       0      0      0      0      0      0      0      0      0      0\n",
      "       0      0      0      0      0      0      0      0      0      0\n",
      "       0      0      0      0      0      0      0      0      0      0\n",
      "       0      0      0      0      0      0      0      0      0      0\n",
      "       0      0      0      0      0      0      0      0      0      0\n",
      "       0      0      0      0      0      0      0      0      0      0\n",
      "       0      0      0      0      0      0      0      0      0      0\n",
      "       0      0      0      0      0      0      0      0      0      0\n",
      "       0      0      0      0      0      0      0      0      0      0\n",
      "       0      0      0      0      0      0      0      0      0      0\n",
      "       0      0      0      0      0      0      0      0      0      0\n",
      "       0      0      0      0      0      0      0      0      0      0\n",
      "       0      0      0      0      0      0      0      0      0      0\n",
      "       0      0      0      0      0      0      0      0      0      0\n",
      "       0      0      0      0      0      0      0      0      0      0\n",
      "       0      0      0      0      0      0      0      0      0      0\n",
      "       0      0      0      0      0      0      0      0      0      0\n",
      "       0      0      0      0      0      0      0      0      0      0\n",
      "       0      0      0      0      0      0      0      0      0      0\n",
      "       0      0      0      0      0      0      0      0      0      0\n",
      "       0      0      0      0      0      0      0      0      0      0\n",
      "       0      0      0      0      0      0      0      0      0      0\n",
      "       0      0      0      0      0      0      0      0      0      0\n",
      "       0      0      0      0      0      0      0      0      0      0\n",
      "       0      0      0      0      0      0      0      0      0      0\n",
      "       0      0      0      0      0      0      0      0      0      0\n",
      "       0      0      0      0      0      0      0      0      0      0\n",
      "       0      0      0      0      0      0      0      0      0      0\n",
      "       0      0      0      0      0      0      0      0      0      0\n",
      "       0      0      0      0      0      0      0      0      0      0\n",
      "       0      0      0      0      0      0      0      0      0      0\n",
      "       0      0      0      0      0      0      0      0      0      0\n",
      "       0      0      0      0      0      0      0      0      0      0\n",
      "       0      0      0      0      0      0      0      0      0      0\n",
      "       0      0      0      0      0      0      0      0      0      0\n",
      "       0      0      0      0      0      0      0      0      0      0\n",
      "       0      0      0      0      0      0      0      0      0      0\n",
      "       0      0      0      0      0      0      0      0      0      0\n",
      "       0      0      0      0      0      0      0      0      0      0\n",
      "       0      0      0      0      0      0      0      0      0      0\n",
      "       0      0      0      0      0      0      0      0      0      0\n",
      "       0      0      0      0      0      0      0      0      0      0\n",
      "       0      0      0      0      0      0      0      0      0      0\n",
      "       0      0      0      0      0      0      0      0      0      0\n",
      "       0      0      0      0      0      0      0      0      0      0\n",
      "       0      0      0      0      0      0      0      0      0      0\n",
      "       0      0      0      0      0      0      0      0      0      0\n",
      "       0      0      0      0      0      0      0      0      0      0\n",
      "       0      0      0      0      0      0      0      0      0      0\n",
      "       0      0      0      0      0      0      0      0      0      0\n",
      "       0      0      0      0      0      0      0      0      0      0\n",
      "       0      0      0      0      0      0      0      0      0      0\n",
      "       0      0      0      0      0      0      0      0      0      0\n",
      "       0      0      0      0      0      0      0      0      0      0\n",
      "       0      0      0      0      0      0      0      0      0      0\n",
      "       0      0      0      0      0      0      0      0      0      0\n",
      "       0      0      0      0      0      0      0      0      0      0\n",
      "       0      0      0      0      0      0      0      0      0      0\n",
      "       0      0      0      0      0      0      0      0      0      0\n",
      "       0      0      0      0      0      0      0      0      0      0\n",
      "       0      0      0      0      0      0      0      0      0      0\n",
      "       0      0      0      0      0      0      0      0      0      0\n",
      "       0      0      0      0      0      0      0      0      0      0\n",
      "       0      0      0      0      0      0      0      0      0      0\n",
      "       0      0      0      0      0      0      0      0      0      0\n",
      "       0      0      0      0      0      0      0      0      0      0\n",
      "       0      0      0      0      0      0      0      0      0      0\n",
      "       0      0      0      0      0      0      0      0      0      0\n",
      "       0      0      0      0      0      0      0      0      0      0\n",
      "       0      0      0      0      0      0      0      0      0      0\n",
      "       0      0      0      0      0      0      0      0      0      0\n",
      "       0      0      0      0      0      0      0      0      0      0\n",
      "       0      0      0      0      0      0      0      0      0      0\n",
      "       0      0      0      0      0      0      0      0      0      0\n",
      "       0      0      0      0      0      0      0      0      0      0\n",
      "       0      0      0      0      0      0      0      0      0      0\n",
      "       0      0      0      0      0      0      0      0      0      0\n",
      "       0      0      0      0      0      0      0      0      0      0\n",
      "       0      0      0      0      0      0      0      0      0      0\n",
      "       0      0      0      0      0      0      0      0      0      0\n",
      "       0      0      0      0      0      0      0      0      0      0\n",
      "       0      0      0      0      0      0      0      0      0      0\n",
      "       0      0      0      0      0      0      0      0      0      0\n",
      "       0      0      0      0      0      0      0      0      0      0\n",
      "       0      0      0      0      0      0      0      0      0      0\n",
      "       0      0      0      0      0      0      0      0      0      0\n",
      "       0      0      0      0      0      0      0      0      0      0\n",
      "       0      0      0      0      0      0      0      0      0      0\n",
      "       0      0      0      0      0      0      0      0      0      0\n",
      "       0      0      0      0      0      0      0      0      0      0\n",
      "       0      0      0      0      0      0      0      0      0      0\n",
      "       0      0      0      0      0      0      0      0      0      0\n",
      "       0      0      0      0      0      0      0      0      0      0\n",
      "       0      0      0      0      0      0      0      0      0      0\n",
      "       0      0      0      0      0      0      0      0      0      0\n",
      "       0      0      0      0      0      0      0      0      0      0\n",
      "       0      0      0      0      0      0      0      0      0      0\n",
      "       0      0      0      0      0      0      0      0      0      0\n",
      "       0      0      0      0      0      0      0      0      0      0\n",
      "       0      0      0      0      0      0      0      0      0      0\n",
      "       0      0      0      0      0      0      0      0      0      0\n",
      "       0      0      0      0      0      0      0      0      0      0\n",
      "       0      0      0      0      0      0      0      0      0      0\n",
      "       0      0      0      0      0      0      0      0      0      0\n",
      "       0      0      0      0      0      0      0      0      0      0\n",
      "       0      0      0      0      0      0      0      0      0      0\n",
      "       0      0      0      0      0      0      0      0      0      0\n",
      "       0      0      0      0      0      0      0      0      0      0\n",
      "       0      0      0      0      0      0      0      0      0      0\n",
      "       0      0      0      0      0      0      0      0      0      0\n",
      "       0      0      0      0      0      0      0      0      0      0\n",
      "       0      0      0      0      0      0      0      0      0      0\n",
      "       0      0      0      0      0      0      0      0      0      0\n",
      "       0      0      0      0      0      0      0      0      0      0\n",
      "       0      0      0      0      0      0      0      0      0      0\n",
      "       0      0      0      0      0      0      0      0      0      0\n",
      "       0      0      0      0      0      0      0      0      0      0\n",
      "       0      0      0      0      0      0      0      0      0      0\n",
      "       0      0      0      0      0      0      0      0      0      0\n",
      "       0      0      0      0      0      0      0      0      0      0\n",
      "       0      0      0      0      0      0      0      0      0      0\n",
      "       0      0      0      0      0      0      0      0      0      0\n",
      "       0      0      0      0      0      0      0      0      0      0\n",
      "       0      0      0      0      0      0      0      0      0      0\n",
      "       0      0      0      0      0      0      0      0      0      0\n",
      "       0      0      0      0      0      0      0      0      0      0\n",
      "       0      0      0      0      0      0      0      0      0      0\n",
      "       0      0      0      0      0      0      0      0      0      0\n",
      "       0      0      0      0      0      0      0      0      0      0\n",
      "       0      0      0      0      0      0      0      0      0      0\n",
      "       0      0      0      0      0      0      0      0      0      0\n",
      "       0      0      0      0      0      0      0      0      0      0\n",
      "       0      0      0      0      0      0      0      0      0      0\n",
      "       0      0      0      0      0      0      0      0      0      0\n",
      "       0      0      0      0      0      0      0      0      0      0\n",
      "       0      0      0      0      0      0      0      0      0      0\n",
      "       0      0      0      0      0      0      0      0      0      0\n",
      "       0      0      0      0      0      0      0      0      0      0\n",
      "       0      0      0      0      0      0      0      0      0      0\n",
      "       0      0      0      0      0      0      0      0      0      0\n",
      "       0      0      0      0      0      0      0      0      0      0\n",
      "       0      0      0      0      0      0      0      0      0      0\n",
      "       0      0      0      0      0      0      0      0      0      0\n",
      "       0      0      0      0      0      0      0      0      0      0\n",
      "       0      0      0      0      0      0      0      0      0      0\n",
      "       0      0      0      0      0      0      0      0      0      0\n",
      "       0      0      0      0      0      0      0      0      0      0\n",
      "       0      0      0      0      0      0      0      0      0      0\n",
      "       0      0      0      0      0      0      0      0      0      0\n",
      "       0      0      0      0      0      0      0      0      0      0\n",
      "       0      0      0      0      0      0      0      0      0      0\n",
      "       0      0      0      0      0      0      0      0      0      0\n",
      "       0      0      0      0      0      0      0      0      0      0\n",
      "       0      0      0      0      0      0      0      0      0      0\n",
      "       0      0      0      0      0      0      0      0      0      0\n",
      "       0      0      0      0      0      0      0      0      0      0\n",
      "       0      0      0      0      0      0      0      0      0      0\n",
      "       0      0      0      0      0      0      0      0      0      0\n",
      "       0      0      0      0      0      0      0      0      0      0\n",
      "       0      0      0      0      0      0      0      0      0      0\n",
      "       0      0      0      0      0      0      0      0      0      0\n",
      "       0      0      0      0      0      0      0      0      0      0\n",
      "       0      0      0      0      0      0      0      0      0      0\n",
      "       0      0      0      0      0      0      0      0      0      0\n",
      "       0      0      0      0      0      0      0      0      0      0\n",
      "       0      0      0      0      0      0      0      0      0      0\n",
      "       0      0      0      0      0      0      0      0      0      0\n",
      "       0      0      0      0      0      0      0      0      0      0\n",
      "       0      0      0      0      0      0      0      0      0      0\n",
      "       0      0      0      0      0      0      0      0      0      0\n",
      "       0      0      0      0      0      0      0      0      0      0\n",
      "       0      0      0      0      0      0      0      0      0      0\n",
      "       0      0      0      0      0      0      0      0      0      0\n",
      "       0      0      0      0      0      0      0      0      0      0\n",
      "       0      0      0      0      0      0      0      0      0      0\n",
      "       0      0      0      0      0      0      0      0      0      0\n",
      "       0      0      0      0      0      0      0      0      0      0\n",
      "       0      0      0      0      0      0      0      0      0      0\n",
      "       0      0      0      0      0      0      0      0      0      0\n",
      "       0      0      0      0      0      0      0      0      0      0\n",
      "       0      0      0      0      0      0      0      0      0      0\n",
      "       0      0      0      0      0      0      0      0      0      0\n",
      "       0      0      0      0      0      0      0      0      0      0\n",
      "       0      0      0      0      0      0      0      0      0      0\n",
      "       0      0      0      0      0      0      0      0      0      0\n",
      "       0      0      0      0      0      0      0      0      0      0\n",
      "       0      0      0      0      0      0      0      0      0      0\n",
      "       0      0      0      0      0      0      0      0      0      0\n",
      "       0      0      0      0      0      0      0      0      0      0\n",
      "       0      0      0      0      0      0      0      0      0      0\n",
      "       0      0      0      0      0      0      0      0      0      0\n",
      "       0      0      0      0      0      0      0      0      0      0\n",
      "       0      0      0      0      0      0      0      0      0      0\n",
      "       0      0      0      0      0      0      0      0      0      0\n",
      "       0      0]]\n"
     ]
    }
   ],
   "source": [
    "print(acq_data['0'].max(),acq_data['1'])"
   ]
  },
  {
   "cell_type": "code",
   "execution_count": 16,
   "id": "c7d5bdd8-3704-48db-a2a3-4da762d82135",
   "metadata": {},
   "outputs": [
    {
     "data": {
      "image/png": "[encoded data removed]",
      "text/plain": [
       "<Figure size 640x480 with 1 Axes>"
      ]
     },
     "metadata": {},
     "output_type": "display_data"
    },
    {
     "data": {
      "image/png": "[encoded data removed]",
      "text/plain": [
       "<Figure size 640x480 with 1 Axes>"
      ]
     },
     "metadata": {},
     "output_type": "display_data"
    }
   ],
   "source": [
    "for c in ['0','1']:\n",
    "    plt.xlabel('Time (s)')\n",
    "    plt.ylabel('ACQ buf %s'%c)    \n",
    "    plt.plot(np.arange(0,acq_data[c].shape[1]*0.5e-9,0.5e-9)[10:], np.average(acq_data[c],axis=0)[10:])\n",
    "    plt.show()"
   ]
  },
  {
   "cell_type": "code",
   "execution_count": null,
   "metadata": {},
   "outputs": [],
   "source": [
    "np.set_printoptions(threshold=np.inf)\n",
    "print((acq_data['1']).shape)\n",
    "np.save('data/121323/dlo_2µs_0.25_acq.npy', acq_data['0'])\n",
    "np.save('data/121323/dlo2_2µs_0.25_acq.npy', acq_data['1'])\n",
    "# np.save('data/111923/Q1_raw_state1.npy' ,acq_data['1'])\n",
    "# np.save('data/111623/dlo0_real.npy' ,acq_data['0'])\n",
    "# np.save('data/111623/dlo0_imag.npy' ,acq_data['2'])\n"
   ]
  },
  {
   "cell_type": "markdown",
   "id": "a1ffd47c-63a5-4e83-a5a4-3afb9d5c1132",
   "metadata": {
    "jp-MarkdownHeadingCollapsed": true
   },
   "source": [
    "# Chevron "
   ]
  },
  {
   "cell_type": "code",
   "execution_count": null,
   "id": "2e920891",
   "metadata": {},
   "outputs": [],
   "source": [
    "from chipcalibration import chevron as ch\n",
    "reload(ch)\n",
    "qchip = qc.QChip(qchippath+'/qubitcfg.json')\n",
    "# qubits = ['Q1', 'Q2','Q3']\n",
    "# qubits = ['Q%d'%i for i in range(8)]\n",
    "qubits = ['Q1']\n",
    "nwidth = 40\n",
    "pulse_widths = np.linspace(4.e-9, 400.e-9, nwidth)\n",
    "nshot=20\n",
    "nfreq = 50\n",
    "fspan=20e6\n",
    "centerfreq=None"
   ]
  },
  {
   "cell_type": "code",
   "execution_count": null,
   "id": "6d30ce50",
   "metadata": {},
   "outputs": [],
   "source": [
    "for q in qubits:\n",
    "    print(qchip.qubits[q].readfreq/1e6)\n",
    "#    print(qchip.gates[q+'rabi_drag'].cfg_dict)\n",
    "    print(qchip.gates[q+'read'].cfg_dict)"
   ]
  },
  {
   "cell_type": "markdown",
   "id": "6256c674-579a-4a2a-9136-230b0a0bcd4d",
   "metadata": {},
   "source": [
    "## Chevron GE"
   ]
  },
  {
   "cell_type": "code",
   "execution_count": null,
   "id": "458c899c",
   "metadata": {},
   "outputs": [],
   "source": [
    "chevron = ch.Chevron(qubits, fspan, nfreq, pulse_widths, qchip, fpga_config, channel_configs,centerfreq=centerfreq,\n",
    "                     rabigate='rabi_drag')#cos')"
   ]
  },
  {
   "cell_type": "code",
   "execution_count": null,
   "id": "1f2388a4",
   "metadata": {},
   "outputs": [],
   "source": [
    "%%time\n",
    "chevron.run(runner, nshot)"
   ]
  },
  {
   "cell_type": "code",
   "execution_count": null,
   "id": "eb6be206",
   "metadata": {},
   "outputs": [],
   "source": [
    "import qubic.state_disc as sd\n",
    "reload(sd)\n",
    "gmm = sd.GMMManager(chanmap_or_chan_cfgs=channel_configs)\n",
    "gmm.fit(chevron.s11)\n",
    "print(gmm.gmm_dict[q].fitdatetime)\n",
    "gmm.set_labels_maxtomin({chan: shots[0].flatten() for chan, shots in chevron.s11.items()}, [0, 1])\n",
    "state_disc_shots = gmm.predict(chevron.s11)\n",
    "ones_frac = {qubit: np.sum(state_disc_shots[qubit], axis=2) for qubit in state_disc_shots.keys()}\n",
    "jobman.update_gmm(gmm)\n",
    "print(gmm.gmm_dict[q].gmmfit.means_)\n",
    "print(gmm.gmm_dict[q].gmmfit.weights_)\n",
    "print(gmm.gmm_dict[q].fitdatetime)\n",
    "#result = gmm.predict(chevron.s11)"
   ]
  },
  {
   "cell_type": "code",
   "execution_count": null,
   "id": "47765f37-bc93-40a7-bc5e-68a5c6ad21b5",
   "metadata": {},
   "outputs": [],
   "source": [
    "#import qubic.state_disc as sd\n",
    "#reload(sd)\n",
    "#gmm = sd.GMMManager(chanmap_or_chan_cfgs=channel_configs)\n",
    "gmm.fit(chevron.s11)\n",
    "print(gmm.gmm_dict[q].fitdatetime)\n",
    "gmm.set_labels_maxtomin({chan: shots[0].flatten() for chan, shots in chevron.s11.items()}, [0, 1])\n",
    "state_disc_shots = gmm.predict(chevron.s11)\n",
    "ones_frac = {qubit: np.sum(state_disc_shots[qubit], axis=2) for qubit in state_disc_shots.keys()}\n",
    "jobman.update_gmm(gmm)\n",
    "print(gmm.gmm_dict[q].gmmfit.means_)\n",
    "print(gmm.gmm_dict[q].gmmfit.weights_)\n",
    "print(gmm.gmm_dict[q].fitdatetime)\n",
    "#result = gmm.predict(chevron.s11)"
   ]
  },
  {
   "cell_type": "code",
   "execution_count": null,
   "id": "da80f3dc",
   "metadata": {
    "scrolled": false
   },
   "outputs": [],
   "source": [
    "for q in qubits:\n",
    "    l1=chevron.s11[str(channel_configs[q+'.rdrv'].core_ind)].reshape([-1,1])\n",
    "    plt.hexbin(l1.real,l1.imag,bins='log')\n",
    "    #plt.plot(l1.real,l1.imag,'.')\n",
    "    c0=gmm.gmm_dict[q].gmmfit.means_[0]\n",
    "    #c0=g.means_[0]\n",
    "    \n",
    "    plt.plot(c0[0],c0[1],'+',color='red')\n",
    "    c1=gmm.gmm_dict[q].gmmfit.means_[1]\n",
    "    #c1=g.means_[1]\n",
    "    plt.plot(c1[0],c1[1],'+',color='red')\n",
    "    plt.colorbar()\n",
    "    plt.title(q)\n",
    "    plt.grid()\n",
    "    plt.show()"
   ]
  },
  {
   "cell_type": "code",
   "execution_count": null,
   "id": "0a80570b-f5a0-4931-91e8-cee623c4aa17",
   "metadata": {},
   "outputs": [],
   "source": [
    "for q in qubits:\n",
    "    p01=gmm.gmm_dict[q].gmmfit.means_\n",
    "    l0=gmm.gmm_dict[q].labels[0]\n",
    "    l1=gmm.gmm_dict[q].labels[1]\n",
    "    p0=p01[l0][0]+1j*p01[l0][1]\n",
    "    p1=p01[l1][0]+1j*p01[l1][1]\n",
    "    angle=np.angle(p0-p1)%(2*np.pi)\n",
    "    center=p0+(p1-p0)*1.0/2.0\n",
    "    rph0=qchip.gates[q+'read'].contents[1].phase\n",
    "    rph1=(rph0-angle)%(2*np.pi)\n",
    "    if 1:\n",
    "        qchip.gates[q+'read'].contents[1].phase=rph1\n",
    "    if 1:\n",
    "        qchip.save(qchippath+'/qubitcfg.json')\n",
    "    print(rph0,rph1)"
   ]
  },
  {
   "cell_type": "code",
   "execution_count": null,
   "id": "d3512e97-a4db-4c5a-b16e-a1ad85161164",
   "metadata": {
    "scrolled": false
   },
   "outputs": [],
   "source": [
    "qchip = qc.QChip(qchippath+'/qubitcfg.json')\n",
    "for q in qubits:\n",
    "    y=qchip.qubits[q].freq\n",
    "    plt.axhline(y=y,color='black',alpha=0.3)\n",
    "    plt.pcolormesh(chevron.pulse_widths, chevron.centerfreq[q]+chevron.freqoffsets, np.array(ones_frac[q].T,dtype=np.float32), cmap='RdBu_r')\n",
    "    plt.colorbar()\n",
    "    plt.title(q)\n",
    "    plt.show()"
   ]
  },
  {
   "cell_type": "code",
   "execution_count": null,
   "id": "044f001e-4819-4d8d-9b15-81d748d9a79b",
   "metadata": {},
   "outputs": [],
   "source": [
    "gmm.savejson(qchippath+'gmm.json')"
   ]
  },
  {
   "cell_type": "code",
   "execution_count": null,
   "id": "5b747b7c-54df-4e71-a905-4714369d8eda",
   "metadata": {},
   "outputs": [],
   "source": [
    "qubits"
   ]
  },
  {
   "cell_type": "code",
   "execution_count": null,
   "id": "72a7c5fe",
   "metadata": {
    "scrolled": false
   },
   "outputs": [],
   "source": [
    "qchip = qc.QChip(qchippath+'/qubitcfg.json')\n",
    "for q in qubits:\n",
    "    plt.pcolormesh(chevron.pulse_widths, chevron.centerfreq[q]+chevron.freqoffsets, np.array(ones_frac[q].T,dtype=np.float32), cmap='RdBu_r')\n",
    "    print(q)\n",
    "    plt.clim(0,nshot)\n",
    "    plt.title('%s %s %s'%(board,str(chip),str(q)))\n",
    "    y=qchip.qubits[q].freq\n",
    "    plt.axhline(y=y,color='black',alpha=0.3)\n",
    "    plt.colorbar()\n",
    "    plt.show()"
   ]
  },
  {
   "cell_type": "code",
   "execution_count": null,
   "id": "71dee60b-7797-42c6-a8f5-61818305e589",
   "metadata": {},
   "outputs": [],
   "source": [
    "gmm.gmm_dict['Q1'].fitdatetime"
   ]
  },
  {
   "cell_type": "markdown",
   "id": "cbf85749-ddb1-426b-aedf-79a73ec0eb2c",
   "metadata": {},
   "source": [
    "## Chevron EF"
   ]
  },
  {
   "cell_type": "code",
   "execution_count": null,
   "id": "d879a87b-9026-40dd-942e-ef8f633ee813",
   "metadata": {},
   "outputs": [],
   "source": [
    "chevronef = ch.Chevron(qubits, fspan, nfreq, pulse_widths, qchip, fpga_config, channel_configs,centerfreq=centerfreq\n",
    "                       ,rabigate='rabi_ef',ef=True,ef_rotate_back=0)"
   ]
  },
  {
   "cell_type": "code",
   "execution_count": null,
   "id": "45831f52-849d-430d-8ad1-a2c3d17a1764",
   "metadata": {},
   "outputs": [],
   "source": [
    "%%time\n",
    "chevronef.run(runner, nshot)"
   ]
  },
  {
   "cell_type": "code",
   "execution_count": null,
   "id": "062afab5-c90b-4dcf-94ba-3e7deaba75e4",
   "metadata": {},
   "outputs": [],
   "source": [
    "dir(jobman)"
   ]
  },
  {
   "cell_type": "code",
   "execution_count": null,
   "id": "2ccaea14-aad9-472e-9a01-bd8b26b8768f",
   "metadata": {},
   "outputs": [],
   "source": [
    "import qubic.state_disc as sd\n",
    "reload(sd)\n",
    "#gmm = sd.GMMManager(chanmap_or_chan_cfgs=channel_configs,n_states=3)\n",
    "gmm = sd.GMMStateDiscriminator(n_states=3)\n",
    "gmm.fit(iqdata=chevronef.s11[])\n",
    "# print(gmm.gmm_dict[q].fitdatetime)\n",
    "# gmm.set_labels_maxtomin({chan: shots[0].flatten() for chan, shots in chevronef.s11.items()}, [0, 1, 2])\n",
    "# state_disc_shots = gmm.predict(chevronef.s11)\n",
    "# ones_frac = {qubit: np.sum(state_disc_shots[qubit], axis=2) for qubit in state_disc_shots.keys()}\n",
    "# jobman.update_gmm(gmm)\n",
    "# print(gmm.gmm_dict[q].gmmfit.means_)\n",
    "# print(gmm.gmm_dict[q].gmmfit.weights_)\n",
    "# print(gmm.gmm_dict[q].fitdatetime)\n",
    "#result = gmm.predict(chevron.s11)"
   ]
  },
  {
   "cell_type": "code",
   "execution_count": null,
   "id": "0668c104-fb64-44ee-b90d-6e3cf1c6f6ff",
   "metadata": {},
   "outputs": [],
   "source": [
    "qchip = qc.QChip(qchippath+'/qubitcfg.json')\n",
    "for q in qubits:\n",
    "    y=qchip.qubits[q].freq_ef\n",
    "    plt.axhline(y=y,color='black',alpha=0.3)\n",
    "    plt.pcolormesh(chevronef.pulse_widths, chevronef.centerfreq[q]+chevronef.freqoffsets, ones_frac[q].T,cmap='RdBu_r')\n",
    "    plt.colorbar()\n",
    "    plt.title(q)\n",
    "    plt.show()"
   ]
  },
  {
   "cell_type": "code",
   "execution_count": null,
   "id": "ea9b01e5-39f6-4042-8aad-d188b0c43019",
   "metadata": {},
   "outputs": [],
   "source": [
    "labels=gmm.gmm_dict[q].labels\n",
    "for q in qubits:\n",
    "    l1=chevronef.s11[str(channel_configs[q+'.rdrv'].core_ind)].reshape([-1,1])\n",
    "    plt.hexbin(l1.real,l1.imag,bins='log')\n",
    "    #plt.plot(l1.real,l1.imag,'.')\n",
    "    c0=gmm.gmm_dict[q].gmmfit.means_[0]\n",
    "    #c0=g.means_[0]\n",
    "    plt.plot(c0[0],c0[1],marker='$%s$'%labels[0],color='red')\n",
    "    c1=gmm.gmm_dict[q].gmmfit.means_[1]\n",
    "    #c1=g.means_[1]\n",
    "    plt.plot(c1[0],c1[1],marker='$%s$'%labels[1],color='red')\n",
    "    c2=gmm.gmm_dict[q].gmmfit.means_[2]\n",
    "    #c1=g.means_[1]\n",
    "    plt.plot(c2[0],c2[1],marker='$%s$'%labels[2],color='red')\n",
    "    plt.colorbar()\n",
    "    plt.title(q)\n",
    "    plt.grid()\n",
    "    plt.show()"
   ]
  },
  {
   "cell_type": "markdown",
   "id": "a9102957-edc4-43ad-9643-94eb303b26a9",
   "metadata": {},
   "source": [
    "# Amplitude Rabi "
   ]
  },
  {
   "cell_type": "code",
   "execution_count": null,
   "id": "d9800a7c-f23a-4ea0-b92a-d36e27580bf6",
   "metadata": {},
   "outputs": [],
   "source": [
    "import chipcalibration.rabi_amp_sweep as rabiamp\n",
    "reload(rabiamp)\n",
    "qchip = qc.QChip(qchippath+'/qubitcfg.json')\n",
    "#target_qubits = ['Q0', 'Q1', 'Q2', 'Q3']\n",
    "#qubits = ['Q0','Q1','Q2']\n",
    "# qubits = ['Q7']\n",
    "# qubits = ['Q0','Q1','Q2','Q3']\n",
    "qubits = ['Q%d'%i for i in range(8)]\n",
    "qubits = ['Q1']\n",
    "target_twidth = 32e-9\n",
    "num_partitions = 50\n",
    "irabiamp = rabiamp.RabiAmpSweeper(qubits, target_twidth, qchip, fpga_config, channel_configs,\n",
    "                                  num_partitions=num_partitions,rabigate='rabi_drag',repeat=4)\n",
    "# fit is A*sin(2*pi*x/drive_period + phi) + B, params are [A, B, drive_period, phi]\n",
    "prior_fit_params = {\n",
    "    'Q0' : [-0.5, 0.5, 0.5, 0], \n",
    "    'Q1' : [-0.5, 0.5, 0.8, 0], \n",
    "    'Q2' : [-0.5, 0.5, 0.8, 0], \n",
    "    'Q3' : [-0.5, 0.5, 0.8, 0], \n",
    "    'Q4' : [-0.5, 0.5, 0.8, 0], \n",
    "    'Q5' : [-0.5, 0.5, 0.8, 0], \n",
    "    'Q6' : [-0.5, 0.5, 0.8, 0], \n",
    "    'Q7' : [-0.5, 0.5, 0.8, 0], \n",
    "}"
   ]
  },
  {
   "cell_type": "code",
   "execution_count": null,
   "id": "1ec23b01-98f3-4033-b434-5e3f0817ce63",
   "metadata": {},
   "outputs": [],
   "source": [
    "tstart=time.time()\n",
    "irabiamp.run_and_fit(jobman, 1000, prior_fit_params,qchip=qchip)\n",
    "print('time',time.time()-tstart)"
   ]
  },
  {
   "cell_type": "code",
   "execution_count": null,
   "id": "18abd96f-9db2-477e-925a-fcf88e64b8a1",
   "metadata": {
    "scrolled": false
   },
   "outputs": [],
   "source": [
    "for q in qubits:\n",
    "    irabiamp.show_count_oscillations(q, qubits, show_fits=True)\n",
    "\n",
    "# X = amplitude , Y= pobability"
   ]
  },
  {
   "cell_type": "code",
   "execution_count": null,
   "id": "8189388b-e757-4c25-96c8-e0860400f42d",
   "metadata": {},
   "outputs": [],
   "source": [
    "q\n",
    "irabiamp.fits[q]"
   ]
  },
  {
   "cell_type": "code",
   "execution_count": null,
   "id": "143c081c-b702-4169-8961-707e9faeb550",
   "metadata": {},
   "outputs": [],
   "source": [
    "calibrated_X90_drive_amps = {qid: irabiamp.fits[qid][0][2] for qid in qubits}\n",
    "print(calibrated_X90_drive_amps)"
   ]
  },
  {
   "cell_type": "code",
   "execution_count": null,
   "id": "00eb4678-cafa-473d-a9fc-b9510f084945",
   "metadata": {},
   "outputs": [],
   "source": [
    "if 1:\n",
    "    import qubic.state_disc as sd\n",
    "    gmm = sd.GMMManager(chanmap_or_chan_cfgs=channel_configs)\n",
    "    gmm.fit(irabiamp.all_raw_data)\n",
    "#     p01=gmm.gmm_dict[q].gmmfit.means_\n",
    "#     l0=gmm.gmm_dict[q].labels[0]\n",
    "#     l1=gmm.gmm_dict[q].labels[1]\n",
    "#     p0=p01[l0][0]+1j*p01[l0][1]\n",
    "#     p1=p01[l1][0]+1j*p01[l1][1]\n",
    "#     angle=np.angle(p0-p1)%(2*np.pi)\n",
    "#     center=p0+(p1-p0)*1.0/2.0\n",
    "#     rph0=qchip.gates[q+'read'].contents[1].phase\n",
    "#     rph1=(rph0-angle)%(2*np.pi)\n",
    "#     if 1:\n",
    "#         qchip.gates[q+'read'].contents[1].phase=rph1\n",
    "    if 1:\n",
    "        qchip.save(qchippath+'/qubitcfg.json')\n",
    "    #print(rph0,rph1)\n",
    "jobman.update_gmm(irabiamp.gmm_manager)"
   ]
  },
  {
   "cell_type": "code",
   "execution_count": null,
   "id": "f12e8aaf-61f9-48d3-b4e7-23b9f0795f79",
   "metadata": {
    "scrolled": false
   },
   "outputs": [],
   "source": [
    "for q in qubits:\n",
    "    core_ind=channel_configs[q+'.qdrv'].core_ind\n",
    "    chval =irabiamp.all_raw_data[str(core_ind)]\n",
    "    plt.hexbin(chval.real,chval.imag)\n",
    "    plt.title(q)\n",
    "    c0=jobman.gmm_manager.gmm_dict[q].gmmfit.means_[0]\n",
    "    #c0=g.means_[0]\n",
    "    plt.plot(c0[0],c0[1],'+',color='red')\n",
    "    c1=jobman.gmm_manager.gmm_dict[q].gmmfit.means_[1]\n",
    "    #c1=g.means_[1]\n",
    "    plt.plot(c1[0],c1[1],'+',color='red')\n",
    "    plt.show()"
   ]
  },
  {
   "cell_type": "code",
   "execution_count": null,
   "id": "1b914128-3ab2-4888-b9e1-fa8f7fa55257",
   "metadata": {},
   "outputs": [],
   "source": [
    "if 1:\n",
    "    irabiamp.update_qchip(qchip,ratio=1.0)\n",
    "    qchip.save(qchippath+'/qubitcfg.json')"
   ]
  },
  {
   "cell_type": "code",
   "execution_count": null,
   "id": "33ca5969-55db-4a17-a363-36e2337d7850",
   "metadata": {},
   "outputs": [],
   "source": [
    "if 1:\n",
    "    jobman.gmm_manager.savejson(qchippath+'gmm.json')"
   ]
  },
  {
   "cell_type": "markdown",
   "id": "1447ed56-c6ce-4f8b-89b4-77cdff3444fc",
   "metadata": {
    "jp-MarkdownHeadingCollapsed": true
   },
   "source": [
    "# Time Rabi"
   ]
  },
  {
   "cell_type": "code",
   "execution_count": null,
   "id": "cd64e18b",
   "metadata": {},
   "outputs": [],
   "source": [
    "import chipcalibration.rabi_experiments as rabi_experiments\n",
    "reload(rabi_experiments)\n",
    "from chipcalibration.rabi_experiments import TimeRabi "
   ]
  },
  {
   "cell_type": "code",
   "execution_count": null,
   "id": "348e79e2",
   "metadata": {},
   "outputs": [],
   "source": [
    "q='Q1'\n",
    "taxis=np.linspace(0.e-9, 240e-9, 40)\n",
    "irabitime = TimeRabi(target_qubit=[q], readout_register=[q], drive_amplitude=calibrated_X90_drive_amps[q], \n",
    "                     pulse_width_interval=taxis, rabigate='rabi_drag')"
   ]
  },
  {
   "cell_type": "code",
   "execution_count": null,
   "id": "f84111f3",
   "metadata": {},
   "outputs": [],
   "source": [
    "# comment out twidth in env\n",
    "# q='Q0'\n",
    "# taxis=np.linspace(0.e-9, 240e-9, 40)\n",
    "# irabitime = TimeRabi(target_qubit=[q], readout_register=[q], pulse_width_interval=taxis, rabigate='X90') \n",
    "# qchip = qc.QChip(qchippath+'/qubitcfg.json')"
   ]
  },
  {
   "cell_type": "code",
   "execution_count": null,
   "id": "c0b441d5",
   "metadata": {},
   "outputs": [],
   "source": [
    "irabitime.run_and_report(jobman, 500, qchip)"
   ]
  },
  {
   "cell_type": "code",
   "execution_count": null,
   "id": "628ac970-72e9-42f2-a258-5945d284420d",
   "metadata": {
    "scrolled": false
   },
   "outputs": [],
   "source": [
    "plt.plot(taxis,np.average(irabitime.shots[q], axis=1))\n",
    "plt.ylim((0,1))\n",
    "plt.grid()"
   ]
  },
  {
   "cell_type": "code",
   "execution_count": null,
   "id": "53b81894-4eb3-4238-9e89-61363039aa9c",
   "metadata": {},
   "outputs": [],
   "source": [
    "#for qubit in [q]:\n",
    "if 1:    \n",
    "    core_ind=channel_configs[q+'.qdrv'].core_ind\n",
    "    #chval =rabi.shots[str(core_ind)]\n",
    "    chval =irabitime.raw_IQ[str(core_ind)]\n",
    "    plt.hexbin(chval.real,chval.imag)\n",
    "    plt.title(q)\n",
    "    c0=gmm.gmm_dict[q].gmmfit.means_[0]\n",
    "    plt.plot(c0[0],c0[1],'+',color='red')\n",
    "    c1=gmm.gmm_dict[q].gmmfit.means_[1]\n",
    "    plt.plot(c1[0],c1[1],'+',color='red')\n",
    "    plt.show()"
   ]
  },
  {
   "cell_type": "markdown",
   "id": "474fd4e6-72c3-4f66-ac4c-63d391461239",
   "metadata": {
    "jp-MarkdownHeadingCollapsed": true
   },
   "source": [
    "# Ramsey"
   ]
  },
  {
   "cell_type": "code",
   "execution_count": null,
   "id": "0192d174-d2e3-4da9-ab0a-5ff4ac7cba29",
   "metadata": {},
   "outputs": [],
   "source": [
    "import chipcalibration.ramsey1 as ramsey\n",
    "reload(ramsey)\n",
    "#from chipcalibration.ramsey1 import ramsey,ramsey_optimize\n",
    "from chipcalibration.ramsey1 import ramsey_optimize\n",
    "qchip = qc.QChip(qchippath+'qubitcfg.json')\n",
    "q='Q1'\n",
    "estimated_t2ramsey=30e-6\n",
    "delay_interval=np.linspace(0,2*estimated_t2ramsey,100)\n",
    "#delay_interval=np.zeros(10)\n",
    "#iramsey=ramsey(qubit=q,delay_interval=delay_interval,qchip=qchip)\n",
    "iramsey=ramsey.Ramsey(qubit=q,delay_interval=delay_interval,qchip=qchip)"
   ]
  },
  {
   "cell_type": "markdown",
   "id": "f940b24a-847a-404e-9f86-722ce60fd2af",
   "metadata": {},
   "source": [
    "## Plus minus frequency"
   ]
  },
  {
   "cell_type": "code",
   "execution_count": null,
   "id": "9726aa54-1b9a-4f94-8026-1212545858f3",
   "metadata": {},
   "outputs": [],
   "source": [
    "# print(iramsey.circuits)\n",
    "iramsey.plusminus(jobmanager=jobman,num_shots_per_circuit=100)"
   ]
  },
  {
   "cell_type": "code",
   "execution_count": null,
   "id": "dd8f8a58-1fdd-41de-9607-d497aa0ba4ed",
   "metadata": {},
   "outputs": [],
   "source": [
    "iramsey.update_qchip(qchip)"
   ]
  },
  {
   "cell_type": "code",
   "execution_count": null,
   "id": "04195a0a-381c-4105-b794-7d9b0d4305d3",
   "metadata": {},
   "outputs": [],
   "source": [
    "if 1:\n",
    "    qchip.save(qchippath+'qubitcfg.json')"
   ]
  },
  {
   "cell_type": "markdown",
   "id": "399781ed-45b0-4dca-9ad4-904e1099d5ca",
   "metadata": {},
   "source": [
    "## Simple Ramsey"
   ]
  },
  {
   "cell_type": "code",
   "execution_count": null,
   "id": "a9fa5ed6-8109-44ab-a0ad-077fa7d84e40",
   "metadata": {
    "scrolled": true
   },
   "outputs": [],
   "source": [
    "%%time\n",
    "iramsey.ramsey(framsey_offset=0,fastreset=None)\n",
    "p1=iramsey.run_and_report(jobmanager=jobman, num_shots_per_circuit=100)"
   ]
  },
  {
   "cell_type": "code",
   "execution_count": null,
   "id": "e179bfd2-430b-438a-902f-56ae52674f93",
   "metadata": {
    "scrolled": false
   },
   "outputs": [],
   "source": [
    "plt.plot(iramsey.delay_interval,iramsey.p1)\n",
    "plt.title(q)\n",
    "plt.ylim((0,1))"
   ]
  },
  {
   "cell_type": "code",
   "execution_count": null,
   "id": "4bebc2b1-c041-4ec4-9d40-9da27925a99a",
   "metadata": {},
   "outputs": [],
   "source": [
    "print(iramsey.output_dict['shots']['Q1'].shape)\n",
    "plt.plot(np.mean(iramsey.output_dict['shots']['Q1'][:,:,2::3],axis=1).flatten())\n",
    "plt.ylim((0,1))"
   ]
  },
  {
   "cell_type": "markdown",
   "id": "c0e67207-96f0-4396-b071-b66172924820",
   "metadata": {},
   "source": [
    "## V shape ramsey frequency optimze"
   ]
  },
  {
   "cell_type": "code",
   "execution_count": null,
   "id": "6245ddfc-72d3-4577-ae0a-c0be37c2021b",
   "metadata": {},
   "outputs": [],
   "source": [
    "framsey_offsets=np.linspace(-200e3,200e3,6)\n",
    "ramsop=ramsey_optimize(qubit=q,delay_interval=delay_interval,qchip=qchip,framsey_offsets=framsey_offsets,\n",
    "                       jobmanager=jobman,num_shots_per_circuit=100)\n",
    "foffset=ramsop['absfit'][0][0]\n",
    "print(f'{foffset=}')"
   ]
  },
  {
   "cell_type": "code",
   "execution_count": null,
   "id": "58a09bc2-ca12-4d2f-940e-a4c114676609",
   "metadata": {},
   "outputs": [],
   "source": [
    "plt.plot(ramsop['x'],ramsop['y'],'*')\n",
    "xlim=plt.gca().get_xlim()\n",
    "ylim=plt.gca().get_ylim()\n",
    "xplot=(xlim[0],0,xlim[1])\n",
    "x0=ramsop['absfit'][0][0]\n",
    "yplot=[abs(x-x0) for x in (xlim[0],x0,xlim[1])]\n",
    "plt.plot(xplot,yplot)\n",
    "plt.title(q)\n",
    "y=plt.ylim((0,ylim[1]))"
   ]
  },
  {
   "cell_type": "code",
   "execution_count": null,
   "id": "6cc5dbbb-9acf-4a16-89e7-c04cb9140e34",
   "metadata": {},
   "outputs": [],
   "source": [
    "core_ind=str(channel_configs[q+'.qdrv'].core_ind)\n",
    "plt.hexbin(iramsey.raw_IQ[core_ind].real,iramsey.raw_IQ[core_ind].imag)\n",
    "plt.colorbar()\n",
    "labels=jobman.gmm_manager.gmm_dict[q].labels\n",
    "c0=jobman.gmm_manager.gmm_dict[q].gmmfit.means_[0]\n",
    "plt.plot(c0[0],c0[1],marker='$%s$'%labels[0],color='red')\n",
    "c1=jobman.gmm_manager.gmm_dict[q].gmmfit.means_[1]\n",
    "plt.plot(c1[0],c1[1],marker='$%s$'%labels[1],color='red')"
   ]
  },
  {
   "cell_type": "markdown",
   "id": "0794b644-c8bf-4410-9e04-c5cc90abb3cf",
   "metadata": {
    "jp-MarkdownHeadingCollapsed": true
   },
   "source": [
    "# Stack X90"
   ]
  },
  {
   "cell_type": "code",
   "execution_count": null,
   "id": "6f218343-8588-4525-91a3-c31bde54a908",
   "metadata": {},
   "outputs": [],
   "source": [
    "import chipcalibration.graph as graph\n",
    "import chipcalibration.repeated_xgates as rx\n",
    "qchip = qc.QChip(qchippath+'/qubitcfg.json')\n",
    "qubits=['Q1']\n",
    "reload(rx)\n",
    "initratio=dict(Q0=0.1,Q1=0.3,Q7=0.25,Q5=0.3,Q2=0.3,Q3=0.3,Q4=0.2,Q6=0.15)\n",
    "cal_graph = graph.CalibrationGraph()\n",
    "for qubit in qubits:\n",
    "    cal_graph.add_calibration_step('{}_stack_0'.format(qubit), \n",
    "                                   rx.XGateRepetition([qubit], initratio[qubit], 30, 0), \n",
    "                                   [qubit], shots_per_circuit=1000)\n",
    "    cal_graph.add_calibration_step('{}_stack_1'.format(qubit), \n",
    "                                   rx.XGateRepetition([qubit], 0.05, 25, 5), \n",
    "                                   [qubit], predecessor_nodes=['{}_stack_0'.format(qubit)], shots_per_circuit=1000)\n",
    "                                #    [qubit], shots_per_circuit=1000)\n",
    "    cal_graph.add_calibration_step('{}_stack_2'.format(qubit), \n",
    "                                   rx.XGateRepetition([qubit], 0.025, 25, 10), \n",
    "                                   [qubit], predecessor_nodes=['{}_stack_1'.format(qubit)], shots_per_circuit=1000)\n",
    "    cal_graph.add_calibration_step('{}_stack_3'.format(qubit), \n",
    "                                   rx.XGateRepetition([qubit], 0.01, 25, 40), \n",
    "                                   [qubit], predecessor_nodes=['{}_stack_2'.format(qubit)], shots_per_circuit=1000)\n",
    "cal_graph.run_calibration(jobman, qchip, show_plots=True)    "
   ]
  },
  {
   "cell_type": "code",
   "execution_count": null,
   "id": "6e1a084d",
   "metadata": {},
   "outputs": [],
   "source": [
    "#a=rx.XGateRepetition([qubit], initratio[qubit], 30, 0)\n",
    "#a.run_and_report(jobman, 100, qchip)"
   ]
  },
  {
   "cell_type": "code",
   "execution_count": null,
   "id": "9f47b4cf-462e-40d3-ab84-8a99860728ff",
   "metadata": {},
   "outputs": [],
   "source": [
    "if 1:\n",
    "    qchip.save(qchippath+'qubitcfg.json')"
   ]
  },
  {
   "cell_type": "markdown",
   "id": "82cb3cf3-77c7-41ae-8170-cd96b008b414",
   "metadata": {
    "jp-MarkdownHeadingCollapsed": true
   },
   "source": [
    "# Drag alpha"
   ]
  },
  {
   "cell_type": "code",
   "execution_count": null,
   "id": "07cd025f-011a-47e2-8288-ee223a1d2202",
   "metadata": {},
   "outputs": [],
   "source": [
    "import chipcalibration.dragalpha as dragalpha\n",
    "reload(dragalpha)\n",
    "from chipcalibration.dragalpha import dragalpha\n",
    "\n",
    "qubit='Q1'\n",
    "alphas=np.arange(-3,3,0.1)\n",
    "idragalpha=dragalpha(qubit=qubit,alphas=alphas)\n"
   ]
  },
  {
   "cell_type": "code",
   "execution_count": null,
   "id": "8f3d5611-10dc-4f7a-8e20-b0151bd8ad04",
   "metadata": {},
   "outputs": [],
   "source": [
    "idragalpha.run_and_report(jobmanager=jobman,num_shots_per_circuit=1000,qchip=qchip)"
   ]
  },
  {
   "cell_type": "code",
   "execution_count": null,
   "id": "c0f4cca0-26e5-487e-a4d1-a5908c6f4be4",
   "metadata": {},
   "outputs": [],
   "source": [
    "plt.plot(alphas,idragalpha.x90y180,label='x90y180')\n",
    "plt.plot(alphas,idragalpha.y90x180,label='y90x180')"
   ]
  },
  {
   "cell_type": "code",
   "execution_count": null,
   "id": "e312d2b2-67b8-4375-bf2e-36a2db39cb82",
   "metadata": {},
   "outputs": [],
   "source": [
    "idragalpha.fit()"
   ]
  },
  {
   "cell_type": "code",
   "execution_count": null,
   "id": "96d3d68f-cc1b-4965-ad7a-25153dfdc41e",
   "metadata": {},
   "outputs": [],
   "source": [
    "idragalpha.update_qchip(qchip=qchip)\n",
    "if 1:\n",
    "    qchip.save(qchippath+'qubitcfg.json')"
   ]
  },
  {
   "cell_type": "code",
   "execution_count": null,
   "id": "6e427fba",
   "metadata": {},
   "outputs": [],
   "source": [
    "qchippath"
   ]
  },
  {
   "cell_type": "markdown",
   "id": "51606a27-42da-4de1-b5c9-7c51c4a51cab",
   "metadata": {},
   "source": [
    "# Readout Frequency optimization by blob separation"
   ]
  },
  {
   "cell_type": "code",
   "execution_count": null,
   "id": "e16c128f-3210-456f-b0f4-aa821e522ff6",
   "metadata": {},
   "outputs": [],
   "source": [
    "import chipcalibration.blobs as blobs\n",
    "reload(blobs)\n",
    "from chipcalibration.blobs import blobs\n",
    "\n",
    "qchip = qc.QChip(qchippath+'qubitcfg.json')\n",
    "qubits=['Q0','Q1']\n",
    "\n",
    "qubits=['Q0','Q1','Q2']\n",
    "qubits=['Q1']\n",
    "iblobs={}\n",
    "for q in qubits:\n",
    "    iblobs[q]=blobs(qubit=q,qchip=qchip)"
   ]
  },
  {
   "cell_type": "markdown",
   "id": "351ee9c8-928f-45f9-bf6f-52b1d017b46f",
   "metadata": {},
   "source": [
    "## blobfreq"
   ]
  },
  {
   "cell_type": "code",
   "execution_count": null,
   "id": "d3d529b1-383d-4173-adac-1be52e2bddc2",
   "metadata": {},
   "outputs": [],
   "source": [
    "dfreads=np.linspace(-3e6,3e6,100)\n",
    "blobres={}\n",
    "for q in qubits:\n",
    "    iblobs[q].blobfreq(dfreads=dfreads)\n",
    "    blobres[q]=iblobs[q].run_and_report(jobmanager=jobman,num_shots_per_circuit=200)"
   ]
  },
  {
   "cell_type": "code",
   "execution_count": null,
   "id": "08d031dd-0be5-48d8-9be4-c91ab25ab794",
   "metadata": {},
   "outputs": [],
   "source": [
    "qchip = qc.QChip(qchippath+'/qubitcfg.json')\n",
    "for q in qubits:\n",
    "    plt.plot(blobres[q]['x'],[d[(0,1)] for d in blobres[q]['dists']])\n",
    "    plt.axvline(x=qchip.qubits[q].readfreq,color='red')\n",
    "    plt.title(q)\n",
    "    plt.show()"
   ]
  },
  {
   "cell_type": "code",
   "execution_count": null,
   "metadata": {},
   "outputs": [],
   "source": [
    "index=0\n",
    "max=float('-inf')\n",
    "for i in range(len(blobres[q]['dists'])):\n",
    "    if max < (blobres[q]['dists'][i][(0,1)]):\n",
    "        index = i\n",
    "        max = blobres[q]['dists'][i][(0,1)]\n",
    "print(index,max)\n",
    "print(blobres[q]['x'][index])"
   ]
  },
  {
   "cell_type": "code",
   "execution_count": null,
   "id": "ce7a5e94-19c6-4928-b6e4-240b0ebeab3f",
   "metadata": {},
   "outputs": [],
   "source": [
    "# qchip.qubits['Q0'].readfreq=6.5543e9\n",
    "qchip.qubits['Q1'].readfreq=6558519696.969697\n",
    "qchip.save(qchippath+'qubitcfg.json')"
   ]
  },
  {
   "cell_type": "markdown",
   "id": "19619443-fd3c-4e9a-88b9-58d848058b61",
   "metadata": {
    "jp-MarkdownHeadingCollapsed": true
   },
   "source": [
    "## blobamp"
   ]
  },
  {
   "cell_type": "code",
   "execution_count": null,
   "id": "ebdba2d2-9a39-449c-aae1-1f474e8f1216",
   "metadata": {},
   "outputs": [],
   "source": [
    "amps=np.linspace(0,0.3,100)\n",
    "blobres={}\n",
    "for q in qubits:\n",
    "    iblobs[q].blobamp(amps=amps)\n",
    "    blobres[q]=iblobs[q].run_and_report(jobmanager=jobman,num_shots_per_circuit=100)"
   ]
  },
  {
   "cell_type": "code",
   "execution_count": null,
   "id": "cf7afb87-c086-4d57-be57-7db7b1569ecc",
   "metadata": {},
   "outputs": [],
   "source": [
    "qchip = qc.QChip(qchippath+'/qubitcfg.json')\n",
    "for q in qubits:\n",
    "    plt.plot(blobres[q]['x'],[d[(0,1)] for d in blobres[q]['dists']])\n",
    "    plt.axvline(x=qchip.gates['%sread'%q].contents[0].amp,color='red')\n",
    "    plt.title(q)\n",
    "    plt.show()"
   ]
  },
  {
   "cell_type": "markdown",
   "id": "fc932cc2-ad91-403c-8a09-a1d19d09c2ea",
   "metadata": {},
   "source": [
    "## blobt0"
   ]
  },
  {
   "cell_type": "code",
   "execution_count": null,
   "id": "16c0e13d-9f1a-4065-bc2b-3964d9b214e6",
   "metadata": {},
   "outputs": [],
   "source": [
    "t0s=np.linspace(0,600e-9,100)\n",
    "blobres={}\n",
    "for q in qubits:\n",
    "    iblobs[q].blobt0(t0s=t0s)\n",
    "    blobres[q]=iblobs[q].run_and_report(jobmanager=jobman,num_shots_per_circuit=1000)"
   ]
  },
  {
   "cell_type": "code",
   "execution_count": null,
   "id": "798856cd-459c-4e5e-becc-c1f2ce7be0ad",
   "metadata": {},
   "outputs": [],
   "source": [
    "qchip = qc.QChip(qchippath+'/qubitcfg.json')\n",
    "for q in qubits:\n",
    "    plt.plot(blobres[q]['x'],[d[(0,1)] for d in blobres[q]['dists']])\n",
    "    plt.axvline(x=qchip.gates['%sread'%q].contents[1].t0,color='red')\n",
    "    plt.title(q)    \n",
    "    plt.show()"
   ]
  },
  {
   "cell_type": "markdown",
   "id": "8f433716-d434-4546-85b5-27f5f4263ad2",
   "metadata": {},
   "source": [
    "## blob3 freq"
   ]
  },
  {
   "cell_type": "code",
   "execution_count": null,
   "id": "07e26106-67ae-4d09-98a2-9ec8989c0067",
   "metadata": {},
   "outputs": [],
   "source": [
    "import chipcalibration.blob3 as blob3\n",
    "reload(blob3)\n",
    "from chipcalibration.blob3 import blob3\n",
    "\n",
    "qchip = qc.QChip(qchippath+'qubitcfg.json')\n",
    "qubits=['Q0','Q1']\n",
    "\n",
    "qubits=['Q0','Q1','Q7']\n",
    "qubits=['Q1']\n",
    "iblob3={}\n",
    "for q in qubits:\n",
    "    iblob3[q]=blob3(qubit=q,qchip=qchip)\n"
   ]
  },
  {
   "cell_type": "code",
   "execution_count": null,
   "id": "a2bffd10-10aa-49fa-8357-07c87caec956",
   "metadata": {},
   "outputs": [],
   "source": [
    "dfreads=np.linspace(-3e6,3e6,100)\n",
    "blobres={}\n",
    "for q in qubits:\n",
    "    iblob3[q].blobfreq(dfreads=dfreads)\n",
    "    blobres[q]=iblob3[q].run_and_report(jobmanager=jobman,num_shots_per_circuit=200)"
   ]
  },
  {
   "cell_type": "code",
   "execution_count": null,
   "id": "718278fd-6939-4d0c-830e-aeead76721ee",
   "metadata": {},
   "outputs": [],
   "source": [
    "debug"
   ]
  },
  {
   "cell_type": "code",
   "execution_count": null,
   "id": "c24528cb-09e2-4fcc-849f-9f8a74a90543",
   "metadata": {},
   "outputs": [],
   "source": [
    "iblob3['Q1'].raw_IQ['4'].shape"
   ]
  },
  {
   "cell_type": "code",
   "execution_count": null,
   "id": "69281ef3-f80d-4093-84a3-76dcae584738",
   "metadata": {},
   "outputs": [],
   "source": [
    "plt.plot(blobres['Q1']['x'],[blobres['Q1']['dists'][i][(0,1)] for i in range(len(blobres['Q1']['x']))],'.')\n",
    "plt.plot(blobres['Q1']['x'],[blobres['Q1']['dists'][i][(0,2)] for i in range(len(blobres['Q1']['x']))],'.')\n",
    "plt.plot(blobres['Q1']['x'],[blobres['Q1']['dists'][i][(1,2)] for i in range(len(blobres['Q1']['x']))],'.')\n",
    "min3=[min(d.values()) for d in blobres['Q1']['dists']]\n",
    "f3=blobres['Q1']['x'][min3.index(max(min3))]\n",
    "print(f3)\n",
    "plt.axvline(x=f3)"
   ]
  },
  {
   "cell_type": "code",
   "execution_count": null,
   "id": "0a1b645d-e151-473f-a770-8ba4878b8dfb",
   "metadata": {},
   "outputs": [],
   "source": []
  },
  {
   "cell_type": "code",
   "execution_count": null,
   "id": "be588f75-26d1-48f5-a34e-3bb7a9602a85",
   "metadata": {},
   "outputs": [],
   "source": [
    "blobres['Q1']['dists'][3][(0,1)]"
   ]
  },
  {
   "cell_type": "markdown",
   "id": "47f53e2f-f054-45b9-9686-941616a07aec",
   "metadata": {
    "jp-MarkdownHeadingCollapsed": true
   },
   "source": [
    "# rcal"
   ]
  },
  {
   "cell_type": "code",
   "execution_count": null,
   "id": "9e5903a2-96b1-43bd-bd69-ea5e2f90195d",
   "metadata": {},
   "outputs": [],
   "source": [
    "import chipcalibration.rcal as rcal\n",
    "reload(rcal)\n",
    "\n",
    "qchip = qc.QChip(qchippath+'qubitcfg.json')\n",
    "qubits=['Q0','Q1','Q7']\n",
    "qubits=['Q0','Q1']\n",
    "ircal={}\n",
    "for qubit in qubits:\n",
    "    ircal[qubit]=rcal.Rcal(drvqubit=qubit, readqubits=[qubit],\n",
    "                           qchip=qchip, fpga_config=fpga_config, channel_configs=channel_configs)\n",
    "    ircal[qubit].run(circuit_runner=jobman.runner,nsamples=10000)\n",
    "    print(qubit,np.array(((ircal[qubit].prep0_read0[qubit][0],ircal[qubit].prep0_read1[qubit][0])\n",
    "                          ,(ircal[qubit].prep1_read0[qubit][0],ircal[qubit].prep1_read1[qubit][0]))))\n",
    "    p01=ircal[qubit].gmm_manager.gmm_dict[qubit].gmmfit.means_\n",
    "    l0=ircal[qubit].gmm_manager.gmm_dict[qubit].labels[0]\n",
    "    l1=ircal[qubit].gmm_manager.gmm_dict[qubit].labels[1]\n",
    "    p0=p01[l0][0]+1j*p01[l0][1]\n",
    "    p1=p01[l1][0]+1j*p01[l1][1]\n",
    "    angle=np.angle(p0-p1)%(2*np.pi)\n",
    "    center=p0+(p1-p0)*1.0/2.0\n",
    "    rph0=qchip.gates[qubit+'read'].contents[1].phase\n",
    "    rph1=(rph0-angle)%(2*np.pi)\n",
    "    if 1:\n",
    "        qchip.gates[qubit+'read'].contents[1].phase=rph1    \n",
    "    if 1:\n",
    "        jobman.update_gmm(ircal[qubit].gmm_manager)\n"
   ]
  },
  {
   "cell_type": "code",
   "execution_count": null,
   "id": "fd4ed555-b6af-44aa-8e22-313adad7913d",
   "metadata": {},
   "outputs": [],
   "source": [
    "if 1:\n",
    "    qchip.save(qchippath+'/qubitcfg.json')\n",
    "print(rph0,rph1)"
   ]
  },
  {
   "cell_type": "code",
   "execution_count": null,
   "id": "cb5a0878-5937-418f-8a44-0bcc115bccbe",
   "metadata": {},
   "outputs": [],
   "source": [
    "#plt.hexbin(ircal.s11['0'].real.flatten(),ircal.s11['0'].imag.flatten())\n",
    "for q in qubits:\n",
    "    core_ind=str(channel_configs[q+'.qdrv'].core_ind)\n",
    "    plt.hexbin(ircal[q].s11[core_ind].real.flatten(),ircal[q].s11[core_ind].imag.flatten())\n",
    "    plt.colorbar()\n",
    "    labels=jobman.gmm_manager.gmm_dict[q].labels\n",
    "    c0=jobman.gmm_manager.gmm_dict[q].gmmfit.means_[0]\n",
    "    plt.plot(c0[0],c0[1],marker='$%s$'%labels[0],color='red')\n",
    "    c1=jobman.gmm_manager.gmm_dict[q].gmmfit.means_[1]\n",
    "    plt.plot(c1[0],c1[1],marker='$%s$'%labels[1],color='red')\n",
    "    plt.title(q)\n",
    "    plt.show()"
   ]
  },
  {
   "cell_type": "markdown",
   "id": "123abcc4-c76f-4efd-aa73-744c53e7331e",
   "metadata": {},
   "source": [
    "# Single qubit Streamlined Randomized Benchmarking using TrueQ (SRB)"
   ]
  },
  {
   "cell_type": "code",
   "execution_count": null,
   "id": "c592126c-d3b0-4930-8c71-08dfc4ac7604",
   "metadata": {},
   "outputs": [],
   "source": [
    "import trueq as tq\n",
    "import qubic.trueq.transpiler as tp\n",
    "import qubic.trueq.job_manager as tqj\n",
    "jobman_tq = tqj.TrueQJobManager(fpga_config, qchip, channel_configs, runner, gmm_manager=jobman.gmm_manager)\n",
    "#tqcircuits = tq.make_srb(0, [4, 32, 128, 256,384, 512], 30) #, compiled_pauli=False)\n",
    "tqcircuits = tq.make_srb(0, [4, 128, 256, 512], 20) #, compiled_pauli=False)\n",
    "c=tqcircuits.append(tq.make_rcal(tqcircuits.labels))\n",
    "#circuits = tq.make_srb(0, [4, 10, 50, 100, 200], 30)"
   ]
  },
  {
   "cell_type": "code",
   "execution_count": null,
   "id": "afb4138f-3328-45c6-8014-7e44f1148e99",
   "metadata": {},
   "outputs": [],
   "source": [
    "def run_rb(qubit, circuits, nshots=1000):\n",
    "    res = jobman_tq.build_and_run_circuits(circuits, [qubit], 1000, outputs=['counts', 'trueq_results'], \n",
    "                                    fit_gmm=False, delay_per_shot=0, delay_before_circuit=500.e-6)\n",
    "    return res"
   ]
  },
  {
   "cell_type": "code",
   "execution_count": null,
   "id": "66fb7603-fdd2-4a91-83ce-9a07e7282b66",
   "metadata": {
    "scrolled": false
   },
   "outputs": [],
   "source": [
    "# qubits=['Q0','Q1','Q2']\n",
    "#qubits=['Q0','Q1','Q2','Q3','Q4','Q5','Q6','Q7']\n",
    "qubits=['Q1']\n",
    "res={}\n",
    "for q in qubits:\n",
    "    print(q)\n",
    "    res[q]=run_rb(qubit=q,circuits=tqcircuits)\n",
    "    tqcircuits.results=res[q]['trueq_results']\n",
    "    print(tqcircuits.fit())    \n",
    "    tqcircuits.plot.raw()\n",
    "    plt.show()"
   ]
  },
  {
   "cell_type": "code",
   "execution_count": null,
   "id": "6509d6a2-5ac0-4bd6-9e91-b30f0c70b435",
   "metadata": {},
   "outputs": [],
   "source": [
    "jobman.gmm_manager.savejson(qchippath+'gmm.json')"
   ]
  },
  {
   "cell_type": "code",
   "execution_count": null,
   "id": "964973e5-0d20-41c3-a2f4-9278ee4f0949",
   "metadata": {},
   "outputs": [],
   "source": [
    "jobman_tq.job_manager.runner"
   ]
  },
  {
   "cell_type": "code",
   "execution_count": null,
   "id": "ad613b37-f279-4627-a140-a4599a8fe13e",
   "metadata": {},
   "outputs": [],
   "source": [
    "print(tqcircuits.fit())  \n",
    "tqcircuits.plot.raw()"
   ]
  },
  {
   "cell_type": "markdown",
   "id": "926ef017",
   "metadata": {},
   "source": [
    "## Upload file"
   ]
  },
  {
   "cell_type": "code",
   "execution_count": null,
   "id": "32e81746",
   "metadata": {},
   "outputs": [],
   "source": [
    "from qubicstorage import calibration\n",
    "file_path = 'chipcalibration/submodules/qchip/X4Y2/sian/qubitcfg.json'\n",
    "commit_data = {\n",
    "    'author_name': 'Neel Vora',\n",
    "    'author_email': 'nr@lbl.gov',\n",
    "    'message': 'Neel experiments'\n",
    "}\n",
    "branch_name = 'Test_by_Neel'\n",
    "chip_id ='3'\n",
    "        \n",
    "calibration.insertbyfile(file_path, commit_data, branch_name,chip_id)"
   ]
  },
  {
   "cell_type": "markdown",
   "id": "3814e8af",
   "metadata": {
    "jp-MarkdownHeadingCollapsed": true
   },
   "source": [
    "# Readout for ML"
   ]
  },
  {
   "cell_type": "code",
   "execution_count": null,
   "id": "e3b1fbb0",
   "metadata": {},
   "outputs": [],
   "source": [
    "%%time\n",
    "qchip = qc.QChip(qchippath+'qubitcfg.json')\n",
    "qid = ['Q1']\n",
    "for q in qid:\n",
    "    circuits = []\n",
    "    circuit = []\n",
    "    circuit.append({'name': 'delay', 't': 600e-6, 'qubit': q})\n",
    "    circuit.append({'name': 'read', 'qubit': q})\n",
    "    circuit.append({'name': 'delay', 't': 12e-6, 'qubit': q})\n",
    "    circuit.append({'name': 'read', 'qubit': q})\n",
    "    circuit.append({'name': 'delay', 't': 600e-6, 'qubit': q})    \n",
    "    circuit.append({'name': 'read', 'qubit': q})\n",
    "    circuit.append({'name': 'delay', 't': 12e-6, 'qubit': q})\n",
    "    circuit.append({'name': 'X90', 'qubit': q})\n",
    "    circuit.append({'name': 'X90', 'qubit': q})\n",
    "    circuit.append({'name': 'read', 'qubit': q})\n",
    "    circuits.append(circuit)\n",
    "    output_dict = jobman.collect_all(program_list=circuits,num_shots_per_circuit=1000,reads_per_shot=4,qchip=qchip)\n",
    "    raw_IQ = output_dict['s11']\n",
    "    h0_g = sum(output_dict['shots'][q][0][:,0]==0)\n",
    "    h0m0_g = (np.sum(np.all(output_dict['shots'][q][0][:,0:2]==[0,0],axis=1)))\n",
    "    p_g = h0m0_g/h0_g\n",
    "    h0_e = sum(output_dict['shots'][q][0][:,2]==0)\n",
    "    h0m1_e = (np.sum(np.all(output_dict['shots'][q][0][:,2:4]==[0,1],axis=1)))\n",
    "    p_e = h0m1_e/h0_e\n",
    "    print(q,'Ground',h0_g,h0m0_g,p_g)\n",
    "    print(q,'Excited',h0_e,h0m1_e,p_e)"
   ]
  },
  {
   "cell_type": "markdown",
   "id": "f7af3d1f",
   "metadata": {},
   "source": [
    "### MultiRead"
   ]
  },
  {
   "cell_type": "code",
   "execution_count": null,
   "id": "a203f261",
   "metadata": {},
   "outputs": [],
   "source": [
    "%%time\n",
    "qchip = qc.QChip(qchippath+'qubitcfg.json')\n",
    "qid = ['Q1']\n",
    "for q in qid:\n",
    "    circuits = []\n",
    "    circuit = []\n",
    "    circuit.append({'name': 'delay', 't': 600e-6, 'qubit': q})\n",
    "    circuit.append({'name': 'read', 'qubit': q})\n",
    "    circuit.append({'name': 'delay', 't': 12e-6, 'qubit': q})\n",
    "    circuit.append({'name': 'read', 'qubit': q})\n",
    "    circuit.append({'name': 'read', 'qubit': q})\n",
    "    circuit.append({'name': 'read', 'qubit': q})\n",
    "\n",
    "    circuit.append({'name': 'delay', 't': 600e-6, 'qubit': q})    \n",
    "    circuit.append({'name': 'read', 'qubit': q})\n",
    "    circuit.append({'name': 'delay', 't': 12e-6, 'qubit': q})\n",
    "    circuit.append({'name': 'X90', 'qubit': q})\n",
    "    circuit.append({'name': 'X90', 'qubit': q})\n",
    "    circuit.append({'name': 'read', 'qubit': q})\n",
    "    circuit.append({'name': 'read', 'qubit': q})\n",
    "    circuit.append({'name': 'read', 'qubit': q})\n",
    "\n",
    "    circuits.append(circuit)\n",
    "    output_dict = jobman.collect_all(program_list=circuits,num_shots_per_circuit=20000,reads_per_shot=8,qchip=qchip)\n",
    "    raw_IQ = output_dict['s11']\n",
    "    h0_g = sum(output_dict['shots'][q][0][:,0]==0)\n",
    "    h0m0_g = (np.sum(np.all(output_dict['shots'][q][0][:,0:2]==[0,0],axis=1)))\n",
    "    p_g = h0m0_g/h0_g\n",
    "    h0_e = sum(output_dict['shots'][q][0][:,4]==0)\n",
    "    h0m1_e = (np.sum(np.all(output_dict['shots'][q][0][:,4:6]==[0,1],axis=1)))\n",
    "    p_e = h0m1_e/h0_e\n",
    "    print(q,'Ground',h0_g,h0m0_g,p_g)\n",
    "    print(q,'Excited',h0_e,h0m1_e,p_e)"
   ]
  },
  {
   "cell_type": "code",
   "execution_count": null,
   "id": "50a79151",
   "metadata": {},
   "outputs": [],
   "source": [
    "print((output_dict['s11']))"
   ]
  },
  {
   "cell_type": "code",
   "execution_count": null,
   "metadata": {},
   "outputs": [],
   "source": [
    "np.save('data/121623/data_2µs_cos.npy',output_dict['s11']['4'][0])\n",
    "np.save('data/121623/herhald_2µs_cos.npy',output_dict['shots']['Q1'][0])"
   ]
  },
  {
   "cell_type": "markdown",
   "id": "c094bc6c-a67d-4276-9dda-e58714acfd5d",
   "metadata": {
    "jp-MarkdownHeadingCollapsed": true
   },
   "source": [
    "# Cross Resonance (CR) scan"
   ]
  },
  {
   "cell_type": "code",
   "execution_count": null,
   "id": "d2b38ccf-662d-4f4a-ac6c-d632093ac06f",
   "metadata": {},
   "outputs": [],
   "source": [
    "import chipcalibration.tcr as tcr\n",
    "reload(tcr)"
   ]
  },
  {
   "cell_type": "code",
   "execution_count": null,
   "id": "c4b44084-70e9-46c4-85a2-ec5aff51b1bc",
   "metadata": {},
   "outputs": [],
   "source": [
    "control_qubit='Q1'\n",
    "target_qubit='Q0'\n",
    "itcrtwidth = tcr.tcr(control_qubit=control_qubit,target_qubit=target_qubit)"
   ]
  },
  {
   "cell_type": "markdown",
   "id": "72b0ae32-a2b5-403e-a8a9-83c3a6bf33a7",
   "metadata": {},
   "source": [
    "## CR pulse length (twidth and amp)"
   ]
  },
  {
   "cell_type": "code",
   "execution_count": null,
   "id": "ced921e8-8a55-4e4b-9e32-cb68689e45ab",
   "metadata": {},
   "outputs": [],
   "source": [
    "twidths=np.linspace(100e-9,400e-9,50)\n",
    "amps=[0.5,0.7,1.0]\n",
    "amps=[0.8]\n",
    "itcrtwidth.cr_amp_width_sweep(twidths=twidths,amps=amps)\n",
    "starttime=time.time()\n",
    "c0,c1,r=itcrtwidth.run_and_report(jobmanager=jobman,num_shots_per_circuit=100,qchip=qchip)\n",
    "print('time',time.time()-starttime)"
   ]
  },
  {
   "cell_type": "code",
   "execution_count": null,
   "id": "60f92c9f-5c40-44f0-8126-f969803942b7",
   "metadata": {},
   "outputs": [],
   "source": [
    "fig=plt.figure(figsize=(6,6))\n",
    "ax=fig.subplots(4)\n",
    "for itomo,tomo in enumerate(['x','y','z']):\n",
    "    for iamp,amp in enumerate(amps):\n",
    "        ax[itomo].plot(twidths,c0[target_qubit][:,iamp,itomo],label='%s %8.2f'%('c0',amp),color='r')\n",
    "        ax[itomo].plot(twidths,c1[target_qubit][:,iamp,itomo],label='%s %8.2f'%('c1',amp),color='g')\n",
    "        ax[itomo].set_ylabel(tomo)\n",
    "        ax[itomo].set_ylim((-1,1))\n",
    "    #ax[itomo].legend()\n",
    "for iamp,amp in enumerate(amps):\n",
    "    ax[3].plot(twidths,r[target_qubit][:,iamp],'*-',label='%s %8.2f'%('r',amp))\n",
    "#ax[3].legend()\n",
    "ax[3].legend(bbox_to_anchor=(1.1, 1.05))\n",
    "ax[3].set_ylim((0,1))"
   ]
  },
  {
   "cell_type": "markdown",
   "id": "d571705b-05eb-40ea-99aa-f19a7038e168",
   "metadata": {},
   "source": [
    "## CR pulse amplitude only"
   ]
  },
  {
   "cell_type": "code",
   "execution_count": null,
   "id": "19d1abbc-9e7b-481c-89bd-a8e507d4ee18",
   "metadata": {},
   "outputs": [],
   "source": [
    "control_qubit='Q1'\n",
    "target_qubit='Q0'\n",
    "itcramp = tcr.tcr(control_qubit=control_qubit,target_qubit=target_qubit)\n",
    "amps = np.linspace(0.08,0.98,31)\n",
    "itcramp.cr_amp_sweep(amps=amps,repeat=1)"
   ]
  },
  {
   "cell_type": "code",
   "execution_count": null,
   "id": "9fc04afd-c10e-43e7-b8b5-a1653c964101",
   "metadata": {},
   "outputs": [],
   "source": [
    "%%time\n",
    "c0,c1,r=itcramp.run_and_report(jobmanager=jobman,num_shots_per_circuit=100,qchip=qchip)"
   ]
  },
  {
   "cell_type": "code",
   "execution_count": null,
   "id": "bc2af106-5fc0-4aff-acbc-5df43f03406f",
   "metadata": {},
   "outputs": [],
   "source": [
    "fig=plt.figure(figsize=(6,6))\n",
    "ax=fig.subplots(4)\n",
    "for itomo,tomo in enumerate(['x','y','z']):\n",
    "    ax[itomo].plot(amps,c0[target_qubit][0,:,itomo],label='%s'%('c0'))\n",
    "    ax[itomo].plot(amps,c1[target_qubit][0,:,itomo],label='%s'%('c1'))\n",
    "    ax[itomo].set_ylabel(tomo)\n",
    "    ax[itomo].set_ylim((-1,1))\n",
    "    ax[itomo].legend()\n",
    "ax[3].plot(amps,r[target_qubit][0,:],label='%s'%('r'))\n",
    "ax[3].legend()\n",
    "ax[3].set_ylim((0,1))"
   ]
  },
  {
   "cell_type": "code",
   "execution_count": null,
   "id": "226e6521-8a29-4e46-9069-20d53aca5319",
   "metadata": {},
   "outputs": [],
   "source": [
    "def quadratic(t,a,b,c):\n",
    "    return a*(t-b)**2+c"
   ]
  },
  {
   "cell_type": "code",
   "execution_count": null,
   "id": "6c2d77fc-31af-4d9a-982c-963f5a7649f4",
   "metadata": {
    "scrolled": false
   },
   "outputs": [],
   "source": [
    "popt,pcov = curve_fit(quadratic,amps,r['Q0'][0,:])\n",
    "rfit=quadratic(amps,*popt)\n",
    "plt.plot(amps,r['Q0'][0,:])\n",
    "plt.plot(amps, rfit, label='fit')    \n",
    "print(popt[1])\n",
    "if 1:\n",
    "    qchip.gates['Q1Q0CR'].contents[0].amp=popt[1]\n",
    "    qchip.gates['Q1Q0CNOT'].contents[1].amp=popt[1]\n",
    "    qchip.save(qchippath+'/qubitcfg.json')"
   ]
  },
  {
   "cell_type": "code",
   "execution_count": null,
   "id": "458f00dd-fe9c-4c38-9d78-d0cf971aacd7",
   "metadata": {},
   "outputs": [],
   "source": []
  },
  {
   "cell_type": "markdown",
   "id": "ba3fea56-7d9a-4f0b-859e-ed9fc48165f0",
   "metadata": {
    "jp-MarkdownHeadingCollapsed": true
   },
   "source": [
    "# Full XY scan"
   ]
  },
  {
   "cell_type": "markdown",
   "id": "e455b35c-aa47-425e-80cc-3de452ff3333",
   "metadata": {
    "jp-MarkdownHeadingCollapsed": true
   },
   "source": [
    "# fullxy scan search CNOT from CR"
   ]
  },
  {
   "cell_type": "code",
   "execution_count": null,
   "id": "1a1c6161-0120-4aa1-ad71-76ed59d66d02",
   "metadata": {},
   "outputs": [],
   "source": [
    "import chipcalibration.fullxycnot as fullxycnot\n",
    "reload(fullxycnot)\n",
    "\n",
    "zprepdeg = np.array([[246,147],[314,234],[336,37]])\n",
    "#zprepdeg = np.array([[246,147],[315,234],[335,37]])\n",
    "#zprepdeg=np.random.rand(3,2)*360\n",
    "\n",
    "zprep = zprepdeg/360*2*np.pi\n",
    "xyrot = np.linspace(0,2*np.pi,200)\n",
    "axes=('Y')\n",
    "control_qubit = 'Q1'\n",
    "target_qubit = 'Q0'\n",
    "\n",
    "qchip = qc.QChip(qchippath+'qubitcfg.json')\n",
    "\n",
    "ifullxy = fullxycnot.fullxycnot(control_qubit='Q1',target_qubit='Q0',xyrot=xyrot,zprep=zprep,axes=axes)\n"
   ]
  },
  {
   "cell_type": "code",
   "execution_count": null,
   "id": "53d5de5c-4d27-498c-a94b-4cde4154bd83",
   "metadata": {},
   "outputs": [],
   "source": [
    "starttime=time.time()\n",
    "ifullxy.run_and_report(jobmanager=jobman,num_shots_per_circuit=200,qchip=qchip)\n",
    "print('time(s)',time.time()-starttime)"
   ]
  },
  {
   "cell_type": "code",
   "execution_count": null,
   "id": "28581bed-5202-4250-9401-ef6f99321b32",
   "metadata": {},
   "outputs": [],
   "source": [
    "fitval=ifullxy.fit()"
   ]
  },
  {
   "cell_type": "code",
   "execution_count": null,
   "id": "fb6999da-d655-436c-91f1-22d3f4acb056",
   "metadata": {},
   "outputs": [],
   "source": [
    "ifullxy.update_qchip(qchip)"
   ]
  },
  {
   "cell_type": "code",
   "execution_count": null,
   "id": "0a8519fe-3a7f-4e87-9fa9-237fc96e21c7",
   "metadata": {},
   "outputs": [],
   "source": [
    "qchip.save(qchippath+'qubitcfg.json')"
   ]
  },
  {
   "cell_type": "markdown",
   "id": "033f07e2-04ad-4177-9c06-aa4c44c31073",
   "metadata": {
    "jp-MarkdownHeadingCollapsed": true
   },
   "source": [
    "## continune search several"
   ]
  },
  {
   "cell_type": "code",
   "execution_count": null,
   "id": "c819b754-136a-46f6-ae21-fad5b640d4e3",
   "metadata": {},
   "outputs": [],
   "source": [
    "tryval=[]\n",
    "circuits = tq.make_srb([(0,1),], [2,8], 10)#, compiled_pauli=False)\n",
    "ifullxy = fullxycnot.fullxycnot(control_qubit='Q1',target_qubit='Q0',xyrot=xyrot,zprep=zprep,axes=axes)\n",
    "icnottruthtable = cnottruthtable.cnottruthtable(control_qubit=control_qubit,target_qubit=target_qubit)\n",
    "icnottruthtable.truthcircuit(repeat=1)\n",
    "\n",
    "for i in range(10):    \n",
    "    ifullxy.run_and_report(jobmanager=jobman,num_shots_per_circuit=200,qchip=qchip)\n",
    "    ifullxy.fit()\n",
    "    cnot=ifullxy.update_qchip(qchip)\n",
    "    mtt=icnottruthtable.run_and_report(jobmanager=jobman,num_shots_per_circuit=200,qchip=qchip)\n",
    "    \n",
    "    res = jobman_tq.build_and_run_circuits(circuits, qubit, 200, entangler='cnot', outputs=['counts', 'trueq_results'], \n",
    "                                    fit_gmm=False, delay_per_shot=0, delay_before_circuit=500.e-6)\n",
    "    circuits.results = res['trueq_results']\n",
    "    #circuits.plot.raw()\n",
    "    rbp=circuits.fit().to_dict_list()[0]['values'][1]\n",
    "    error=icnottruthtable.error()\n",
    "    print(i,mtt,error,rbp)\n",
    "    tryval.append(dict(cnot=cnot,error=error,mtt=mtt,rbp=rbp))\n",
    "    \n"
   ]
  },
  {
   "cell_type": "code",
   "execution_count": null,
   "id": "9bffec03-3483-4fa0-aab1-33d1835d3985",
   "metadata": {},
   "outputs": [],
   "source": [
    "sorted([(d['rbp'],i,d['error']) for i,d in enumerate(tryval) if d['error'][1][0]<0.3],reverse=True)"
   ]
  },
  {
   "cell_type": "code",
   "execution_count": null,
   "id": "e4c6d9ec-30a5-4aaa-96ce-a7af3e626e0e",
   "metadata": {},
   "outputs": [],
   "source": [
    "sortedd=[tryval[j[1]] for j in sorted([(d['rbp'],i) for i,d in enumerate(tryval) if d['error'][1][0]<0.3], reverse=True)]\n",
    "sortedd"
   ]
  },
  {
   "cell_type": "code",
   "execution_count": null,
   "id": "2fb6c50d-fa56-4e8a-9147-13b24719c397",
   "metadata": {},
   "outputs": [],
   "source": [
    "cnot=sortedd[0]['cnot']\n",
    "qchip.gates['Q1Q0CNOT'].contents[0]._phase=cnot[0]['phase']\n",
    "qchip.gates['Q1Q0CNOT'].contents[2]._phase=cnot[2]['phase']\n",
    "qchip.gates['Q1Q0CNOT'].contents[3]._phase=cnot[3]['phase']\n",
    "qchip.gates['Q1Q0CNOT'].contents[4].amp=cnot[4]['amp']\n",
    "if 1:\n",
    "    qchip.save(qchippath+'qubitcfg.json')"
   ]
  },
  {
   "cell_type": "markdown",
   "id": "ca568094-7517-4735-b422-ba4cc89672f7",
   "metadata": {
    "jp-MarkdownHeadingCollapsed": true
   },
   "source": [
    "# CNOT Truth table"
   ]
  },
  {
   "cell_type": "code",
   "execution_count": null,
   "id": "4cb751b7-2dad-4906-b85a-c4fa11046829",
   "metadata": {},
   "outputs": [],
   "source": [
    "import chipcalibration.cnottruthtable as cnottruthtable\n",
    "reload(cnottruthtable)\n",
    "control_qubit = 'Q1'\n",
    "target_qubit = 'Q0'\n",
    "qchip = qc.QChip(qchippath+'qubitcfg.json')\n",
    "icnottruthtable = cnottruthtable.cnottruthtable(control_qubit=control_qubit,target_qubit=target_qubit)"
   ]
  },
  {
   "cell_type": "markdown",
   "id": "65503aa2-0c21-4620-bf0c-57cd7de5cc15",
   "metadata": {},
   "source": [
    "## Direct measure truth table"
   ]
  },
  {
   "cell_type": "code",
   "execution_count": null,
   "id": "0f1d5f7b-f6d1-4816-8f27-c83524dde172",
   "metadata": {},
   "outputs": [],
   "source": [
    "icnottruthtable.truthcircuit(repeat=1)\n",
    "mtt=icnottruthtable.run_and_report(jobmanager=jobman,num_shots_per_circuit=500,qchip=qchip)\n",
    "print(mtt)\n",
    "print(icnottruthtable.error())"
   ]
  },
  {
   "cell_type": "markdown",
   "id": "2e2c1ece-a4ca-479d-b500-abaa3491019d",
   "metadata": {},
   "source": [
    "## Scan CR amplitude"
   ]
  },
  {
   "cell_type": "code",
   "execution_count": null,
   "id": "6bd1ccb9-2c44-4f5f-98cd-da136ab90bab",
   "metadata": {},
   "outputs": [],
   "source": [
    "icnottruthtable.scanamp(repeat=3,amps=np.linspace(0.56,0.8,20))\n",
    "icnottruthtable.run_and_report(jobmanager=jobman,num_shots_per_circuit=200,qchip=qchip)\n",
    "acrscan=icnottruthtable.error(normorder='fro')"
   ]
  },
  {
   "cell_type": "code",
   "execution_count": null,
   "id": "8febe79f-6d68-4e7a-8f06-f836815e4c23",
   "metadata": {},
   "outputs": [],
   "source": [
    "popt,pcov = curve_fit(quadratic,acrscan[0],acrscan[1])\n",
    "rfit=quadratic(icnottruthtable.x,*popt)\n",
    "plt.plot(acrscan[0],acrscan[1],'*')\n",
    "plt.plot(icnottruthtable.x, rfit, label='fit')    \n",
    "plt.axvline(x=qchip.gates['Q1Q0CNOT'].contents[1].amp,color='red')\n",
    "plt.axvline(x=popt[1],color='green')\n",
    "print(popt[1])"
   ]
  },
  {
   "cell_type": "code",
   "execution_count": null,
   "id": "0968f6f2-bb1a-4bb7-8063-69d51bcd1d5d",
   "metadata": {},
   "outputs": [],
   "source": [
    "icnottruthtable.update_qchip(qchip=qchip,amp=popt[1])"
   ]
  },
  {
   "cell_type": "code",
   "execution_count": null,
   "id": "cad307a7-83d5-46a6-9b4c-0bcf3702d6da",
   "metadata": {},
   "outputs": [],
   "source": [
    "if 0:\n",
    "    qchip.save(qchippath+'qubitcfg.json')"
   ]
  },
  {
   "cell_type": "code",
   "execution_count": null,
   "id": "04721682-c5ad-4637-87cf-3813528a6e72",
   "metadata": {},
   "outputs": [],
   "source": [
    "qchip.gates['Q1Q0CNOT'].contents[1].amp"
   ]
  },
  {
   "cell_type": "markdown",
   "id": "993432a6-568c-4d2d-ae56-049b2059e8a6",
   "metadata": {
    "jp-MarkdownHeadingCollapsed": true
   },
   "source": [
    "## scan pztgt"
   ]
  },
  {
   "cell_type": "code",
   "execution_count": null,
   "id": "af551ffa-5320-4507-b81e-210fa5d57a5d",
   "metadata": {},
   "outputs": [],
   "source": [
    "icnottruthtable.scanpztgt(repeat=1,pztgts=np.linspace(0,6.28,30))\n",
    "icnottruthtable.run_and_report(jobmanager=jobman,num_shots_per_circuit=500,qchip=qchip)\n",
    "pztgtscan=icnottruthtable.error(normorder='fro')"
   ]
  },
  {
   "cell_type": "code",
   "execution_count": null,
   "id": "e4a6f177-449e-4a5c-851f-0df5c9960b16",
   "metadata": {},
   "outputs": [],
   "source": [
    "popt,pcov = curve_fit(quadratic,pztgtscan[0],pztgtscan[1])\n",
    "rfit=quadratic(pztgtscan[0],*popt)\n",
    "plt.plot(pztgtscan[0],pztgtscan[1],'*')\n",
    "plt.plot(pztgtscan[0], rfit, label='fit')    \n",
    "plt.xlabel('pztgt(rad)')\n",
    "plt.axvline(x=qchip.gates['Q1Q0CNOT'].contents[0].phase,color='red')\n",
    "plt.axvline(x=popt[1],color='green')\n",
    "print(popt[1])"
   ]
  },
  {
   "cell_type": "code",
   "execution_count": null,
   "id": "50bbfee7-8512-4117-a082-9f53aa2f8445",
   "metadata": {},
   "outputs": [],
   "source": [
    "icnottruthtable.update_qchip(qchip=qchip,pztgt=popt[1])"
   ]
  },
  {
   "cell_type": "code",
   "execution_count": null,
   "id": "414f5cc9-d5e7-4736-bd27-ff2c2ade7eb2",
   "metadata": {},
   "outputs": [],
   "source": [
    "if 1:\n",
    "    qchip.save(qchippath+'qubitcfg.json')"
   ]
  },
  {
   "cell_type": "markdown",
   "id": "1c3586b5-f336-424e-b6e1-7985b6ab790c",
   "metadata": {
    "jp-MarkdownHeadingCollapsed": true
   },
   "source": [
    "## scan pzctl"
   ]
  },
  {
   "cell_type": "code",
   "execution_count": null,
   "id": "12a2d4db-d81b-40fb-bf70-f33c0a6245ab",
   "metadata": {},
   "outputs": [],
   "source": [
    "icnottruthtable.scanpzctl(repeat=3,pzctls=np.linspace(0,6.28,50))\n",
    "icnottruthtable.run_and_report(jobmanager=jobman,num_shots_per_circuit=100,qchip=qchip)\n",
    "pzctlscan=icnottruthtable.error(normorder='fro')"
   ]
  },
  {
   "cell_type": "code",
   "execution_count": null,
   "id": "5549017d-c58a-475a-9335-4c1fbec28acd",
   "metadata": {},
   "outputs": [],
   "source": []
  },
  {
   "cell_type": "code",
   "execution_count": null,
   "id": "d27a4df3-b5eb-41f9-8c02-ea2f3462efaf",
   "metadata": {},
   "outputs": [],
   "source": [
    "#popt,pcov = curve_fit(quadratic,pzctlscan[0],pzctlscan[1])\n",
    "#rfit=quadratic(pzctlscan[0],*popt)\n",
    "plt.plot(pzctlscan[0],pzctlscan[1],'*')\n",
    "#plt.plot(pzctlscan[0], rfit, label='fit')    \n",
    "plt.xlabel('pzctl(rad)')\n",
    "plt.axvline(x=qchip.gates['Q1Q0CNOT'].contents[3].phase,color='red')\n",
    "#plt.axvline(x=popt[1],color='green')\n",
    "#print(popt[1])"
   ]
  },
  {
   "cell_type": "markdown",
   "id": "d641dbec-9a5a-499d-b32f-99cfc590e8cd",
   "metadata": {
    "jp-MarkdownHeadingCollapsed": true
   },
   "source": [
    "## scan axtgt"
   ]
  },
  {
   "cell_type": "code",
   "execution_count": null,
   "id": "6dbbd6bc-e12d-4424-80d2-33ba81f12a03",
   "metadata": {},
   "outputs": [],
   "source": [
    "icnottruthtable.scanaxtgt(repeat=3,axtgts=np.linspace(0,0.1,20))\n",
    "icnottruthtable.run_and_report(jobmanager=jobman,num_shots_per_circuit=100,qchip=qchip)\n",
    "axtgtscan=icnottruthtable.error(normorder='fro')"
   ]
  },
  {
   "cell_type": "code",
   "execution_count": null,
   "id": "292237c1-6d2f-400c-af60-b5b901a6e6a2",
   "metadata": {},
   "outputs": [],
   "source": [
    "plt.plot(axtgtscan[0],axtgtscan[1],'*')\n",
    "if 0:\n",
    "    popt,pcov = curve_fit(quadratic,axtgtscan[0],axtgtscan[1])\n",
    "    rfit=quadratic(axtgtscan[0],*popt)\n",
    "    plt.plot(axtgtscan[0], rfit, label='fit')    \n",
    "plt.xlabel('axctl(fullscale)')\n",
    "plt.axvline(x=qchip.gates['Q1Q0CNOT'].contents[4].amp,color='red')\n",
    "plt.axvline(x=popt[1],color='green')\n",
    "#print(popt[1])"
   ]
  },
  {
   "cell_type": "code",
   "execution_count": null,
   "id": "f9dcc21a-9499-45ca-89ad-1e4fdc81fac5",
   "metadata": {},
   "outputs": [],
   "source": [
    "icnottruthtable.update_qchip(qchip=qchip,axtgt=popt[1])"
   ]
  },
  {
   "cell_type": "code",
   "execution_count": null,
   "id": "697d9676-7ccf-4ea8-818f-98d0f7c6c27b",
   "metadata": {},
   "outputs": [],
   "source": [
    "if 1:\n",
    "    qchip.save(qchippath+'qubitcfg.json')"
   ]
  },
  {
   "cell_type": "code",
   "execution_count": null,
   "id": "7028f53c-7582-4c7d-8275-7c850411eb23",
   "metadata": {},
   "outputs": [],
   "source": [
    "qubits=['Q0','Q1']\n",
    "for q in qubits:\n",
    "    plt.hexbin(icnottruthtable.output_dict['s11'][str(channel_configs[q+'.rdrv'].core_ind)].real,icnottruthtable.output_dict['s11'][str(channel_configs[q+'.rdrv'].core_ind)].imag)\n",
    "    c0=jobman.gmm_manager.gmm_dict[q].gmmfit.means_[0]\n",
    "    #c0=g.means_[0]\n",
    "    plt.plot(c0[0],c0[1],'+',color='red')\n",
    "    c1=jobman.gmm_manager.gmm_dict[q].gmmfit.means_[1]\n",
    "    #c1=g.means_[1]\n",
    "    plt.plot(c1[0],c1[1],'+',color='red')\n",
    "    plt.title(q)\n",
    "    plt.show()"
   ]
  },
  {
   "cell_type": "markdown",
   "id": "216fdc0d-79c3-4332-a06b-e3013129611a",
   "metadata": {
    "jp-MarkdownHeadingCollapsed": true
   },
   "source": [
    "## Try to optimize CNOT (not good yet)"
   ]
  },
  {
   "cell_type": "code",
   "execution_count": null,
   "id": "00cf099b-a759-49b1-bc67-867cb6468d33",
   "metadata": {},
   "outputs": [],
   "source": [
    "import time\n",
    "control = 'Q1'\n",
    "target = 'Q0'\n",
    "\n",
    "amps = np.linspace(0.66,0.725,21)\n",
    "repeat = 10\n",
    "widths = [350e-9]\n"
   ]
  },
  {
   "cell_type": "code",
   "execution_count": null,
   "id": "b30530d9-5273-486d-a004-7653d64a0cfc",
   "metadata": {},
   "outputs": [],
   "source": [
    "circuits=cr_sweep_amp_width(control_qubit=control,target_qubit=target,twidths=widths,amps=amps,repeat=repeat,crcnotgate='CNOT')\n",
    "starttime=time.time()\n",
    "shotsout=jobman.build_and_run_circuits(circuits, 1000, outputs=['shots'],reads_per_shot=len(amps)*6)['shots']\n",
    "print('time',time.time()-starttime)"
   ]
  },
  {
   "cell_type": "code",
   "execution_count": null,
   "id": "c8570183-ddcf-4826-8d77-456cb972c3ed",
   "metadata": {},
   "outputs": [],
   "source": [
    "\n",
    "c0={}\n",
    "c1={}\n",
    "r={}\n",
    "for k,v in shotsout.items():\n",
    "    ss=np.average(v,axis=1).reshape((len(widths),len(amps),6))\n",
    "    c0[k]=ss[:,:,:3]*2-1\n",
    "    c1[k]=ss[:,:,3:]*2-1\n",
    "    r[k]=0.5*np.sqrt(np.sum(np.square(c0[k]-c1[k]),axis=2))\n",
    "    \n",
    "#plt.legend()   "
   ]
  },
  {
   "cell_type": "code",
   "execution_count": null,
   "id": "4c9b6ac5-ac17-48da-b254-a7601a1c88f7",
   "metadata": {},
   "outputs": [],
   "source": [
    "fig=plt.figure(figsize=(6,6))\n",
    "ax=fig.subplots(4)\n",
    "for itomo,tomo in enumerate(['x','y','z']):\n",
    "    ax[itomo].plot(amps,c0['Q0'][0,:,itomo],label='%s'%('c0'))\n",
    "    ax[itomo].plot(amps,c1['Q0'][0,:,itomo],label='%s'%('c1'))\n",
    "    ax[itomo].set_ylabel(tomo)\n",
    "    ax[itomo].set_ylim((-1,1))\n",
    "    ax[itomo].legend()\n",
    "ax[3].plot(amps,r['Q0'][0,:],label='%s'%('r'))\n",
    "ax[3].legend()\n",
    "#ax[3].set_ylim((0,1))"
   ]
  },
  {
   "cell_type": "code",
   "execution_count": null,
   "id": "27084899-e56a-45dd-a940-ac681d2d1acf",
   "metadata": {},
   "outputs": [],
   "source": [
    "popt,pcov = curve_fit(quadratic,amps[5:],r['Q0'][0,:][5:])\n",
    "rfit=quadratic(amps,*popt)\n",
    "plt.plot(amps,r['Q0'][0,:],'*')\n",
    "plt.plot(amps, rfit, label='fit')    \n",
    "print(popt[1])"
   ]
  },
  {
   "cell_type": "code",
   "execution_count": null,
   "id": "adea698a-00e9-49ef-a2f1-6a011be3b5d3",
   "metadata": {},
   "outputs": [],
   "source": [
    "qchip.gates['Q1Q0CNOT'].contents[0].phase"
   ]
  },
  {
   "cell_type": "code",
   "execution_count": null,
   "id": "6c560489-4da3-4bc5-88f2-cb6ecc5d7d81",
   "metadata": {},
   "outputs": [],
   "source": [
    "twidth=qchip.gates['Q1Q0CNOT'].contents[1].twidth\n",
    "amp=qchip.gates['Q1Q0CNOT'].contents[1].amp\n",
    "deltapz=np.linspace(-0.1,0.1,21)\n",
    "pztgts=qchip.gates['Q1Q0CNOT'].contents[0].phase+deltapz\n",
    "\n",
    "\n",
    "pztgts=qchip.gates['Q1Q0CNOT'].contents[0].phase+deltapz\n",
    "circuits=cnot_sweep_pztgt(control_qubit=control, target_qubit=target, twidth=twidth, amp=amp, pztgts=pztgts, repeat=1,crcnotgate='CNOT')\n",
    "\n"
   ]
  },
  {
   "cell_type": "code",
   "execution_count": null,
   "id": "d612b6f4-2c1d-4491-a17c-19d9ffc8be6d",
   "metadata": {},
   "outputs": [],
   "source": [
    "starttime=time.time()\n",
    "shotsout=jobman.build_and_run_circuits(circuits, 1000, outputs=['shots'],reads_per_shot=len(pztgts)*6)['shots']\n",
    "print('time',time.time()-starttime)"
   ]
  },
  {
   "cell_type": "code",
   "execution_count": null,
   "id": "3562a5db-0594-47c1-a583-8c72b02adb2b",
   "metadata": {},
   "outputs": [],
   "source": [
    "c0,c1,r=ccrk(shotsout,twidths=[twidth],amps=pztgts)"
   ]
  },
  {
   "cell_type": "code",
   "execution_count": null,
   "id": "f7b3d50c-4b09-42ed-91c2-fa930cafc988",
   "metadata": {},
   "outputs": [],
   "source": [
    "plt.plot(r['Q0'].flatten())"
   ]
  },
  {
   "cell_type": "code",
   "execution_count": null,
   "id": "aafae52d-d874-470a-a38a-a139212ebcd7",
   "metadata": {},
   "outputs": [],
   "source": [
    "if 0:\n",
    "    qchip.gates['Q1Q0CR'].contents[0].amp=popt[1]\n",
    "    qchip.gates['Q1Q0CNOT'].contents[1].amp=popt[1]\n",
    "    qchip.save(qchippath+'/qubitcfg.json')"
   ]
  },
  {
   "cell_type": "code",
   "execution_count": null,
   "id": "e46aae02",
   "metadata": {},
   "outputs": [],
   "source": [
    "qchip.gate_dict['Q1Q0CNOT']"
   ]
  },
  {
   "cell_type": "markdown",
   "id": "b5ceb5b1-4bf5-4e62-a640-e8cea751d78b",
   "metadata": {
    "jp-MarkdownHeadingCollapsed": true
   },
   "source": [
    "# 2 qubits RB"
   ]
  },
  {
   "cell_type": "code",
   "execution_count": null,
   "id": "c05e0525-df1d-4cda-a544-84df44bc1e8d",
   "metadata": {},
   "outputs": [],
   "source": [
    "import trueq as tq\n",
    "import qubic.trueq.transpiler as tp\n",
    "import qubic.trueq.job_manager as tqj\n",
    "qchip = qc.QChip(qchippath+'qubitcfg.json')\n",
    "jobman_tq = tqj.TrueQJobManager(fpga_config, qchip, channel_configs, runner, gmm_manager=jobman.gmm_manager)"
   ]
  },
  {
   "cell_type": "code",
   "execution_count": null,
   "id": "6f2dade4-38fc-4b99-a763-5158b871cf1c",
   "metadata": {},
   "outputs": [],
   "source": [
    "#circuits = tq.make_srb([(0,1),], [1,2,4,8,16,32], 30)#, compiled_pauli=False)\n",
    "#circuits = tq.make_srb([(0,1),], [1,2,4,8,16,32], 30)#, compiled_pauli=False)\n",
    "#circuits = tq.make_srb([0,1,2], [2,32, 256, 512], 20)#, compiled_pauli=False)\n",
    "#circuits = tq.make_srb([0,1,2,3,4,5,6,7], [1,2,8, 16], 10)#, compiled_pauli=False)\n",
    "circuits = tq.make_srb([(0,1),], [1,2,4,8,16], 20)#, compiled_pauli=False)\n",
    "\n",
    "circuits.append(tq.make_rcal(circuits.labels))\n",
    "#qubit=['Q0','Q1','Q2','Q3','Q4','Q5','Q6','Q7']\n",
    "qubit=['Q1','Q0']\n",
    "res = jobman_tq.build_and_run_circuits(circuits, qubit, 100, entangler='cnot', outputs=['counts', 'trueq_results'], \n",
    "                                    fit_gmm=False, delay_per_shot=0, delay_before_circuit=500.e-6)\n",
    "circuits.results = res['trueq_results']\n",
    "circuits.plot.raw()\n",
    "print(circuits.fit())"
   ]
  },
  {
   "cell_type": "code",
   "execution_count": null,
   "id": "d43552e4-fcb9-417d-b1bc-d00d207d93a8",
   "metadata": {},
   "outputs": [],
   "source": []
  },
  {
   "cell_type": "code",
   "execution_count": null,
   "id": "64e15fe7-4caf-4bbd-ad7b-fc9a3eb054f1",
   "metadata": {},
   "outputs": [],
   "source": [
    "cf=circuits.fit()"
   ]
  },
  {
   "cell_type": "code",
   "execution_count": null,
   "id": "7b08de65-2b41-4b93-b96c-70e585dc06de",
   "metadata": {},
   "outputs": [],
   "source": [
    "p=cf.to_dict_list()[0]['values'][1]"
   ]
  },
  {
   "cell_type": "markdown",
   "id": "0a961821-c53b-4068-ad16-3121ed8c77a8",
   "metadata": {
    "jp-MarkdownHeadingCollapsed": true
   },
   "source": [
    "# Save current GMM"
   ]
  },
  {
   "cell_type": "code",
   "execution_count": null,
   "id": "28443e48-f6c0-41c9-bc55-430c279f7f1b",
   "metadata": {},
   "outputs": [],
   "source": [
    "jobman.gmm_manager.save(qchippath+'Q01gmm.pkl')"
   ]
  },
  {
   "cell_type": "markdown",
   "id": "a385c1e5-57f0-44cf-b126-67b7e792a22c",
   "metadata": {
    "jp-MarkdownHeadingCollapsed": true
   },
   "source": [
    "# Save the calibration json"
   ]
  },
  {
   "cell_type": "code",
   "execution_count": null,
   "id": "0f5d3b86-5818-497d-8dd1-69d0afbac081",
   "metadata": {},
   "outputs": [],
   "source": [
    "if 1:\n",
    "    qchip.save(qchippath+'qubitcfg.json')"
   ]
  },
  {
   "cell_type": "code",
   "execution_count": null,
   "id": "9eeaeb4a-3883-4e97-8c72-de4b87743390",
   "metadata": {},
   "outputs": [],
   "source": []
  },
  {
   "cell_type": "code",
   "execution_count": null,
   "id": "75b87727-fbc9-41c7-bd0f-699c2f66a678",
   "metadata": {},
   "outputs": [],
   "source": [
    "a=np.array([[[0.9325, 0.0405, 0.024,  0.003 ],\n",
    "  [0.1375, 0.8455, 0.0045, 0.0125],\n",
    "  [0.0415, 0.011 , 0.882 , 0.0655],\n",
    "  [0.018 , 0.0435, 0.1205 ,0.818 ]]])\n",
    "i=np.array([[[1,0,0,0],[0,1,0,0],[0,0,0,1],[0,0,1,0]]])"
   ]
  },
  {
   "cell_type": "code",
   "execution_count": null,
   "id": "6198bd80-635b-43ef-b040-77198976c4ae",
   "metadata": {},
   "outputs": [],
   "source": [
    "a-i"
   ]
  },
  {
   "cell_type": "code",
   "execution_count": null,
   "id": "d3599551-7190-4ab3-b963-64b06c7a84b7",
   "metadata": {},
   "outputs": [],
   "source": [
    "np.matmul(i,i)"
   ]
  },
  {
   "cell_type": "code",
   "execution_count": null,
   "id": "c179f1e7-9c01-4f7d-a49b-11694b160bdc",
   "metadata": {},
   "outputs": [],
   "source": [
    "np.linalg.norm((norm-np.matmul(i,i))[0],ord=np.inf)"
   ]
  },
  {
   "cell_type": "code",
   "execution_count": null,
   "id": "1102dbf4-99a9-4b1f-b68a-5fbdf8b5fa67",
   "metadata": {},
   "outputs": [],
   "source": [
    "norm"
   ]
  },
  {
   "cell_type": "code",
   "execution_count": null,
   "id": "d3434308-691a-41fc-8c3a-985f2eed0104",
   "metadata": {},
   "outputs": [],
   "source": [
    "icnottruthtable.output_dict['counts'].bitstring_dict['00'][0]"
   ]
  },
  {
   "cell_type": "code",
   "execution_count": null,
   "id": "0e9a1c89-56bf-446e-be34-0596043408ea",
   "metadata": {},
   "outputs": [],
   "source": [
    "icnottruthtable.circuits"
   ]
  },
  {
   "cell_type": "code",
   "execution_count": null,
   "id": "9a4a020f-c725-4160-b632-b697d377ba68",
   "metadata": {},
   "outputs": [],
   "source": [
    "65*256*16"
   ]
  },
  {
   "cell_type": "code",
   "execution_count": null,
   "id": "3dd95c02-97ea-42f9-aedc-b0e9561caa3b",
   "metadata": {},
   "outputs": [],
   "source": [
    "dir(icnottruthtable)\n",
    "icnottruthtable.output_dict['counts'].bitstring_dict"
   ]
  },
  {
   "cell_type": "markdown",
   "id": "4fd181ac-a4cb-4e06-9d8a-8664738660ee",
   "metadata": {},
   "source": [
    "# manual 0,1"
   ]
  },
  {
   "cell_type": "code",
   "execution_count": null,
   "id": "eadfcfc5-b3f7-418a-8253-88a14f8d0a59",
   "metadata": {},
   "outputs": [],
   "source": [
    "qchip = qc.QChip(qchippath+'qubitcfg.json')\n",
    "q='Q0'\n",
    "tx=np.linspace(0,50e-6,100)\n",
    "tx=np.zeros(30)\n",
    "circuits= []\n",
    "circuit=[]\n",
    "df=-10e3\n",
    "framsey=qchip.qubits[q].freq+df\n",
    "for ti in tx:\n",
    "#if 1:    \n",
    "    circuit.append({'name': 'delay', 't': 400e-6, 'qubit': q})\n",
    "#    circuit.append({'name': 'read', 'qubit': q})\n",
    "#    circuit.append({'name': 'delay', 't': 12e-6, 'qubit': q})\n",
    "    circuit.append({'name': 'X90', 'qubit': q,'modi':{(0,'freq'):framsey}})\n",
    "    circuit.append({'name': 'delay', 't': ti, 'qubit': q})        \n",
    "    circuit.append({'name': 'X90', 'qubit': q,'modi':{(0,'freq'):framsey}})\n",
    "    \n",
    "    circuit.append({'name': 'read', 'qubit': q})\n",
    "circuits.append(circuit)"
   ]
  },
  {
   "cell_type": "code",
   "execution_count": null,
   "id": "197808b9-4d59-428a-b093-f9ae1027d441",
   "metadata": {},
   "outputs": [],
   "source": [
    "qchip = qc.QChip(qchippath+'qubitcfg.json')\n",
    "q='Q1'\n",
    "q2='Q2'\n",
    "circuits= []\n",
    "circuit=[]\n",
    "circuit.append({'name': 'delay', 't': 400e-6, 'qubit': q})\n",
    "circuit.append({'name': 'X90', 'qubit': q})\n",
    "circuit.append({'name': 'X90', 'qubit': q})\n",
    "circuit.append({'name': 'X90', 'qubit': q2})\n",
    "circuit.append({'name': 'X90', 'qubit': q2})\n",
    "\n",
    "circuit.append({'name': 'read', 'qubit': q})\n",
    "circuit.append({'name': 'read', 'qubit': q2})\n",
    "circuits.append(circuit)"
   ]
  },
  {
   "cell_type": "code",
   "execution_count": null,
   "id": "a3ca47a3-d2e7-4b20-a1e1-4b7a463af57e",
   "metadata": {},
   "outputs": [],
   "source": [
    "qchip = qc.QChip(qchippath+'qubitcfg.json')\n",
    "q='Q0'\n",
    "circuits= []\n",
    "circuit=[]\n",
    "circuit.append({'name': 'delay', 't': 400e-6, 'qubit': q})\n",
    "circuit.append({'name': 'read', 'qubit': q})\n",
    "circuit.append({'name': 'delay', 't': 400e-6, 'qubit': q})\n",
    "circuit.append({'name': 'X90', 'qubit': q})\n",
    "circuit.append({'name': 'X90', 'qubit': q})\n",
    "circuit.append({'name': 'read', 'qubit': q})\n",
    "circuit.append({'name': 'delay', 't': 400e-6, 'qubit': q})\n",
    "circuit.append({'name': 'X90', 'qubit': q})\n",
    "circuit.append({'name': 'X90', 'qubit': q})\n",
    "circuit.append({'name': 'X90_ef', 'qubit': q})\n",
    "circuit.append({'name': 'X90_ef', 'qubit': q})\n",
    "circuit.append({'name': 'read', 'qubit': q})\n",
    "circuits.append(circuit)"
   ]
  },
  {
   "cell_type": "code",
   "execution_count": null,
   "id": "e1162695-6a6a-4d77-9fad-3905cf02dc89",
   "metadata": {},
   "outputs": [],
   "source": [
    "%%time\n",
    "output_dict=jobman.collect_all(program_list=circuits,num_shots_per_circuit=2000,reads_per_shot=3,qchip=qchip)\n",
    "raw_IQ=output_dict['s11']"
   ]
  },
  {
   "cell_type": "code",
   "execution_count": null,
   "id": "2ccdd446-5bc7-4ceb-84fc-d9b68a58ef31",
   "metadata": {},
   "outputs": [],
   "source": [
    "import qubic.state_disc as sd\n",
    "reload(sd)\n",
    "gmm = sd.GMMStateDiscriminator(n_states=3)\n",
    "gmm.fit(iqdata=raw_IQ['7'].flatten())\n"
   ]
  },
  {
   "cell_type": "code",
   "execution_count": null,
   "id": "93b0595b-d35c-4a5d-bef7-b3a122aec85d",
   "metadata": {},
   "outputs": [],
   "source": [
    "gmm.set_labels_maxtomin(iqdata=iq0,labels_maxtomin=['0'])\n",
    "gmm.set_labels_maxtomin(iqdata=iq1,labels_maxtomin=['1'])\n",
    "                    "
   ]
  },
  {
   "cell_type": "code",
   "execution_count": null,
   "id": "8992bec8-fc66-4898-905f-4407a75d1bdc",
   "metadata": {},
   "outputs": [],
   "source": [
    "gmm.labels"
   ]
  },
  {
   "cell_type": "code",
   "execution_count": null,
   "id": "b3621c64-6462-48d8-b777-2516c65d10c5",
   "metadata": {},
   "outputs": [],
   "source": [
    "gmm.set_none_label('2')"
   ]
  },
  {
   "cell_type": "code",
   "execution_count": null,
   "id": "8df77bd9-0772-4ecc-ba27-3ef703dd72f2",
   "metadata": {},
   "outputs": [],
   "source": [
    "blob3={}\n",
    "distij={}\n",
    "from chipcalibration import blob\n",
    "import itertools\n",
    "for i in range(gmm.gmmfit.n_components):\n",
    "    blob3[i]=blob.c_blob(mean=gmm.gmmfit.means_[i],covar=gmm.gmmfit.covariances_[i])\n",
    "for i,j in itertools.combinations(blob3,2):\n",
    "    distij[tuple(sorted([gmm.labels[i],gmm.labels[j]]))]=blob3[i].dist(blob3[j])\n",
    "    #distij[tuple(sorted([i,j]))]=blob3[i].dist(blob3[j])"
   ]
  },
  {
   "cell_type": "code",
   "execution_count": null,
   "id": "35fad8b1-2b21-45f3-aed0-353fe0c80044",
   "metadata": {},
   "outputs": [],
   "source": [
    "distij"
   ]
  },
  {
   "cell_type": "code",
   "execution_count": null,
   "id": "b82c3414-f7f5-446e-8989-84399f24612b",
   "metadata": {},
   "outputs": [],
   "source": [
    "predict=gmm.predict(raw_IQ['7'].flatten())"
   ]
  },
  {
   "cell_type": "code",
   "execution_count": null,
   "id": "41224d40-21c5-41ae-8618-7326b08140f8",
   "metadata": {},
   "outputs": [],
   "source": [
    "iq1.shape"
   ]
  },
  {
   "cell_type": "code",
   "execution_count": null,
   "id": "a313e634-75f3-4557-89dc-1ed1da01488f",
   "metadata": {},
   "outputs": [],
   "source": [
    "sum(gmm.gmmfit.predict(gmm._format_complex_data(iq0))==1)"
   ]
  },
  {
   "cell_type": "code",
   "execution_count": null,
   "id": "1db9890f-14f3-47cc-aea1-7e41062ecca1",
   "metadata": {},
   "outputs": [],
   "source": [
    "labels=gmm.labels\n",
    "iq=raw_IQ[str(channel_configs[q+'.rdrv'].core_ind)]\n",
    "iq0=iq[0,:,0]\n",
    "iq1=iq[0,:,1]\n",
    "iq2=iq[0,:,2]\n",
    "for q in ['Q0']:\n",
    "    plt.plot(iq0.real,iq0.imag,'g.',label='0')    \n",
    "    plt.plot(iq1.real,iq1.imag,'y.',label='1')    \n",
    "    plt.plot(iq2.real,iq2.imag,'c.',label='2')    \n",
    "    c0=gmm.gmmfit.means_[0]\n",
    "    plt.plot(c0[0],c0[1],marker='$%s$'%labels[0],color='red')\n",
    "    c1=gmm.gmmfit.means_[1]\n",
    "    plt.plot(c1[0],c1[1],marker='$%s$'%labels[1],color='red')\n",
    "    c2=gmm.gmmfit.means_[2]\n",
    "    plt.plot(c2[0],c2[1],marker='$%s$'%labels[2],color='red')\n",
    "    plt.legend()\n",
    "    plt.title(q)\n",
    "    plt.show()\n"
   ]
  },
  {
   "cell_type": "code",
   "execution_count": null,
   "id": "64a9e1fd-7f95-44ee-96bf-5023611fac57",
   "metadata": {},
   "outputs": [],
   "source": [
    "if 0:\n",
    "    jobman.gmm_manager.fit(raw_IQ)\n",
    "predict=jobman.gmm_manager.predict(raw_IQ)"
   ]
  },
  {
   "cell_type": "code",
   "execution_count": null,
   "id": "7337324c-17b9-4601-b478-8f4aef1ff3c8",
   "metadata": {},
   "outputs": [],
   "source": [
    "pd=predict['Q2'].reshape((-1,1))\n",
    "plt.plot(np.mean(pd,axis=0),'*-')\n",
    "plt.xlabel('time (us)')\n",
    "plt.ylabel('P<1>')\n",
    "plt.ylim((0,1))\n",
    "plt.legend()"
   ]
  },
  {
   "cell_type": "code",
   "execution_count": null,
   "id": "a74b0349-d1b8-4056-a9c0-764d48a6345f",
   "metadata": {},
   "outputs": [],
   "source": [
    "iq.shape"
   ]
  },
  {
   "cell_type": "code",
   "execution_count": null,
   "id": "d354e514-2388-474f-bbc2-3f41dc2adc96",
   "metadata": {},
   "outputs": [],
   "source": [
    "from scipy.optimize import curve_fit\n",
    "k=1e-6\n",
    "def _cos_exp(x, scale, offset, drive_freq, phi, exp_decay):\n",
    "    return scale*np.exp(-x/exp_decay)*np.cos(2*np.pi*x*drive_freq - phi) + offset\n",
    "fit = curve_fit(_cos_exp, tx/k, np.mean(pd,axis=0).flatten(),)\n",
    "print(fit[0])\n",
    "fit[0][2]=fit[0][2]/k\n",
    "fit[0][4]=fit[0][4]*k\n",
    "print(fit[0])\n",
    "plt.plot(tx/1e-6,np.mean(pd,axis=0).flatten())\n",
    "plt.plot(tx/1e-6,_cos_exp(tx,*fit[0]))\n",
    "#plt.plot(tx/1e-6,np.cos(2*np.pi*10e3*tx),'.')\n",
    "#plt.plot(tx/1e-6,np.cos(2*np.pi*1e6*tx),'.')\n",
    "plt.show()"
   ]
  },
  {
   "cell_type": "code",
   "execution_count": null,
   "id": "d91ce13c-0e21-4e5c-b278-5c665e79560b",
   "metadata": {},
   "outputs": [],
   "source": [
    "if 0:\n",
    "    pall=predict['Q0'].reshape((-1,len(tx),2))\n",
    "    ph=pall[:,:,0]\n",
    "    pd=pall[:,:,1]\n",
    "    plt.plot(tx/1e-6,np.sum((ph==0)*pd,axis=0)/np.sum(ph==0,axis=0),label='w/ harolding')\n",
    "    plt.plot(tx/1e-6,np.mean(pd,axis=0),label='w/o harolding')\n",
    "    plt.xlabel('time (us)')\n",
    "    plt.ylabel('P<1>')\n",
    "    plt.ylim((0,1))\n",
    "    plt.legend()"
   ]
  },
  {
   "cell_type": "code",
   "execution_count": null,
   "id": "06305f80-bad6-46b6-b52d-1b084032d083",
   "metadata": {
    "scrolled": true
   },
   "outputs": [],
   "source": []
  },
  {
   "cell_type": "code",
   "execution_count": null,
   "id": "f00aea72-ccdf-435c-96fb-b60c3c818d5a",
   "metadata": {},
   "outputs": [],
   "source": [
    "gmmfit=gmm.gmm_dict[q].gmmfit"
   ]
  },
  {
   "cell_type": "code",
   "execution_count": null,
   "id": "f3368345-5beb-4864-97d6-57432abc253a",
   "metadata": {},
   "outputs": [],
   "source": [
    "gmmfit.means_"
   ]
  },
  {
   "cell_type": "code",
   "execution_count": null,
   "id": "ce25e729-d127-47d7-b50b-0cc729ec7ded",
   "metadata": {},
   "outputs": [],
   "source": [
    "gmmfit.means_[0]"
   ]
  },
  {
   "cell_type": "markdown",
   "id": "1dba42b1-b72b-4d82-8c57-226ef95ff3d0",
   "metadata": {},
   "source": [
    "## check readout "
   ]
  },
  {
   "cell_type": "code",
   "execution_count": null,
   "id": "9d37e52d",
   "metadata": {},
   "outputs": [],
   "source": [
    "%%time\n",
    "qchip = qc.QChip(qchippath+'qubitcfg.json')\n",
    "q='Q0'\n",
    "errh0s=[]\n",
    "errh1s=[]\n",
    "x=np.linspace(10e-9,50e-6,50)\n",
    "for i,d1 in enumerate(x):\n",
    "    print(i,end=' ')\n",
    "    circuits= []\n",
    "    circuit=[]\n",
    "    circuit.append({'name': 'delay', 't': 600e-6, 'qubit': q})\n",
    "    circuit.append({'name': 'read', 'qubit': q})\n",
    "    circuit.append({'name': 'delay', 't': d1, 'qubit': q})\n",
    "    circuit.append({'name': 'read', 'qubit': q})\n",
    "    circuit.append({'name': 'delay', 't': 600e-6, 'qubit': q})    \n",
    "    circuit.append({'name': 'read', 'qubit': q})\n",
    "    circuit.append({'name': 'delay', 't': d1, 'qubit': q})\n",
    "    circuit.append({'name': 'X90', 'qubit': q})\n",
    "    circuit.append({'name': 'X90', 'qubit': q})\n",
    "    circuit.append({'name': 'read', 'qubit': q})\n",
    "    circuits.append(circuit)\n",
    "    output_dict=jobman.collect_all(program_list=circuits,num_shots_per_circuit=10000,reads_per_shot=4,qchip=qchip)\n",
    "    raw_IQ=output_dict['s11']\n",
    "    h0=sum(output_dict['shots']['Q0'][0][:,0]==0)\n",
    "    errh0s.append((np.sum(np.all(output_dict['shots']['Q0'][0][:,0:2]==[0,1],axis=1)))/h0)\n",
    "    h1=sum(output_dict['shots']['Q0'][0][:,2]==0)\n",
    "    errh1s.append((np.sum(np.all(output_dict['shots']['Q0'][0][:,2:4]==[0,0],axis=1)))/h0)"
   ]
  },
  {
   "cell_type": "code",
   "execution_count": null,
   "id": "24578302-87db-4860-b625-c2f833dc9dc5",
   "metadata": {},
   "outputs": [],
   "source": [
    "plt.plot(x/1e-6,errh0s,'.-')\n",
    "plt.xlabel('delay after heralding read (us)')\n",
    "plt.ylabel('Prep 0 meas 1')\n",
    "plt.show()\n",
    "plt.plot(x/1e-6,errh1s,'.-')\n",
    "plt.xlabel('delay after heralding read (us)')\n",
    "plt.ylabel('Prep 1 meas 0')\n",
    "plt.show()"
   ]
  },
  {
   "cell_type": "code",
   "execution_count": null,
   "id": "1f965e17-8bbb-49ab-ac0a-46bdbd2fcac1",
   "metadata": {},
   "outputs": [],
   "source": [
    "output_dict['shots']['Q0'][0][:,0:2]"
   ]
  },
  {
   "cell_type": "code",
   "execution_count": null,
   "id": "4e848326-bca2-4578-9ef5-91a075d50659",
   "metadata": {},
   "outputs": [],
   "source": [
    "%%time\n",
    "output_dict=jobman.collect_all(program_list=circuits,num_shots_per_circuit=1000,reads_per_shot=2,qchip=qchip)\n",
    "raw_IQ=output_dict['s11']"
   ]
  },
  {
   "cell_type": "code",
   "execution_count": null,
   "id": "73eadd92-62b7-41b9-a67f-a070da8ae9a4",
   "metadata": {},
   "outputs": [],
   "source": [
    "output_dict"
   ]
  },
  {
   "cell_type": "code",
   "execution_count": null,
   "id": "a76d17b3-95e1-47ef-8f3c-bceddaf15dc9",
   "metadata": {},
   "outputs": [],
   "source": [
    "labels=jobman.gmm_manager.gmm_dict[q].labels\n",
    "iq=raw_IQ[str(channel_configs[q+'.rdrv'].core_ind)]\n",
    "iq0=iq[0,:,0]\n",
    "iq1=iq[0,:,1]\n",
    "for q in ['Q0']:\n",
    "    plt.plot(iq0.real,iq0.imag,'g.',label='0')    \n",
    "    plt.plot(iq1.real,iq1.imag,'y.',label='1')    \n",
    "#     plt.plot(iq2.real,iq2.imag,'c.',label='2')    \n",
    "    c0=jobman.gmm_manager.gmm_dict[q].gmmfit.means_[0]\n",
    "    plt.plot(c0[0],c0[1],marker='$%s$'%labels[0],color='red')\n",
    "    c1=jobman.gmm_manager.gmm_dict[q].gmmfit.means_[1]\n",
    "    plt.plot(c1[0],c1[1],marker='$%s$'%labels[1],color='red')\n",
    "    # c2=gmm.gmmfit.means_[2]\n",
    "    # plt.plot(c2[0],c2[1],marker='$%s$'%labels[2],color='red')\n",
    "    plt.legend()\n",
    "    plt.title(q)\n",
    "    plt.show()"
   ]
  },
  {
   "cell_type": "code",
   "execution_count": null,
   "id": "6a945a6a-69ed-4596-8627-0e015596214f",
   "metadata": {},
   "outputs": [],
   "source": [
    "h=sum(output_dict['shots']['Q0'][0][:,0]==0)\n",
    "print(h)\n",
    "print(np.sum(np.all(output_dict['shots']['Q0'][0]==[0,0],axis=1)))\n",
    "print(np.sum(np.all(output_dict['shots']['Q0'][0]==[0,1],axis=1)))\n",
    "print(np.sum(np.all(output_dict['shots']['Q0'][0]==[1,0],axis=1)))\n",
    "print(np.sum(np.all(output_dict['shots']['Q0'][0]==[1,1],axis=1)))"
   ]
  },
  {
   "cell_type": "code",
   "execution_count": null,
   "id": "59231492-b6e7-4df5-841e-f2aa3b87790b",
   "metadata": {},
   "outputs": [],
   "source": [
    "sum((output_dict['shots']['Q0'][0][:,0]==0)*(output_dict['shots']['Q0'][0][:,1]==1))"
   ]
  },
  {
   "cell_type": "code",
   "execution_count": null,
   "id": "e610af67-6d3a-414e-a97e-7cba9305e134",
   "metadata": {},
   "outputs": [],
   "source": [
    "'Plus'.lower()"
   ]
  },
  {
   "cell_type": "code",
   "execution_count": null,
   "id": "8aa5c16d-916f-4223-89f5-2ffb01537500",
   "metadata": {},
   "outputs": [],
   "source": [
    "m"
   ]
  },
  {
   "cell_type": "code",
   "execution_count": null,
   "id": "b83cc253-7716-40f1-b533-eb0cfd7a219b",
   "metadata": {},
   "outputs": [],
   "source": [
    "m.reshape([-1,4,4])"
   ]
  },
  {
   "cell_type": "markdown",
   "id": "7dc5dbf2-ed38-4cd1-abd5-42ffd240d028",
   "metadata": {},
   "source": [
    "# debug asm parse"
   ]
  },
  {
   "cell_type": "code",
   "execution_count": null,
   "id": "f98b17af",
   "metadata": {},
   "outputs": [],
   "source": [
    "import asmparse"
   ]
  },
  {
   "cell_type": "code",
   "execution_count": null,
   "id": "2c10a4bb",
   "metadata": {},
   "outputs": [],
   "source": [
    "circuits"
   ]
  },
  {
   "cell_type": "code",
   "execution_count": null,
   "id": "06008c2e-9fe3-403e-9d18-f1aab7c4d806",
   "metadata": {},
   "outputs": [],
   "source": [
    "jobman.raw_asm_progs[0]"
   ]
  },
  {
   "cell_type": "code",
   "execution_count": null,
   "id": "1982f0dc",
   "metadata": {},
   "outputs": [],
   "source": [
    "asmparse.cmdparse(jobman.raw_asm_progs[-1]['7']['cmd_buf'])"
   ]
  },
  {
   "cell_type": "code",
   "execution_count": null,
   "id": "927442ff-8f84-44d2-9e21-850171d83042",
   "metadata": {},
   "outputs": [],
   "source": [
    "asmparse.cmdparse(jobman.raw_asm_progs[0]['4']['cmd_buf'])"
   ]
  },
  {
   "cell_type": "code",
   "execution_count": null,
   "id": "cdac1306",
   "metadata": {
    "scrolled": true
   },
   "outputs": [],
   "source": [
    "for e in jobman.raw_asm_progs:\n",
    "    env=asmparse.envparse(e['7']['env_buffers'][0])\n",
    "    plt.plot(env.real,'r')\n",
    "    plt.plot(env.imag,'b')\n",
    "\n",
    "\n"
   ]
  },
  {
   "cell_type": "code",
   "execution_count": null,
   "id": "3d25d94e-14e7-471c-8901-3f2b6a30bc5d",
   "metadata": {
    "scrolled": true
   },
   "outputs": [],
   "source": [
    "jobman.raw_asm_progs[0]['7']['freq_buffers']"
   ]
  },
  {
   "cell_type": "code",
   "execution_count": null,
   "id": "d0d65d4a",
   "metadata": {},
   "outputs": [],
   "source": [
    "fp=asmparse.freqparse(jobman.raw_asm_progs[0]['7']['freq_buffers'][0])\n",
    "freq=fp['freq']\n",
    "fiq=fp['iq15']\n",
    "plt.plot(freq,'*')\n",
    "print(freq/1e6)"
   ]
  },
  {
   "cell_type": "code",
   "execution_count": null,
   "id": "ba05a2c1-57cc-40e4-9117-e9d2a4310739",
   "metadata": {},
   "outputs": [],
   "source": [
    "fp"
   ]
  },
  {
   "cell_type": "code",
   "execution_count": null,
   "id": "544d214f",
   "metadata": {},
   "outputs": [],
   "source": [
    "i=0\n",
    "plt.plot(fiq[i].real,fiq[i].imag,'*-',alpha=0.3)\n",
    "plt.plot(fiq[i][0].real,fiq[i][0].imag,'r*')\n",
    "plt.plot(fiq[i][1].real,fiq[i][1].imag,'g*')\n",
    "plt.plot(fiq[i][2].real,fiq[i][2].imag,'b*')\n",
    "plt.plot(fiq[i][-1].real,fiq[i][-1].imag,'k*')\n",
    "plt.gca().set_aspect('equal')"
   ]
  },
  {
   "cell_type": "code",
   "execution_count": null,
   "id": "b478ce26-5d7c-4438-8e6b-0b667838a4d9",
   "metadata": {},
   "outputs": [],
   "source": [
    "asmparse.envparse("
   ]
  },
  {
   "cell_type": "code",
   "execution_count": null,
   "id": "3cb61f17-1b93-4029-a124-8a3fa254b27e",
   "metadata": {},
   "outputs": [],
   "source": [
    "qchip = qc.QChip(qchippath+'qubitcfg.json')\n",
    "q='Q0'\n",
    "circuits= []\n",
    "circuit=[]\n",
    "circuit.append({'name': 'rabi3_cos', 'qubit': q})\n",
    "circuits.append(circuit)"
   ]
  },
  {
   "cell_type": "code",
   "execution_count": null,
   "id": "6d249b76-c759-498f-9292-8bb28a391e46",
   "metadata": {},
   "outputs": [],
   "source": [
    "circuits"
   ]
  },
  {
   "cell_type": "code",
   "execution_count": null,
   "id": "b45421aa-ca26-424b-a4a8-04f8f797dee8",
   "metadata": {},
   "outputs": [],
   "source": [
    "output_dict=jobman.collect_all(program_list=circuits,num_shots_per_circuit=200,reads_per_shot=1,qchip=qchip)"
   ]
  },
  {
   "cell_type": "code",
   "execution_count": null,
   "id": "d770f46a-89ec-4973-9a6b-7e1a7ea34d4c",
   "metadata": {},
   "outputs": [],
   "source": [
    "circuits"
   ]
  },
  {
   "cell_type": "code",
   "execution_count": null,
   "id": "c3e5a8f8-2b8a-497b-b1df-001b3b58640e",
   "metadata": {},
   "outputs": [],
   "source": [
    "qchip.gates['Q0rabi3_cos'].contents[0].twidth"
   ]
  },
  {
   "cell_type": "markdown",
   "id": "dce9e333-2fa3-4eaf-92e3-2f512316c8a6",
   "metadata": {},
   "source": [
    "# Rabi"
   ]
  },
  {
   "cell_type": "code",
   "execution_count": null,
   "id": "54ac5575-aa46-40ad-a6ed-5e932ef74d95",
   "metadata": {},
   "outputs": [],
   "source": [
    "import chipcalibration.rabi1 as rabi\n",
    "reload(rabi)\n",
    "import qubitconfig.qchip as qc\n",
    "#reload(qc)\n",
    "\n",
    "from chipcalibration.rabi1 import rabi\n",
    "qchip = qc.QChip(qchippath+'qubitcfg.json')\n",
    "q='Q0'\n",
    "#irabi=rabi(qubit=q,qchip=qchip,rabigate='rabi3_cos_ef')\n",
    "irabi=rabi(qubit=q,qchip=qchip,rabigate='rabi_ef')"
   ]
  },
  {
   "cell_type": "markdown",
   "id": "64a4af7a-72ad-4029-b262-da83461234be",
   "metadata": {
    "jp-MarkdownHeadingCollapsed": true
   },
   "source": [
    "## rabi amp"
   ]
  },
  {
   "cell_type": "code",
   "execution_count": null,
   "id": "f5199807-088f-43eb-aec6-ef83c8fef6fa",
   "metadata": {},
   "outputs": [],
   "source": [
    "irabi.rabiamp(amps=np.linspace(0,1,50),nrepeat=1)"
   ]
  },
  {
   "cell_type": "code",
   "execution_count": null,
   "id": "d3757993-bf0a-46bd-894b-71540db5c7ee",
   "metadata": {
    "scrolled": true
   },
   "outputs": [],
   "source": [
    "tstart=time.time()\n",
    "irabi.run_and_report(jobmanager=jobman,num_shots_per_circuit=500)\n",
    "print('time',time.time()-tstart)"
   ]
  },
  {
   "cell_type": "code",
   "execution_count": null,
   "id": "d8a725cd-e1ae-4e67-ac53-b66703ab5c65",
   "metadata": {},
   "outputs": [],
   "source": [
    "plt.plot(irabi.x,irabi.p1,'*')\n",
    "plt.title(q)"
   ]
  },
  {
   "cell_type": "code",
   "execution_count": null,
   "id": "e0c56314-ee11-4ba7-9971-cdc60220a87c",
   "metadata": {},
   "outputs": [],
   "source": [
    "labels=jobman.gmm_manager.gmm_dict[q].labels\n",
    "for q in qubits:\n",
    "    l1=irabi.raw_IQ[str(channel_configs[q+'.rdrv'].core_ind)].reshape([-1,1])\n",
    "    plt.hexbin(l1.real,l1.imag,bins='log')\n",
    "    #plt.plot(l1.real,l1.imag,'.')\n",
    "    c0=jobman.gmm_manager.gmm_dict[q].gmmfit.means_[0]\n",
    "    #c0=g.means_[0]\n",
    "    plt.plot(c0[0],c0[1],marker='$%s$'%labels[0],color='red')\n",
    "    c1=jobman.gmm_manager.gmm_dict[q].gmmfit.means_[1]\n",
    "    #c1=g.means_[1]\n",
    "    plt.plot(c1[0],c1[1],marker='$%s$'%labels[1],color='red')\n",
    "    c2=jobman.gmm_manager.gmm_dict[q].gmmfit.means_[2]\n",
    "    # c1=g.means_[1]\n",
    "    plt.plot(c2[0],c2[1],marker='$%s$'%labels[2],color='red')\n",
    "    plt.colorbar()\n",
    "    plt.title(q)\n",
    "    plt.grid()\n",
    "    plt.show()"
   ]
  },
  {
   "cell_type": "markdown",
   "id": "0d4a6a03-e6ac-4a08-bb17-a2d83c7f2137",
   "metadata": {},
   "source": [
    "## rabi amp ef"
   ]
  },
  {
   "cell_type": "code",
   "execution_count": null,
   "id": "5bce4dc2-8b0e-4107-ab5a-a795a31956c9",
   "metadata": {},
   "outputs": [],
   "source": [
    "irabi.rabiamp(amps=np.linspace(0,1,50),nrepeat=4, ef=True, ef_rotate_back=True)"
   ]
  },
  {
   "cell_type": "code",
   "execution_count": null,
   "id": "cdb73414-731c-4a7f-b741-da3aa82a7e6c",
   "metadata": {},
   "outputs": [],
   "source": [
    "tstart=time.time()\n",
    "irabi.run_and_report(jobmanager=jobman,num_shots_per_circuit=500)\n",
    "print('time',time.time()-tstart)"
   ]
  },
  {
   "cell_type": "code",
   "execution_count": null,
   "id": "e80a5d24-b115-4363-a962-e28fcf8814aa",
   "metadata": {},
   "outputs": [],
   "source": [
    "plt.plot(irabi.x,irabi.p1,'*')\n",
    "plt.grid()\n",
    "plt.title(q)"
   ]
  },
  {
   "cell_type": "code",
   "execution_count": null,
   "id": "4764dab1-cb1a-4c34-b08d-cfe524fce876",
   "metadata": {},
   "outputs": [],
   "source": [
    "labels=jobman.gmm_manager.gmm_dict[q].labels\n",
    "for q in qubits:\n",
    "    l1=irabi.raw_IQ[str(channel_configs[q+'.rdrv'].core_ind)].reshape([-1,1])\n",
    "    plt.hexbin(l1.real,l1.imag,bins='log')\n",
    "    #plt.plot(l1.real,l1.imag,'.')\n",
    "    c0=jobman.gmm_manager.gmm_dict[q].gmmfit.means_[0]\n",
    "    #c0=g.means_[0]\n",
    "    plt.plot(c0[0],c0[1],marker='$%s$'%labels[0],color='red')\n",
    "    c1=jobman.gmm_manager.gmm_dict[q].gmmfit.means_[1]\n",
    "    #c1=g.means_[1]\n",
    "    plt.plot(c1[0],c1[1],marker='$%s$'%labels[1],color='red')\n",
    "    c2=jobman.gmm_manager.gmm_dict[q].gmmfit.means_[2]\n",
    "    # c1=g.means_[1]\n",
    "    plt.plot(c2[0],c2[1],marker='$%s$'%labels[2],color='red')\n",
    "    plt.colorbar()\n",
    "    plt.title(q)\n",
    "    plt.grid()\n",
    "    plt.show()"
   ]
  },
  {
   "cell_type": "markdown",
   "id": "bb9574b9-0e7e-4f95-b983-dca51baf395c",
   "metadata": {},
   "source": [
    "## rabi time"
   ]
  },
  {
   "cell_type": "code",
   "execution_count": null,
   "id": "a3917b62-834c-4b7d-9ab2-a8291953d27f",
   "metadata": {
    "scrolled": true
   },
   "outputs": [],
   "source": [
    "irabi.rabitime(twidths=np.linspace(0e-9,600e-9,100))"
   ]
  },
  {
   "cell_type": "code",
   "execution_count": null,
   "id": "02a4ab96-197f-4b9b-8373-ceb3d259708c",
   "metadata": {},
   "outputs": [],
   "source": [
    "irabi.circuits[0]"
   ]
  },
  {
   "cell_type": "code",
   "execution_count": null,
   "id": "732694e8-9aee-40ce-b302-0113517d7aa9",
   "metadata": {},
   "outputs": [],
   "source": [
    "%%time\n",
    "irabi.run_and_report(jobmanager=jobman,num_shots_per_circuit=100)"
   ]
  },
  {
   "cell_type": "code",
   "execution_count": null,
   "id": "b5b13617-fd40-4306-b183-95faa4b5db7c",
   "metadata": {},
   "outputs": [],
   "source": [
    "%%time\n",
    "irabi.output_dict"
   ]
  },
  {
   "cell_type": "code",
   "execution_count": null,
   "id": "7e7d17cf-8c62-4c1f-9486-9437eeda36e9",
   "metadata": {},
   "outputs": [],
   "source": [
    "plt.plot(irabi.x,irabi.p1,'*-')"
   ]
  },
  {
   "cell_type": "code",
   "execution_count": null,
   "id": "eec31d30-1831-43a0-8785-f2d44cee5084",
   "metadata": {},
   "outputs": [],
   "source": [
    "debug"
   ]
  },
  {
   "cell_type": "code",
   "execution_count": null,
   "id": "d85ea889-e913-4f48-8578-8a4555516dba",
   "metadata": {},
   "outputs": [],
   "source": [
    "tc?"
   ]
  },
  {
   "cell_type": "code",
   "execution_count": null,
   "id": "3bc9bb93-5f0d-4752-b193-fa37e037980e",
   "metadata": {},
   "outputs": [],
   "source": [
    "import qubic.toolchain as tc"
   ]
  },
  {
   "cell_type": "code",
   "execution_count": null,
   "id": "cf5c0e69-8aa0-4708-8bc8-920fa5960bdf",
   "metadata": {},
   "outputs": [],
   "source": [
    "cp=tc.run_compile_stage(irabi.circuits,fpga_config,qchip)\n",
    "ap=tc.run_assemble_stage(cp,channel_configs)"
   ]
  },
  {
   "cell_type": "code",
   "execution_count": null,
   "id": "c6f7f951-ffc4-4192-84b0-9e25e7c80692",
   "metadata": {},
   "outputs": [],
   "source": [
    "irabi.circuits"
   ]
  },
  {
   "cell_type": "code",
   "execution_count": null,
   "id": "15d9a445-877f-441b-8160-96703ee25037",
   "metadata": {
    "scrolled": true
   },
   "outputs": [],
   "source": [
    "asmparse.cmdparse(ap[0]['7']['cmd_buf'])"
   ]
  },
  {
   "cell_type": "code",
   "execution_count": null,
   "id": "6c766889-aed6-4105-8ced-471c3fd097e8",
   "metadata": {},
   "outputs": [],
   "source": [
    "len(ap[0]['7']['cmd_buf'])"
   ]
  },
  {
   "cell_type": "code",
   "execution_count": null,
   "id": "9d00fa60-0172-4248-8a6f-32a945102cf9",
   "metadata": {},
   "outputs": [],
   "source": [
    "ap[0]['7']['cmd_buf']"
   ]
  },
  {
   "cell_type": "code",
   "execution_count": null,
   "id": "b921a3bd-6306-4b3e-99bc-62c2b8bee63e",
   "metadata": {},
   "outputs": [],
   "source": [
    "g=jobman.gmm_manager.gmm_dict['Q0']\n",
    "for prop in dir(g):\n",
    "    print(prop,'===',getattr(g,prop))"
   ]
  },
  {
   "cell_type": "code",
   "execution_count": null,
   "id": "1e4c1b68-e432-47d7-921e-f1217ad05f32",
   "metadata": {},
   "outputs": [],
   "source": [
    "isinstance(gmm.gmm_dict['Q0'].gmmfit.__dict__['means_'],np.ndarray)\n"
   ]
  },
  {
   "cell_type": "code",
   "execution_count": null,
   "id": "ce0609d5-7d77-4f3e-b825-0113fc1ac6a0",
   "metadata": {},
   "outputs": [],
   "source": [
    "gmmdict={}\n",
    "for q,o in gmm.gmm_dict.items():\n",
    "    gmmdict[q]=dict(labels=o.labels.tolist(),gmm={k:v.tolist() if isinstance(v,np.ndarray) else v for k,v in o.gmmfit.__dict__.items()})\n",
    "    print(q,gmmdict[q])"
   ]
  },
  {
   "cell_type": "code",
   "execution_count": null,
   "id": "a93f8c66-9e5f-4a5a-b137-1ca77404a0a7",
   "metadata": {},
   "outputs": [],
   "source": []
  },
  {
   "cell_type": "code",
   "execution_count": null,
   "id": "3ca72194-899b-43f6-aa4f-e732c4b224f5",
   "metadata": {},
   "outputs": [],
   "source": [
    "from sklearn import mixture\n",
    "gtest=mixture.GaussianMixture()\n",
    "q0gmm=jobman.gmm_manager.gmm_dict['Q0']\n",
    "print(q0gmm.gmmfit.__dict__.keys())\n",
    "for k,v in q0gmm.gmmfit.__dict__.items():\n",
    "    setattr(gtest,k,v)"
   ]
  },
  {
   "cell_type": "code",
   "execution_count": null,
   "id": "4e447be8-73be-42e2-b09d-5dd3ff105ab1",
   "metadata": {},
   "outputs": [],
   "source": [
    "for k,v in gtest.__dict__.items():\n",
    "    print(k,v==q0gmm.gmmfit.__dict__[k])"
   ]
  },
  {
   "cell_type": "code",
   "execution_count": null,
   "id": "b17d0426-b46c-49b7-8618-196eb956d608",
   "metadata": {},
   "outputs": [],
   "source": [
    "json.dumps(gmmdict)"
   ]
  },
  {
   "cell_type": "code",
   "execution_count": null,
   "id": "77c441d1-8a6d-4d5f-a9e1-da9f3fbf228e",
   "metadata": {},
   "outputs": [],
   "source": [
    "with open(qchippath+'gmm.json','w') as gmmjsonfile:\n",
    "    json.dump(gmmdict,gmmjsonfile,indent=4)"
   ]
  },
  {
   "cell_type": "code",
   "execution_count": null,
   "id": "a1d5e537-a759-4bbf-82ac-26b4ab36e7ee",
   "metadata": {},
   "outputs": [],
   "source": [
    "with open(qchippath+'gmm.json') as gmmjsonfile:\n",
    "    t=json.load(gmmjsonfile)"
   ]
  },
  {
   "cell_type": "code",
   "execution_count": null,
   "id": "2635dd0b-a780-4b0d-8da4-c3e9d1283ca4",
   "metadata": {},
   "outputs": [],
   "source": [
    "json.dumps(gmmdict)"
   ]
  },
  {
   "cell_type": "code",
   "execution_count": null,
   "id": "280a085c-49a5-4847-8c9c-d585785a9450",
   "metadata": {},
   "outputs": [],
   "source": [
    "{k:v.tolist() if isinstance(v,np.ndarray) else v for k,v in gmmdict['Q0']['gmm'].items()}"
   ]
  },
  {
   "cell_type": "code",
   "execution_count": null,
   "id": "ec52a649-18ba-44b3-83e5-de363da31077",
   "metadata": {
    "scrolled": true
   },
   "outputs": [],
   "source": [
    "gmm.gmm_dict['Q0'].gmmfit._"
   ]
  },
  {
   "cell_type": "code",
   "execution_count": null,
   "id": "d513a3c5-118d-4eeb-8e4c-eb0350ab1319",
   "metadata": {},
   "outputs": [],
   "source": []
  }
 ],
 "metadata": {
  "kernelspec": {
   "display_name": "qubic",
   "language": "python",
   "name": "qubic"
  },
  "language_info": {
   "codemirror_mode": {
    "name": "ipython",
    "version": 3
   },
   "file_extension": ".py",
   "mimetype": "text/x-python",
   "name": "python",
   "nbconvert_exporter": "python",
   "pygments_lexer": "ipython3",
   "version": "3.10.13"
  }
 },
 "nbformat": 4,
 "nbformat_minor": 5
}
