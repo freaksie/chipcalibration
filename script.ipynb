{
 "cells": [
  {
   "cell_type": "code",
   "execution_count": null,
   "metadata": {},
   "outputs": [],
   "source": [
    "import numpy as np\n",
    "import matplotlib.pyplot as plt\n",
    "from importlib import reload\n",
    "import time\n",
    "from scipy.optimize import curve_fit,fminbound\n",
    "import json\n",
    "import switchbox\n",
    "import chipcalibration.chipcalibration.punchout as po\n",
    "from distproc.hwconfig import FPGAConfig, load_channel_configs\n",
    "import qubitconfig.qchip as qc\n",
    "from distproc import asmparse\n",
    "import qubic.rpc_client as rc\n",
    "import qubic.job_manager as jm\n",
    "import qubic.state_disc as sd\n",
    "import qubic.state_disc as sd\n",
    "from IPython.display import clear_output\n",
    "\n",
    "def run(qchip, ramp, fpga_config, channel_configs):\n",
    "    reload(po)\n",
    "    qubits = ['Q1']\n",
    "    punchout = po.Punchout(qchip, fpga_config, channel_configs, qubits, n_freq=400, freq_bandwidth=6.e6,\n",
    "                        atten_start=10, atten_stop=40, atten_step=1)\n",
    "    punchout.run(runner)\n",
    "    qchip = qc.QChip(qchippath+'/qubitcfg.json')\n",
    "    punchout.run_punchout_gui(qchip,ramp)\n",
    "chip='X4Y2'\n",
    "board='sian'\n",
    "print(board,chip)\n",
    "total_duration = 10 * 60 * 60\n",
    "interval = 10 * 60\n",
    "start_time = time.time()\n",
    "while time.time() - start_time < total_duration:\n",
    "    ramps=['0.25','0.1','0.05']\n",
    "    for ramp in ramps:\n",
    "        print(\"On \"+ramp)\n",
    "        qchippath='/home/neelvora/readout/chipcalibration/submodules/qchip/X4Y2/sian/%s'%(ramp)\n",
    "        fpga_config = FPGAConfig(**{'fpga_clk_period': 2.e-9, 'alu_instr_clks': 5, \n",
    "                                    'jump_cond_clks': 5, 'jump_fproc_clks': 5, \n",
    "                                    'pulse_regwrite_clks': 3, 'pulse_load_clks': 4})\n",
    "        channel_configs = load_channel_configs(qchippath+'/channel_config.json')\n",
    "        qchip = qc.QChip(qchippath+'/qubitcfg.json')\n",
    "        reload(rc)\n",
    "        runner = rc.CircuitRunnerClient(ip='192.168.1.25', port=9097)\n",
    "        jobman = jm.JobManager(fpga_config, channel_configs, runner, qchip)\n",
    "        run(qchip,ramp,fpga_config,channel_configs)\n",
    "    clear_output(wait=True)\n",
    "    print('sleeping')\n",
    "    time.sleep(interval)\n",
    "    clear_output(wait=True)\n",
    "print(\"Loop completed after 10 hours.\")\n",
    "    "
   ]
  },
  {
   "cell_type": "code",
   "execution_count": null,
   "metadata": {},
   "outputs": [],
   "source": []
  }
 ],
 "metadata": {
  "kernelspec": {
   "display_name": "qubic",
   "language": "python",
   "name": "qubic"
  },
  "language_info": {
   "codemirror_mode": {
    "name": "ipython",
    "version": 3
   },
   "file_extension": ".py",
   "mimetype": "text/x-python",
   "name": "python",
   "nbconvert_exporter": "python",
   "pygments_lexer": "ipython3",
   "version": "3.10.13"
  }
 },
 "nbformat": 4,
 "nbformat_minor": 2
}
